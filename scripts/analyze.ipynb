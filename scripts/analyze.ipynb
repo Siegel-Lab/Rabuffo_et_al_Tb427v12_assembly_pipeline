{
 "cells": [
  {
   "cell_type": "markdown",
   "metadata": {},
   "source": [
    "# Analyzing the improved genome assembly"
   ]
  },
  {
   "cell_type": "markdown",
   "metadata": {},
   "source": [
    "## run the notebook serve on a client node\n",
    "\n",
    "```\n",
    "    srun --pty --nodes=1  --ntasks-per-node=1 --cpus-per-task=28 --time 100:00:00 --job-name bash-jupyter bash\n",
    "    conda activate ont_assembly\n",
    "    jupyter notebook --ip 0.0.0.0 --port 3001 --no-browser\n",
    "```"
   ]
  },
  {
   "cell_type": "markdown",
   "metadata": {},
   "source": [
    "## bokeh imports"
   ]
  },
  {
   "cell_type": "code",
   "execution_count": 1,
   "metadata": {},
   "outputs": [
    {
     "data": {
      "text/html": [
       "<style>\n",
       "        .bk-notebook-logo {\n",
       "            display: block;\n",
       "            width: 20px;\n",
       "            height: 20px;\n",
       "            background-image: url(data:image/png;base64,iVBORw0KGgoAAAANSUhEUgAAABQAAAAUCAYAAACNiR0NAAAABHNCSVQICAgIfAhkiAAAAAlwSFlzAAALEgAACxIB0t1+/AAAABx0RVh0U29mdHdhcmUAQWRvYmUgRmlyZXdvcmtzIENTNui8sowAAAOkSURBVDiNjZRtaJVlGMd/1/08zzln5zjP1LWcU9N0NkN8m2CYjpgQYQXqSs0I84OLIC0hkEKoPtiH3gmKoiJDU7QpLgoLjLIQCpEsNJ1vqUOdO7ppbuec5+V+rj4ctwzd8IIbbi6u+8f1539dt3A78eXC7QizUF7gyV1fD1Yqg4JWz84yffhm0qkFqBogB9rM8tZdtwVsPUhWhGcFJngGeWrPzHm5oaMmkfEg1usvLFyc8jLRqDOMru7AyC8saQr7GG7f5fvDeH7Ej8CM66nIF+8yngt6HWaKh7k49Soy9nXurCi1o3qUbS3zWfrYeQDTB/Qj6kX6Ybhw4B+bOYoLKCC9H3Nu/leUTZ1JdRWkkn2ldcCamzrcf47KKXdAJllSlxAOkRgyHsGC/zRday5Qld9DyoM4/q/rUoy/CXh3jzOu3bHUVZeU+DEn8FInkPBFlu3+nW3Nw0mk6vCDiWg8CeJaxEwuHS3+z5RgY+YBR6V1Z1nxSOfoaPa4LASWxxdNp+VWTk7+4vzaou8v8PN+xo+KY2xsw6une2frhw05CTYOmQvsEhjhWjn0bmXPjpE1+kplmmkP3suftwTubK9Vq22qKmrBhpY4jvd5afdRA3wGjFAgcnTK2s4hY0/GPNIb0nErGMCRxWOOX64Z8RAC4oCXdklmEvcL8o0BfkNK4lUg9HTl+oPlQxdNo3Mg4Nv175e/1LDGzZen30MEjRUtmXSfiTVu1kK8W4txyV6BMKlbgk3lMwYCiusNy9fVfvvwMxv8Ynl6vxoByANLTWplvuj/nF9m2+PDtt1eiHPBr1oIfhCChQMBw6Aw0UulqTKZdfVvfG7VcfIqLG9bcldL/+pdWTLxLUy8Qq38heUIjh4XlzZxzQm19lLFlr8vdQ97rjZVOLf8nclzckbcD4wxXMidpX30sFd37Fv/GtwwhzhxGVAprjbg0gCAEeIgwCZyTV2Z1REEW8O4py0wsjeloKoMr6iCY6dP92H6Vw/oTyICIthibxjm/DfN9lVz8IqtqKYLUXfoKVMVQVVJOElGjrnnUt9T9wbgp8AyYKaGlqingHZU/uG2NTZSVqwHQTWkx9hxjkpWDaCg6Ckj5qebgBVbT3V3NNXMSiWSDdGV3hrtzla7J+duwPOToIg42ChPQOQjspnSlp1V+Gjdged7+8UN5CRAV7a5EdFNwCjEaBR27b3W890TE7g24NAP/mMDXRWrGoFPQI9ls/MWO2dWFAar/xcOIImbbpA3zgAAAABJRU5ErkJggg==);\n",
       "        }\n",
       "    </style>\n",
       "    <div>\n",
       "        <a href=\"https://bokeh.org\" target=\"_blank\" class=\"bk-notebook-logo\"></a>\n",
       "        <span id=\"ace459bd-75fa-40b2-9284-4af814730f63\">Loading BokehJS ...</span>\n",
       "    </div>\n"
      ]
     },
     "metadata": {},
     "output_type": "display_data"
    },
    {
     "data": {
      "application/javascript": "(function(root) {\n  function now() {\n    return new Date();\n  }\n\n  const force = true;\n\n  if (typeof root._bokeh_onload_callbacks === \"undefined\" || force === true) {\n    root._bokeh_onload_callbacks = [];\n    root._bokeh_is_loading = undefined;\n  }\n\nconst JS_MIME_TYPE = 'application/javascript';\n  const HTML_MIME_TYPE = 'text/html';\n  const EXEC_MIME_TYPE = 'application/vnd.bokehjs_exec.v0+json';\n  const CLASS_NAME = 'output_bokeh rendered_html';\n\n  /**\n   * Render data to the DOM node\n   */\n  function render(props, node) {\n    const script = document.createElement(\"script\");\n    node.appendChild(script);\n  }\n\n  /**\n   * Handle when an output is cleared or removed\n   */\n  function handleClearOutput(event, handle) {\n    function drop(id) {\n      const view = Bokeh.index.get_by_id(id)\n      if (view != null) {\n        view.model.document.clear()\n        Bokeh.index.delete(view)\n      }\n    }\n\n    const cell = handle.cell;\n\n    const id = cell.output_area._bokeh_element_id;\n    const server_id = cell.output_area._bokeh_server_id;\n\n    // Clean up Bokeh references\n    if (id != null) {\n      drop(id)\n    }\n\n    if (server_id !== undefined) {\n      // Clean up Bokeh references\n      const cmd_clean = \"from bokeh.io.state import curstate; print(curstate().uuid_to_server['\" + server_id + \"'].get_sessions()[0].document.roots[0]._id)\";\n      cell.notebook.kernel.execute(cmd_clean, {\n        iopub: {\n          output: function(msg) {\n            const id = msg.content.text.trim()\n            drop(id)\n          }\n        }\n      });\n      // Destroy server and session\n      const cmd_destroy = \"import bokeh.io.notebook as ion; ion.destroy_server('\" + server_id + \"')\";\n      cell.notebook.kernel.execute(cmd_destroy);\n    }\n  }\n\n  /**\n   * Handle when a new output is added\n   */\n  function handleAddOutput(event, handle) {\n    const output_area = handle.output_area;\n    const output = handle.output;\n\n    // limit handleAddOutput to display_data with EXEC_MIME_TYPE content only\n    if ((output.output_type != \"display_data\") || (!Object.prototype.hasOwnProperty.call(output.data, EXEC_MIME_TYPE))) {\n      return\n    }\n\n    const toinsert = output_area.element.find(\".\" + CLASS_NAME.split(' ')[0]);\n\n    if (output.metadata[EXEC_MIME_TYPE][\"id\"] !== undefined) {\n      toinsert[toinsert.length - 1].firstChild.textContent = output.data[JS_MIME_TYPE];\n      // store reference to embed id on output_area\n      output_area._bokeh_element_id = output.metadata[EXEC_MIME_TYPE][\"id\"];\n    }\n    if (output.metadata[EXEC_MIME_TYPE][\"server_id\"] !== undefined) {\n      const bk_div = document.createElement(\"div\");\n      bk_div.innerHTML = output.data[HTML_MIME_TYPE];\n      const script_attrs = bk_div.children[0].attributes;\n      for (let i = 0; i < script_attrs.length; i++) {\n        toinsert[toinsert.length - 1].firstChild.setAttribute(script_attrs[i].name, script_attrs[i].value);\n        toinsert[toinsert.length - 1].firstChild.textContent = bk_div.children[0].textContent\n      }\n      // store reference to server id on output_area\n      output_area._bokeh_server_id = output.metadata[EXEC_MIME_TYPE][\"server_id\"];\n    }\n  }\n\n  function register_renderer(events, OutputArea) {\n\n    function append_mime(data, metadata, element) {\n      // create a DOM node to render to\n      const toinsert = this.create_output_subarea(\n        metadata,\n        CLASS_NAME,\n        EXEC_MIME_TYPE\n      );\n      this.keyboard_manager.register_events(toinsert);\n      // Render to node\n      const props = {data: data, metadata: metadata[EXEC_MIME_TYPE]};\n      render(props, toinsert[toinsert.length - 1]);\n      element.append(toinsert);\n      return toinsert\n    }\n\n    /* Handle when an output is cleared or removed */\n    events.on('clear_output.CodeCell', handleClearOutput);\n    events.on('delete.Cell', handleClearOutput);\n\n    /* Handle when a new output is added */\n    events.on('output_added.OutputArea', handleAddOutput);\n\n    /**\n     * Register the mime type and append_mime function with output_area\n     */\n    OutputArea.prototype.register_mime_type(EXEC_MIME_TYPE, append_mime, {\n      /* Is output safe? */\n      safe: true,\n      /* Index of renderer in `output_area.display_order` */\n      index: 0\n    });\n  }\n\n  // register the mime type if in Jupyter Notebook environment and previously unregistered\n  if (root.Jupyter !== undefined) {\n    const events = require('base/js/events');\n    const OutputArea = require('notebook/js/outputarea').OutputArea;\n\n    if (OutputArea.prototype.mime_types().indexOf(EXEC_MIME_TYPE) == -1) {\n      register_renderer(events, OutputArea);\n    }\n  }\n  if (typeof (root._bokeh_timeout) === \"undefined\" || force === true) {\n    root._bokeh_timeout = Date.now() + 5000;\n    root._bokeh_failed_load = false;\n  }\n\n  const NB_LOAD_WARNING = {'data': {'text/html':\n     \"<div style='background-color: #fdd'>\\n\"+\n     \"<p>\\n\"+\n     \"BokehJS does not appear to have successfully loaded. If loading BokehJS from CDN, this \\n\"+\n     \"may be due to a slow or bad network connection. Possible fixes:\\n\"+\n     \"</p>\\n\"+\n     \"<ul>\\n\"+\n     \"<li>re-rerun `output_notebook()` to attempt to load from CDN again, or</li>\\n\"+\n     \"<li>use INLINE resources instead, as so:</li>\\n\"+\n     \"</ul>\\n\"+\n     \"<code>\\n\"+\n     \"from bokeh.resources import INLINE\\n\"+\n     \"output_notebook(resources=INLINE)\\n\"+\n     \"</code>\\n\"+\n     \"</div>\"}};\n\n  function display_loaded() {\n    const el = document.getElementById(\"ace459bd-75fa-40b2-9284-4af814730f63\");\n    if (el != null) {\n      el.textContent = \"BokehJS is loading...\";\n    }\n    if (root.Bokeh !== undefined) {\n      if (el != null) {\n        el.textContent = \"BokehJS \" + root.Bokeh.version + \" successfully loaded.\";\n      }\n    } else if (Date.now() < root._bokeh_timeout) {\n      setTimeout(display_loaded, 100)\n    }\n  }\n\n  function run_callbacks() {\n    try {\n      root._bokeh_onload_callbacks.forEach(function(callback) {\n        if (callback != null)\n          callback();\n      });\n    } finally {\n      delete root._bokeh_onload_callbacks\n    }\n    console.debug(\"Bokeh: all callbacks have finished\");\n  }\n\n  function load_libs(css_urls, js_urls, callback) {\n    if (css_urls == null) css_urls = [];\n    if (js_urls == null) js_urls = [];\n\n    root._bokeh_onload_callbacks.push(callback);\n    if (root._bokeh_is_loading > 0) {\n      console.debug(\"Bokeh: BokehJS is being loaded, scheduling callback at\", now());\n      return null;\n    }\n    if (js_urls == null || js_urls.length === 0) {\n      run_callbacks();\n      return null;\n    }\n    console.debug(\"Bokeh: BokehJS not loaded, scheduling load and callback at\", now());\n    root._bokeh_is_loading = css_urls.length + js_urls.length;\n\n    function on_load() {\n      root._bokeh_is_loading--;\n      if (root._bokeh_is_loading === 0) {\n        console.debug(\"Bokeh: all BokehJS libraries/stylesheets loaded\");\n        run_callbacks()\n      }\n    }\n\n    function on_error(url) {\n      console.error(\"failed to load \" + url);\n    }\n\n    for (let i = 0; i < css_urls.length; i++) {\n      const url = css_urls[i];\n      const element = document.createElement(\"link\");\n      element.onload = on_load;\n      element.onerror = on_error.bind(null, url);\n      element.rel = \"stylesheet\";\n      element.type = \"text/css\";\n      element.href = url;\n      console.debug(\"Bokeh: injecting link tag for BokehJS stylesheet: \", url);\n      document.body.appendChild(element);\n    }\n\n    for (let i = 0; i < js_urls.length; i++) {\n      const url = js_urls[i];\n      const element = document.createElement('script');\n      element.onload = on_load;\n      element.onerror = on_error.bind(null, url);\n      element.async = false;\n      element.src = url;\n      console.debug(\"Bokeh: injecting script tag for BokehJS library: \", url);\n      document.head.appendChild(element);\n    }\n  };\n\n  function inject_raw_css(css) {\n    const element = document.createElement(\"style\");\n    element.appendChild(document.createTextNode(css));\n    document.body.appendChild(element);\n  }\n\n  const js_urls = [\"https://cdn.bokeh.org/bokeh/release/bokeh-3.3.0.min.js\", \"https://cdn.bokeh.org/bokeh/release/bokeh-gl-3.3.0.min.js\", \"https://cdn.bokeh.org/bokeh/release/bokeh-widgets-3.3.0.min.js\", \"https://cdn.bokeh.org/bokeh/release/bokeh-tables-3.3.0.min.js\", \"https://cdn.bokeh.org/bokeh/release/bokeh-mathjax-3.3.0.min.js\"];\n  const css_urls = [];\n\n  const inline_js = [    function(Bokeh) {\n      Bokeh.set_log_level(\"info\");\n    },\nfunction(Bokeh) {\n    }\n  ];\n\n  function run_inline_js() {\n    if (root.Bokeh !== undefined || force === true) {\n          for (let i = 0; i < inline_js.length; i++) {\n      inline_js[i].call(root, root.Bokeh);\n    }\nif (force === true) {\n        display_loaded();\n      }} else if (Date.now() < root._bokeh_timeout) {\n      setTimeout(run_inline_js, 100);\n    } else if (!root._bokeh_failed_load) {\n      console.log(\"Bokeh: BokehJS failed to load within specified timeout.\");\n      root._bokeh_failed_load = true;\n    } else if (force !== true) {\n      const cell = $(document.getElementById(\"ace459bd-75fa-40b2-9284-4af814730f63\")).parents('.cell').data().cell;\n      cell.output_area.append_execute_result(NB_LOAD_WARNING)\n    }\n  }\n\n  if (root._bokeh_is_loading === 0) {\n    console.debug(\"Bokeh: BokehJS loaded, going straight to plotting\");\n    run_inline_js();\n  } else {\n    load_libs(css_urls, js_urls, function() {\n      console.debug(\"Bokeh: BokehJS plotting callback run at\", now());\n      run_inline_js();\n    });\n  }\n}(window));",
      "application/vnd.bokehjs_load.v0+json": ""
     },
     "metadata": {},
     "output_type": "display_data"
    }
   ],
   "source": [
    "from bokeh.plotting import figure, output_file, save\n",
    "from bokeh.palettes import viridis\n",
    "from bokeh.io import show, output_notebook\n",
    "from bokeh.models import ColumnDataSource, HoverTool, FactorRange, LabelSet, Whisker\n",
    "from bokeh.models.tickers import FixedTicker\n",
    "from bokeh.transform import jitter\n",
    "from bokeh.layouts import column, row, gridplot\n",
    "from math import pi\n",
    "from bokeh.layouts import row\n",
    "import random\n",
    "import re\n",
    "\n",
    "COLOR_PALETTE = [\"#0072B2\", \"#D55E00\", \"#009E73\", \"#E69F00\", \"#CC79A7\", \"#56B4E9\", \"#F0E442\"]\n",
    "\n",
    "output_notebook()"
   ]
  },
  {
   "cell_type": "markdown",
   "metadata": {},
   "source": [
    "## load the data"
   ]
  },
  {
   "cell_type": "code",
   "execution_count": 5,
   "metadata": {},
   "outputs": [],
   "source": [
    "def load_dist_dev(file_name, max_dist=None):\n",
    "    names = []\n",
    "    ret = []\n",
    "    with open(file_name, \"r\") as in_file:\n",
    "        for line in in_file:\n",
    "            if line[0] == \"#\":\n",
    "                continue\n",
    "            else:\n",
    "                # read_name distance_deviation expected_distance chr rpos1 rpos2 strand\n",
    "                readname, distance, expected, chr, pos1, pos2, strnd = line.strip().split()\n",
    "                if max_dist is None or int(distance) < max_dist:\n",
    "                    names.append(readname)\n",
    "                    chr = chr[:-len(\"_Tb427v10\")]\n",
    "                    ret.append([int(distance), int(expected), chr, int(pos1), int(pos2), strnd])\n",
    "    return names, ret\n",
    "\n",
    "ref_names, ref_dev = load_dist_dev(\"../data/out/virtual_paired_read_dist/referece.distance_deviation\")\n",
    "\n",
    "\n",
    "gap_pos = {}\n",
    "\n",
    "with open(\"../data/in/genome_in/HGAP3_Tb427v10_diploid/HGAP3_Tb427v10_diploid_scaffolded.fasta.gaps.gff3\", \"r\") as in_file:\n",
    "    for line in in_file:\n",
    "        if line[0] == \"#\":\n",
    "            continue\n",
    "        contig, source, anno_type, start, end, *extra = line.strip().split()\n",
    "        contig = contig[:-len(\"_Tb427v10\")]\n",
    "        \n",
    "        gap_name = contig + \":\" + str(int(start)//1000) + \"kbp\"\n",
    "        gap_pos[gap_name] = [contig, int(start), int(end)]\n"
   ]
  },
  {
   "cell_type": "markdown",
   "metadata": {},
   "source": [
    "# identify collapsed regions "
   ]
  },
  {
   "cell_type": "markdown",
   "metadata": {},
   "source": [
    "# post process the data"
   ]
  },
  {
   "cell_type": "code",
   "execution_count": 3,
   "metadata": {},
   "outputs": [
    {
     "data": {
      "text/html": [
       "\n",
       "  <div id=\"a6ce3d8d-67b6-4bf6-a008-97c7c517b244\" data-root-id=\"p1001\" style=\"display: contents;\"></div>\n"
      ]
     },
     "metadata": {},
     "output_type": "display_data"
    },
    {
     "data": {
      "application/javascript": "(function(root) {\n  function embed_document(root) {\n  const docs_json = {\"597b527f-dba8-4c8b-a9df-a92b3ee8dc6b\":{\"version\":\"3.3.0\",\"title\":\"Bokeh Application\",\"roots\":[{\"type\":\"object\",\"name\":\"Figure\",\"id\":\"p1001\",\"attributes\":{\"x_range\":{\"type\":\"object\",\"name\":\"DataRange1d\",\"id\":\"p1002\"},\"y_range\":{\"type\":\"object\",\"name\":\"DataRange1d\",\"id\":\"p1003\"},\"x_scale\":{\"type\":\"object\",\"name\":\"LinearScale\",\"id\":\"p1010\"},\"y_scale\":{\"type\":\"object\",\"name\":\"LinearScale\",\"id\":\"p1011\"},\"title\":{\"type\":\"object\",\"name\":\"Title\",\"id\":\"p1008\"},\"renderers\":[{\"type\":\"object\",\"name\":\"GlyphRenderer\",\"id\":\"p1035\",\"attributes\":{\"data_source\":{\"type\":\"object\",\"name\":\"ColumnDataSource\",\"id\":\"p1029\",\"attributes\":{\"selected\":{\"type\":\"object\",\"name\":\"Selection\",\"id\":\"p1030\",\"attributes\":{\"indices\":[],\"line_indices\":[]}},\"selection_policy\":{\"type\":\"object\",\"name\":\"UnionRenderers\",\"id\":\"p1031\"},\"data\":{\"type\":\"map\",\"entries\":[[\"xs\",[[1594131,1760460],[1515481,1559086],[1661618,1701541],[1515344,1547242],[798744,816450],[1626442,1676138],[1765907,1816315],[1335782,1420736],[1740582,1800399],[1508678,1556386],[893549,901282],[1539255,1563402],[1788385,1820690],[1524021,1556297],[1648821,1716416],[1532686,1642610],[886989,928144],[1529828,1551375],[1730950,1848750],[1788119,1827400],[1732899,1843046],[1528484,1569783],[839665,1000871],[808657,817081],[1786615,1820946],[1529506,1558297],[1662583,1708871],[1528498,1550168],[1640016,1677343],[1611650,1682338],[1539223,1562466],[1667577,1676242],[1676197,1739657],[1532551,1547215],[1510634,1569583],[1664254,1712126],[1637327,1676275],[1778229,1854483],[1668158,1706271],[1510724,1556187],[1653678,1679285],[1786847,1853490],[1663243,1714719],[1760321,1836031],[1527433,1566736],[1517870,1553480],[1529365,1552752],[1786112,1814797],[897995,932330],[1741900,1835415],[1647539,1711710],[1784291,1837940],[1530984,1586387],[1513588,1556831],[463340,544417],[876398,906832],[1465403,1478161],[851383,911106],[793011,816859],[1451336,1483455],[1518923,1548643],[1632383,1676137],[1663066,1750271],[1541921,1552468],[1644117,1678019],[868617,967877],[1668962,1846715],[1536179,1562212],[875582,966678],[1776641,1871487],[1647262,1676103],[1542956,1549630],[1655803,1746237],[1522306,1564201],[1635578,1641989],[1762102,1840133],[771254,816855],[1535434,1559371],[1735694,1800513],[1657971,1677087],[1748080,1813627],[1516672,1550834],[1530436,1552579],[1530181,1547174],[1704108,1800344],[1714690,1818204],[1543951,1551318],[1704404,1835931],[809800,815959],[1539673,1579194],[1786195,1812481],[1665621,1679435],[813014,952539],[1535245,1561418],[1527604,1568877],[1785838,1812263],[1709692,1809259],[1664470,1715905],[1788234,1840616],[791748,923782],[810496,817384],[1669029,1700150],[1665867,1676320],[1508688,1620536],[547764,549361],[1783860,1809821],[1539340,1546021],[1539547,1680735],[1605250,1681972],[1525139,1634166],[1620800,1704399],[874516,964907],[1538238,1557350],[1453870,1487272],[449716,492863],[1667385,1777961],[887706,922906],[1516686,1552769],[1542655,1550212],[1514325,1584369],[1533833,1547204],[1535663,1572040],[879428,901391],[1743260,1839012],[893727,918473],[1539102,1660216],[1312598,1487600],[1544047,1638161],[1746102,1839349],[1532628,1547990],[843784,998599],[1520581,1561491],[1669197,1747257],[1661827,1676188],[1664661,1704285],[1778263,1829067],[813929,817544],[1793851,1821916],[1527066,1547166],[902535,959859],[1710114,1838175],[1655398,1744417],[1792996,1822626],[893710,921183],[1768252,1808139],[1648585,1778043],[1511262,1563386],[1764421,1797845],[1573328,1583480],[1540274,1556358],[874794,922583],[1676210,1739506],[1676212,1703450]]],[\"ys\",[[-14103,-14103],[-178,-178],[-14202,-14202],[-189,-189],[-1500,-1500],[-6830,-6830],[-17150,-17150],[-2096,-2096],[-17291,-17291],[-186,-186],[-3050,-3050],[-217,-217],[-17321,-17321],[-195,-195],[-14205,-14205],[-124,-124],[-2991,-2991],[-194,-194],[-17120,-17120],[-17311,-17311],[-16687,-16687],[-208,-208],[-2877,-2877],[-1494,-1494],[-17280,-17280],[-189,-189],[-7337,-7337],[-219,-219],[-14180,-14180],[-14181,-14181],[-186,-186],[-9105,-9105],[-3810,-3810],[-203,-203],[-176,-176],[-14177,-14177],[-10144,-10144],[-12766,-12766],[-13514,-13514],[-123,-123],[-11618,-11618],[-17337,-17337],[-13946,-13946],[-16656,-16656],[-139,-139],[-178,-178],[-173,-173],[-17285,-17285],[-3032,-3032],[-16415,-16415],[-13815,-13815],[-17190,-17190],[-255,-255],[-218,-218],[-1272,-1272],[-2734,-2734],[-6170,-6170],[-2890,-2890],[-1457,-1457],[-6502,-6502],[-227,-227],[-5935,-5935],[-13607,-13607],[-224,-224],[-14216,-14216],[-2979,-2979],[-31372,-31372],[-190,-190],[-2283,-2283],[-17292,-17292],[-12154,-12154],[-241,-241],[-14151,-14151],[-213,-213],[-128,-128],[-17288,-17288],[-1457,-1457],[-203,-203],[-17250,-17250],[-6487,-6487],[-17314,-17314],[-185,-185],[-206,-206],[-181,-181],[-17194,-17194],[-17299,-17299],[-214,-214],[-17258,-17258],[-1487,-1487],[-183,-183],[-17218,-17218],[-14061,-14061],[-226,-226],[-204,-204],[-145,-145],[-17339,-17339],[-17046,-17046],[-14108,-14108],[-17370,-17370],[-221,-221],[-1515,-1515],[-11610,-11610],[-13209,-13209],[-136,-136],[-8798,-8798],[-17339,-17339],[-225,-225],[-14164,-14164],[-13291,-13291],[-165,-165],[-10358,-10358],[-3047,-3047],[-204,-204],[-6502,-6502],[-1300,-1300],[-13612,-13612],[-3018,-3018],[-309,-309],[-178,-178],[-177,-177],[-121,-121],[-214,-214],[-1178,-1178],[-16964,-16964],[-3049,-3049],[-168,-168],[-8518,-8518],[-110,-110],[-17255,-17255],[-206,-206],[-2970,-2970],[-168,-168],[-614,-614],[-12023,-12023],[-14155,-14155],[-17302,-17302],[-1503,-1503],[-17309,-17309],[-170,-170],[-2691,-2691],[-17300,-17300],[-14138,-14138],[-17299,-17299],[-3036,-3036],[-17297,-17297],[-14214,-14214],[-206,-206],[-16632,-16632],[-183,-183],[-216,-216],[-2972,-2972],[-7187,-7187],[-1000,-1000]]]]}}},\"view\":{\"type\":\"object\",\"name\":\"CDSView\",\"id\":\"p1036\",\"attributes\":{\"filter\":{\"type\":\"object\",\"name\":\"AllIndices\",\"id\":\"p1037\"}}},\"glyph\":{\"type\":\"object\",\"name\":\"MultiLine\",\"id\":\"p1032\",\"attributes\":{\"xs\":{\"type\":\"field\",\"field\":\"xs\"},\"ys\":{\"type\":\"field\",\"field\":\"ys\"},\"line_color\":{\"type\":\"value\",\"value\":\"#1f77b4\"}}},\"nonselection_glyph\":{\"type\":\"object\",\"name\":\"MultiLine\",\"id\":\"p1033\",\"attributes\":{\"xs\":{\"type\":\"field\",\"field\":\"xs\"},\"ys\":{\"type\":\"field\",\"field\":\"ys\"},\"line_color\":{\"type\":\"value\",\"value\":\"#1f77b4\"},\"line_alpha\":{\"type\":\"value\",\"value\":0.1}}},\"muted_glyph\":{\"type\":\"object\",\"name\":\"MultiLine\",\"id\":\"p1034\",\"attributes\":{\"xs\":{\"type\":\"field\",\"field\":\"xs\"},\"ys\":{\"type\":\"field\",\"field\":\"ys\"},\"line_color\":{\"type\":\"value\",\"value\":\"#1f77b4\"},\"line_alpha\":{\"type\":\"value\",\"value\":0.2}}}}}],\"toolbar\":{\"type\":\"object\",\"name\":\"Toolbar\",\"id\":\"p1009\",\"attributes\":{\"tools\":[{\"type\":\"object\",\"name\":\"PanTool\",\"id\":\"p1022\"},{\"type\":\"object\",\"name\":\"WheelZoomTool\",\"id\":\"p1023\",\"attributes\":{\"renderers\":\"auto\"}},{\"type\":\"object\",\"name\":\"BoxZoomTool\",\"id\":\"p1024\",\"attributes\":{\"overlay\":{\"type\":\"object\",\"name\":\"BoxAnnotation\",\"id\":\"p1025\",\"attributes\":{\"syncable\":false,\"level\":\"overlay\",\"visible\":false,\"left_units\":\"canvas\",\"right_units\":\"canvas\",\"top_units\":\"canvas\",\"bottom_units\":\"canvas\",\"line_color\":\"black\",\"line_alpha\":1.0,\"line_width\":2,\"line_dash\":[4,4],\"fill_color\":\"lightgrey\",\"fill_alpha\":0.5}}}},{\"type\":\"object\",\"name\":\"SaveTool\",\"id\":\"p1026\"},{\"type\":\"object\",\"name\":\"ResetTool\",\"id\":\"p1027\"},{\"type\":\"object\",\"name\":\"HelpTool\",\"id\":\"p1028\"}]}},\"left\":[{\"type\":\"object\",\"name\":\"LinearAxis\",\"id\":\"p1017\",\"attributes\":{\"ticker\":{\"type\":\"object\",\"name\":\"BasicTicker\",\"id\":\"p1018\",\"attributes\":{\"mantissas\":[1,2,5]}},\"formatter\":{\"type\":\"object\",\"name\":\"BasicTickFormatter\",\"id\":\"p1019\"},\"axis_label\":\"distance deviation\",\"major_label_policy\":{\"type\":\"object\",\"name\":\"AllLabels\",\"id\":\"p1020\"}}}],\"below\":[{\"type\":\"object\",\"name\":\"LinearAxis\",\"id\":\"p1012\",\"attributes\":{\"ticker\":{\"type\":\"object\",\"name\":\"BasicTicker\",\"id\":\"p1013\",\"attributes\":{\"mantissas\":[1,2,5]}},\"formatter\":{\"type\":\"object\",\"name\":\"BasicTickFormatter\",\"id\":\"p1014\"},\"axis_label\":\"genome position\",\"major_label_policy\":{\"type\":\"object\",\"name\":\"AllLabels\",\"id\":\"p1015\"}}}],\"center\":[{\"type\":\"object\",\"name\":\"Grid\",\"id\":\"p1016\",\"attributes\":{\"axis\":{\"id\":\"p1012\"}}},{\"type\":\"object\",\"name\":\"Grid\",\"id\":\"p1021\",\"attributes\":{\"dimension\":1,\"axis\":{\"id\":\"p1017\"}}}]}}]}};\n  const render_items = [{\"docid\":\"597b527f-dba8-4c8b-a9df-a92b3ee8dc6b\",\"roots\":{\"p1001\":\"a6ce3d8d-67b6-4bf6-a008-97c7c517b244\"},\"root_ids\":[\"p1001\"],\"notebook_comms_target\":\"p1038\"}];\n  root.Bokeh.embed.embed_items_notebook(docs_json, render_items);\n  }\n  if (root.Bokeh !== undefined) {\n    embed_document(root);\n  } else {\n    let attempts = 0;\n    const timer = setInterval(function(root) {\n      if (root.Bokeh !== undefined) {\n        clearInterval(timer);\n        embed_document(root);\n      } else {\n        attempts++;\n        if (attempts > 100) {\n          clearInterval(timer);\n          console.log(\"Bokeh: ERROR: Unable to run BokehJS code because BokehJS library is missing\");\n        }\n      }\n    }, 10, root)\n  }\n})(window);",
      "application/vnd.bokehjs_exec.v0+json": ""
     },
     "metadata": {
      "application/vnd.bokehjs_exec.v0+json": {
       "id": "p1001"
      }
     },
     "output_type": "display_data"
    },
    {
     "data": {
      "text/html": [
       "<p><code>&lt;Bokeh Notebook handle for <strong>In[3]</strong>&gt;</code></p>"
      ],
      "text/plain": [
       "<bokeh.io.notebook.CommsHandle at 0x2b2204489ac0>"
      ]
     },
     "execution_count": 3,
     "metadata": {},
     "output_type": "execute_result"
    }
   ],
   "source": [
    "f = figure(x_axis_label=\"genome position\", y_axis_label=\"distance deviation\")\n",
    "\n",
    "xs = []\n",
    "ys = []\n",
    "r_names = []\n",
    "data = []\n",
    "for r_name, (distance, expected, chr, pos1, pos2, strnd) in zip(ref_names, ref_dev):\n",
    "    if distance < -100:\n",
    "        if \"Chr5_A\" in chr: # :1507kbp\n",
    "            xs.append([min(pos1, pos2), max(pos1, pos2)])\n",
    "            ys.append([distance, distance])\n",
    "            r_names.append(r_name)\n",
    "        data.append([chr, min(pos1, pos2), max(pos1, pos2), distance, r_name])\n",
    "\n",
    "f.multi_line(xs=xs, ys=ys)\n",
    "\n",
    "show(f, notebook_handle=True)"
   ]
  },
  {
   "cell_type": "code",
   "execution_count": 6,
   "metadata": {},
   "outputs": [
    {
     "name": "stdout",
     "output_type": "stream",
     "text": [
      "clusters overlapping gaps\n",
      "Chr11_B 4913 - 4959 k\n",
      "Chr11_B 4937 - 4957 k\n",
      "Chr11_B 4946 - 4958 k\n",
      "Chr1_A 943 - 987 k\n",
      "Chr5_A 1662 - 1676 k\n",
      "\n",
      "new clusters\n",
      "BES11 42 - 49 k\n",
      "BES14 11 - 58 k\n",
      "BES17 24 - 61 k\n",
      "Chr10_A 25 - 64 k\n",
      "Chr10_A 5066 - 5068 k\n",
      "Chr10_B 17 - 58 k\n",
      "Chr10_B 36 - 58 k\n",
      "Chr10_B 3101 - 3126 k\n",
      "Chr10_B 5272 - 5303 k\n",
      "Chr10_B 5288 - 5335 k\n",
      "Chr11_A 0 - 10 k\n",
      "Chr11_A 20 - 25 k\n",
      "Chr11_A 574 - 615 k\n",
      "Chr11_A 739 - 783 k\n",
      "Chr11_A 2077 - 2101 k\n",
      "Chr11_A 2130 - 2149 k\n",
      "Chr11_A 2144 - 2153 k\n",
      "Chr11_A 4935 - 4969 k\n",
      "Chr11_A 4954 - 4968 k\n",
      "Chr11_B 4646 - 4665 k\n",
      "Chr11_B 4662 - 4665 k\n",
      "Chr11_B 4725 - 4751 k\n",
      "Chr11_B 4957 - 4958 k\n",
      "Chr11_B 4958 - 4959 k\n",
      "Chr11_B 4979 - 5016 k\n",
      "Chr1_A 948 - 986 k\n",
      "Chr1_A 2856 - 2897 k\n",
      "Chr1_B 1270 - 1289 k\n",
      "Chr1_B 1399 - 1441 k\n",
      "Chr2_A 585 - 627 k\n",
      "Chr2_B 370 - 404 k\n",
      "Chr3_A 462 - 476 k\n",
      "Chr3_A 476 - 495 k\n",
      "Chr3_A 504 - 519 k\n",
      "Chr3_A 508 - 540 k\n",
      "Chr3_B 305 - 333 k\n",
      "Chr5_A 771 - 813 k\n",
      "Chr5_A 791 - 813 k\n",
      "Chr5_A 879 - 902 k\n",
      "Chr5_A 1510 - 1542 k\n",
      "Chr5_A 1647 - 1669 k\n",
      "Chr5_A 1653 - 1661 k\n",
      "Chr5_A 1778 - 1793 k\n",
      "Chr6_A 1535 - 1564 k\n",
      "Chr6_A 1553 - 1564 k\n",
      "Chr6_A 2417 - 2451 k\n",
      "Chr6_A 2455 - 2485 k\n",
      "Chr6_A 2596 - 2625 k\n",
      "Chr6_A 2612 - 2625 k\n",
      "Chr6_B 104 - 133 k\n",
      "Chr7_A 1828 - 1876 k\n",
      "Chr7_A 1989 - 2021 k\n",
      "Chr7_B 989 - 999 k\n",
      "Chr7_B 2287 - 2294 k\n",
      "Chr8_A 288 - 333 k\n",
      "Chr8_A 1794 - 1830 k\n",
      "Chr8_B 651 - 664 k\n",
      "Chr8_B 896 - 926 k\n",
      "Chr8_B 2115 - 2134 k\n",
      "Chr8_B 2520 - 2562 k\n",
      "Chr8_B 2949 - 2985 k\n",
      "Chr8_B 3043 - 3087 k\n",
      "Chr9_A 1250 - 1273 k\n",
      "Chr9_A 1500 - 1543 k\n",
      "Chr9_B 14 - 62 k\n",
      "Chr9_B 24 - 67 k\n",
      "Chr9_B 1051 - 1060 k\n",
      "Chr9_B 1052 - 1055 k\n",
      "Chr9_B 1053 - 1060 k\n",
      "Chr9_B 1190 - 1228 k\n",
      "Chr9_B 1423 - 1463 k\n",
      "Chr9_B 2494 - 2524 k\n",
      "\n",
      "gaps without cluster\n",
      "Chr11_A:14kbp\n",
      "Chr11_A:279kbp\n",
      "Chr11_A:4651kbp\n",
      "Chr11_A:4918kbp\n",
      "Chr11_A:4971kbp\n",
      "Chr11_B:32kbp\n",
      "Chr11_B:296kbp\n",
      "Chr11_B:4669kbp\n",
      "Chr11_B:5168kbp\n",
      "Chr11_B:5455kbp\n",
      "Chr10_A:76kbp\n",
      "Chr10_A:4101kbp\n",
      "Chr10_B:58kbp\n",
      "Chr10_B:4083kbp\n",
      "Chr10_B:5341kbp\n",
      "Chr9_A:211kbp\n",
      "Chr9_A:336kbp\n",
      "Chr9_A:685kbp\n",
      "Chr9_A:2348kbp\n",
      "Chr9_A:2531kbp\n",
      "Chr9_A:2970kbp\n",
      "Chr9_A:3150kbp\n",
      "Chr9_A:3874kbp\n",
      "Chr9_B:101kbp\n",
      "Chr9_B:450kbp\n",
      "Chr9_B:2113kbp\n",
      "Chr9_B:2297kbp\n",
      "Chr9_B:2585kbp\n",
      "Chr8_A:113kbp\n",
      "Chr8_A:335kbp\n",
      "Chr8_A:788kbp\n",
      "Chr8_A:1106kbp\n",
      "Chr8_A:2916kbp\n",
      "Chr8_A:3150kbp\n",
      "Chr8_B:666kbp\n",
      "Chr8_B:780kbp\n",
      "Chr8_B:1098kbp\n",
      "Chr8_B:2907kbp\n",
      "Chr8_B:3140kbp\n",
      "Chr8_B:3357kbp\n",
      "Chr8_B:3377kbp\n",
      "Chr7_A:863kbp\n",
      "Chr7_A:1338kbp\n",
      "Chr7_A:2655kbp\n",
      "Chr7_A:2799kbp\n",
      "Chr7_B:863kbp\n",
      "Chr7_B:1338kbp\n",
      "Chr7_B:2655kbp\n",
      "Chr7_B:2799kbp\n",
      "Chr6_A:88kbp\n",
      "Chr6_A:1393kbp\n",
      "Chr6_A:1466kbp\n",
      "Chr6_A:2256kbp\n",
      "Chr6_A:2452kbp\n",
      "Chr6_A:2589kbp\n",
      "Chr6_A:2634kbp\n",
      "Chr6_B:78kbp\n",
      "Chr6_B:1384kbp\n",
      "Chr6_B:2385kbp\n",
      "Chr5_A:67kbp\n",
      "Chr5_A:292kbp\n",
      "Chr5_A:1507kbp\n",
      "Chr5_A:1794kbp\n",
      "Chr5_B:223kbp\n",
      "Chr5_B:1440kbp\n",
      "Chr5_B:1819kbp\n",
      "Chr5_B:1897kbp\n",
      "Chr4_A:85kbp\n",
      "Chr4_A:967kbp\n",
      "Chr4_A:1500kbp\n",
      "Chr4_B:64kbp\n",
      "Chr4_B:115kbp\n",
      "Chr4_B:997kbp\n",
      "Chr4_B:1530kbp\n",
      "Chr3_A:303kbp\n",
      "Chr3_A:501kbp\n",
      "Chr3_A:1322kbp\n",
      "Chr3_A:1961kbp\n",
      "Chr3_A:2092kbp\n",
      "Chr3_B:25kbp\n",
      "Chr3_B:848kbp\n",
      "Chr3_B:1486kbp\n",
      "Chr3_B:1617kbp\n",
      "Chr2_A:201kbp\n",
      "Chr2_A:1085kbp\n",
      "Chr1_A:100kbp\n",
      "Chr1_A:711kbp\n",
      "Chr1_A:990kbp\n",
      "Chr1_A:1149kbp\n",
      "Chr1_A:1212kbp\n",
      "Chr1_A:2357kbp\n",
      "Chr1_A:3037kbp\n",
      "Chr1_B:223kbp\n",
      "Chr1_B:833kbp\n",
      "Chr1_B:1069kbp\n",
      "Chr1_B:1296kbp\n",
      "Chr1_B:1369kbp\n",
      "Chr1_B:1442kbp\n",
      "BES2:62kbp\n",
      "BES17:65kbp\n",
      "\n"
     ]
    }
   ],
   "source": [
    "def percentile(l, p=0.05):\n",
    "    l.sort()\n",
    "    return l[int(len(l) * p)]\n",
    "\n",
    "def cluster(data, distance_y=500, min_reads=5, max_cluster_size=50000):\n",
    "    data.sort(key=lambda x: (x[0], x[1], x[3]))\n",
    "    clusters = []\n",
    "    for chr, start, end, deviation, r_name in data:\n",
    "        fits_in_cluster = False\n",
    "        for cluster in clusters:\n",
    "            for cluster_chr, cluster_start, cluster_end, cluster_deviation, _ in cluster:\n",
    "                if cluster_chr == chr and end >= cluster_start and start <= cluster_end and abs(deviation - cluster_deviation) <= distance_y:\n",
    "                    fits_in_cluster = True\n",
    "                    break\n",
    "            if fits_in_cluster:\n",
    "                cluster.append([chr, start, end, deviation, r_name])\n",
    "                break\n",
    "        if not fits_in_cluster:\n",
    "            clusters.append([])\n",
    "        clusters[-1].append([chr, start, end, deviation, r_name])\n",
    "\n",
    "    processed_clusters = []\n",
    "    for cluster in clusters:\n",
    "        if len(cluster) > min_reads and not \"unitig\" in cluster[0][0]:\n",
    "            cluster_start = percentile([x[1] for x in cluster], 0.05)\n",
    "            cluster_end = percentile([x[1] for x in cluster], 0.95)\n",
    "            if abs(cluster_start - cluster_end) > max_cluster_size: # filter out extremely large clusters\n",
    "                continue\n",
    "            assert cluster_start < cluster_end\n",
    "            cluster_deviation = sum([x[3] for x in cluster]) / len(cluster)\n",
    "            #print(\"cluster from\", cluster_start, \"to\", cluster_end, \"with deviation\", cluster_deviation, \"and\", \n",
    "            #    len(cluster), \"reads\")\n",
    "            processed_clusters.append([cluster[0][0], cluster_start, cluster_end, cluster_deviation, cluster])\n",
    "\n",
    "    return processed_clusters\n",
    "\n",
    "\n",
    "clusters = cluster(data)\n",
    "\n",
    "\n",
    "\n",
    "cluster_overlapping_gap = []\n",
    "new_cluster = []\n",
    "for cluster_chr, cluster_start, cluster_end, cluster_deviation, c in clusters:\n",
    "    found_gap = False\n",
    "    for gap_name, (gap_chr, gap_start, gap_end) in gap_pos.items():\n",
    "        if cluster_chr == gap_chr and cluster_start <= gap_end and cluster_end >= gap_start:\n",
    "            cluster_overlapping_gap.append([cluster_chr, cluster_start, cluster_end, cluster_deviation, c])\n",
    "            found_gap = True\n",
    "            break\n",
    "    if not found_gap:\n",
    "        new_cluster.append([cluster_chr, cluster_start, cluster_end, cluster_deviation, c])\n",
    "\n",
    "print(\"clusters overlapping gaps\")\n",
    "for cluster_chr, cluster_start, cluster_end, cluster_deviation, c in cluster_overlapping_gap:\n",
    "    print(cluster_chr, int(cluster_start/1000), \"-\", int(cluster_end/1000), \"k\")\n",
    "print()\n",
    "\n",
    "print(\"new clusters\")\n",
    "for cluster_chr, cluster_start, cluster_end, cluster_deviation, c in new_cluster:\n",
    "    print(cluster_chr, int(cluster_start/1000), \"-\", int(cluster_end/1000), \"k\")\n",
    "print()\n",
    "\n",
    "def has_overlapping_clusters(clusters):\n",
    "    for a, b in zip(clusters[:-1], clusters[1:]):\n",
    "        if a[0] == b[0] and a[2] >= b[1]:\n",
    "            return True\n",
    "    return False\n",
    "\n",
    "def merge_overlapping_clusters(new_cluster):\n",
    "    ret = []\n",
    "    for cluster_chr, cluster_start, cluster_end, cluster_deviation, c in new_cluster:\n",
    "        if len(ret) == 0 or ret[-1][0] != cluster_chr or ret[-1][2] < cluster_start:\n",
    "            ret.append([cluster_chr, cluster_start, cluster_end, cluster_deviation, c])\n",
    "        else:\n",
    "            ret[-1][2] = max(ret[-1][2], cluster_end)\n",
    "            ret[-1][4] = ret[-1][4] + c\n",
    "            ret[-1][3] = sum([x[3] for x in ret[-1][4]]) / len(ret[-1][4])\n",
    "    return ret\n",
    "\n",
    "new_cluster.sort(key=lambda x: (x[0], x[1]))\n",
    "\n",
    "while has_overlapping_clusters(new_cluster):\n",
    "    new_cluster = merge_overlapping_clusters(new_cluster)\n",
    "\n",
    "with open(\"../data/in/analysis_in/mis_assemblies.gff\", \"w\") as file_out:\n",
    "    for cluster_chr, cluster_start, cluster_end, cluster_deviation, c in new_cluster:\n",
    "        file_out.write(\"\\t\".join([cluster_chr + \"_Tb427v10\", \".\", \"misassembly\", str(cluster_start), str(cluster_end), \n",
    "                                  \".\", \".\", \".\", \"\"]) + \"\\n\" )\n",
    "\n",
    "gap_without_cluster = {}\n",
    "for gap_name, (gap_chr, gap_start, gap_end) in gap_pos.items():\n",
    "    found_gap = False\n",
    "    for cluster_chr, cluster_start, cluster_end, cluster_deviation, c in cluster_overlapping_gap:\n",
    "        if cluster_chr == gap_chr and cluster_start <= gap_end and cluster_end >= gap_start:\n",
    "            found_gap = True\n",
    "            break\n",
    "    if not found_gap:\n",
    "        gap_without_cluster[gap_name] = [gap_chr, gap_start, gap_end]\n",
    "\n",
    "print(\"gaps without cluster\")\n",
    "for g in gap_without_cluster.keys():\n",
    "    print(g)\n",
    "print()"
   ]
  },
  {
   "cell_type": "markdown",
   "metadata": {},
   "source": [
    "# analyze the fixing of collapsed regions"
   ]
  },
  {
   "cell_type": "markdown",
   "metadata": {},
   "source": [
    "## load the remaining data"
   ]
  },
  {
   "cell_type": "code",
   "execution_count": 109,
   "metadata": {},
   "outputs": [],
   "source": [
    "fixed_names, fixed_dev = load_dist_dev(\"../data/out/virtual_paired_read_dist/fixed_n.distance_deviation\")\n",
    "\n",
    "gap_spanning_reads = {}\n",
    "\n",
    "with open(\"../data/out/virtual_paired_read_dist/gap_spanning_reads\", \"r\") as file_in:\n",
    "    for line in file_in:\n",
    "        readname, *gaps = line[:-1].strip().split()\n",
    "        gap_names = []\n",
    "        for gap in gaps:\n",
    "            chrom, start, end = re.split(\":|-\", gap)\n",
    "            #chrom = chrom[:-len(\"_Tb427v10\")]\n",
    "            gap_name = chrom + \":\" + str(int(start)//1000) + \"kbp\"\n",
    "            gap_names.append(gap_name)\n",
    "        gap_spanning_reads[readname] = \" \".join(gap_names)"
   ]
  },
  {
   "cell_type": "markdown",
   "metadata": {},
   "source": [
    "## post process the data"
   ]
  },
  {
   "cell_type": "code",
   "execution_count": 110,
   "metadata": {},
   "outputs": [],
   "source": [
    "\n",
    "ref_dict = {x: y[0] for x, y in zip(ref_names, ref_dev)}\n",
    "fixed_dict = {x: y[0] for x, y in zip(fixed_names, fixed_dev)}\n",
    "\n",
    "# filter reads\n",
    "# remove those where the disrance has not changed\n",
    "filtered = set()\n",
    "for read_name, distance in zip(fixed_names, fixed_dev):\n",
    "    if not read_name in gap_spanning_reads:\n",
    "       filtered.add(read_name)\n",
    "    # if read_name in ref_dict and ref_dict[read_name] == distance:\n",
    "    #     filtered.add(read_name)\n",
    "    pass\n",
    "    \n",
    "readnames = [n for n in fixed_names if n in ref_dict and not n in filtered]\n",
    "\n",
    "\n",
    "\n",
    "# figure out gap groups\n",
    "gap_groups = set()\n",
    "for gap in gap_spanning_reads.values():\n",
    "    gap_groups.add(gap)\n",
    "gap_colors = {}\n",
    "for idx, gap in enumerate(gap_groups):\n",
    "    if len(gap.split()) > 1:\n",
    "        gap_colors[gap] = \"black\"\n",
    "    else:\n",
    "        gap_colors[gap] = COLOR_PALETTE[idx % len(COLOR_PALETTE)]\n",
    "read_colors = {}\n",
    "for read in readnames:\n",
    "    read_colors[read] = gap_colors[gap_spanning_reads[read]] if read in gap_spanning_reads else \"black\"\n"
   ]
  },
  {
   "cell_type": "markdown",
   "metadata": {},
   "source": [
    "## Plot the results"
   ]
  },
  {
   "cell_type": "code",
   "execution_count": 111,
   "metadata": {},
   "outputs": [
    {
     "data": {
      "text/html": [
       "\n",
       "  <div id=\"da303365-be95-487f-8237-70cc7fe2c23f\" data-root-id=\"p3643\" style=\"display: contents;\"></div>\n"
      ]
     },
     "metadata": {},
     "output_type": "display_data"
    },
    {
     "data": {
      "application/javascript": "(function(root) {\n  function embed_document(root) {\n  const docs_json = {\"e9412a4b-f86c-4954-8931-e35defc2cd0a\":{\"version\":\"3.3.0\",\"title\":\"Bokeh Application\",\"roots\":[{\"type\":\"object\",\"name\":\"Figure\",\"id\":\"p3643\",\"attributes\":{\"x_range\":{\"type\":\"object\",\"name\":\"DataRange1d\",\"id\":\"p3644\"},\"y_range\":{\"type\":\"object\",\"name\":\"DataRange1d\",\"id\":\"p3645\"},\"x_scale\":{\"type\":\"object\",\"name\":\"LinearScale\",\"id\":\"p3653\"},\"y_scale\":{\"type\":\"object\",\"name\":\"LinearScale\",\"id\":\"p3654\"},\"title\":{\"type\":\"object\",\"name\":\"Title\",\"id\":\"p3646\",\"attributes\":{\"text\":\"Comparison of distance deviations\"}},\"renderers\":[{\"type\":\"object\",\"name\":\"GlyphRenderer\",\"id\":\"p3679\",\"attributes\":{\"data_source\":{\"type\":\"object\",\"name\":\"ColumnDataSource\",\"id\":\"p3673\",\"attributes\":{\"selected\":{\"type\":\"object\",\"name\":\"Selection\",\"id\":\"p3674\",\"attributes\":{\"indices\":[],\"line_indices\":[]}},\"selection_policy\":{\"type\":\"object\",\"name\":\"UnionRenderers\",\"id\":\"p3675\"},\"data\":{\"type\":\"map\",\"entries\":[[\"x\",[-150000.0,50000.0]],[\"y\",[-150000.0,50000.0]]]}}},\"view\":{\"type\":\"object\",\"name\":\"CDSView\",\"id\":\"p3680\",\"attributes\":{\"filter\":{\"type\":\"object\",\"name\":\"AllIndices\",\"id\":\"p3681\"}}},\"glyph\":{\"type\":\"object\",\"name\":\"Line\",\"id\":\"p3676\",\"attributes\":{\"x\":{\"type\":\"field\",\"field\":\"x\"},\"y\":{\"type\":\"field\",\"field\":\"y\"}}},\"nonselection_glyph\":{\"type\":\"object\",\"name\":\"Line\",\"id\":\"p3677\",\"attributes\":{\"x\":{\"type\":\"field\",\"field\":\"x\"},\"y\":{\"type\":\"field\",\"field\":\"y\"},\"line_alpha\":0.1}},\"muted_glyph\":{\"type\":\"object\",\"name\":\"Line\",\"id\":\"p3678\",\"attributes\":{\"x\":{\"type\":\"field\",\"field\":\"x\"},\"y\":{\"type\":\"field\",\"field\":\"y\"},\"line_alpha\":0.2}}}},{\"type\":\"object\",\"name\":\"GlyphRenderer\",\"id\":\"p3691\",\"attributes\":{\"data_source\":{\"type\":\"object\",\"name\":\"ColumnDataSource\",\"id\":\"p3682\",\"attributes\":{\"selected\":{\"type\":\"object\",\"name\":\"Selection\",\"id\":\"p3683\",\"attributes\":{\"indices\":[],\"line_indices\":[]}},\"selection_policy\":{\"type\":\"object\",\"name\":\"UnionRenderers\",\"id\":\"p3684\"},\"data\":{\"type\":\"map\",\"entries\":[[\"x\",[-38499,1215,-14103,993,1000,-36558,1092,-1983,1300,1065,-2912,-42644,-10779,1063,1047,1152,1018,1092,1042,12339,1023,-10733,-38638,3002,-14202,-6437,-36449,1183,1266,1055,-2106,1020,1254,-1023707,-1748,-10529,-1776,-54038,-9941,-39,368,1111,-1754,2998,1051,1214,1129,1046,-16968,537,-17620,11951,-42446,7256,-17150,1033,517,-79,-6107,-1716,1085,-36188,1096,1014,-116476,-3863,-7292,-27708,5132,-1743,1062,-17291,1063,-136612,-71313,1116,10725,332,1002,-2928,384,-3929,1005,-44503,820,-3779,1460,1312,-10533,-3994,1024,-4000,951,10714,306,-10789,-23915,-17781,1136,1046,-17717,8062,-44426,7913,1013,1044,8661,-17823,1621,1053,1019,1017,1005,-4688,1031,-39767,-17321,-3980,-10663,-17598,-6095,1067,1288,-34910,-23925,-14205,1043,-27664,-14881,10653,-7024,-1906,-11430,1069,-6023,1047,1122,-4020,6421,-10754,1034,1016,5110,-1778,-2983,1015,-23975,-16812,7181,-17956,-17120,-4047,-11397,-17311,1000,1176,-16687,-4024,-10561,-2078,1615,-398,884,1160,-108024,-32,-11422,-6904,-4003,10647,1038,-17280,1043,1548,1012,3739,-13432,5115,7246,-13685,-10455,-44448,-7337,996,-27,1951,-2156,-2910,19228,-122,-14180,-14181,367,10664,1002,-17621,1032,624,1041,19231,-6908,1046,1008,-128,-5999,1146,-3865,5133,-4049,-11118,-2105,1019,-6392,1074,-44232,1072,-10450,-104,968861,-2088,1036,-4018,-24048,-6028,-13605,-17460,1091,-12889,-17544,1117,1094,1050,1014,-10527,-14177,-71282,1024,-39777,1051,1069,472,-27655,1029,-4030,1033,1066,640,-12766,3521,5106,-190,1049,19212,1059,-2197,-15563,397,1011,10727,-17645,5032,993,-245,1244,-13514,1079,-6460,-42758,1140,-10757,-681,1024,1076,-86,1125,1023,5481,1050,-12210,-11618,-10768,1064,-1193,1245,-17337,-155,1506,1027,1805,-13946,-11353,-2093,1057,-16656,-3989,-42833,1047,1291,14714,1065,12,-180,-49,1104,-6090,-4017,987,1001,-10546,1011,6667,6467,8042,1054,-17285,-2123,1098,-10497,-750,-10518,8029,-10695,-11347,1012,1039,-1552,6486,1199,-16415,1036,-104169,-13815,1008,1156,-1061,1023,-2109,1109,982,11343,-17190,-57,350,-6008,1060,1030,1178,1153,-11073,-54813,-6417,1183,1119,1038,-374,-2959,-332,-1899,1023,-23991,-17600,-1139,-23910,-6453,-10418,-11342,10645,14684,1142,1014,-2182,-11430,1273,-42218,1120,1661,8054,1081,-76,1009,-10542,1214,1031,1056,-804,10771,-36519,1022,1435,19260,-1782,-42810,1017,-27759,-42494,1063,-11422,-71165,1048,-36275,3044,-13607,19246,-10826,-42714,-36418,19296,-14478,-4039,-1123,-3269,102773,-11310,1089,-71282,-17795,-1126,1507,-24005,-126,-23980,-14216,19201,-17507,6515,-4023,-6945,-31372,1085,19180,1038,1011,10706,8268,1041,1162,12101,-13796,-7547,-17292,-1097,-23940,1092,-172,-3938,-23771,-3957,-2175,12063,-1176,1194,-10900,-1519,6517,-17594,1152,1345,-27600,-2136,-14151,-6390,10705,1028,-17529,1072,1004,19259,1344,-17288,-38601,-1788,-10206,-13824,-3286,19213,1065,1006,6513,1000,1542,-1345,-17250,-3987,1609,-387,-17314,-10562,3031,1018,-6417,-74875,1440,1017,1014,-187,1085,-1783,-5311,1036,1254,-6392,1064,-11778,-17449,-2132,-6043,1047,-39600,-17784,-2108,-7270,1179,-1962,-3926,1052,1016,1062,1056,-17550,-3937,-11420,-10535,1072,-1835,-17194,1021,2170,14718,-17299,-3978,1315,997,-220,-2016,-9219,-6390,-1645,-38643,10703,-17806,1013,-13811,10642,1042,-44304,12290,-17781,1802,262,1207,6540,-13248,-3955,-23999,9609,968901,1028,-6378,-17258,-17542,-38480,-11295,1094,-2986,-41858,1020,-1810,1015,-1805,-1638,1028,12139,-6564,2751,-17603,1021,8111,2090,-17166,-3973,-388,-4037,20594,-116401,-4016,-1023572,-17218,1018,19236,1063,8122,-23715,-36244,-14061,1057,1128,-3854,-6249,880,-10728,10758,8502,1008,530,-6037,-44294,-229,1287,-17399,1069,-79514,312,1030,-10614,1328,-3754,-2087,1086,1639,-36430,-161,1558,-17339,-10658,-36501,20434,1125,1056,-36501,-17046,1124,1041,-1233,6845,12025,-6326,-14108,2000,421,1023,1078,1010,-10496,1208,1163,-2107,-2090,-1167,-10427,-10719,1088,-34324,1098,1078,1041,-1132,-6407,1076,-10518,1330,-17732,1438,10689,1067,-3115,1014,1084,-11610,-6430,-16909,441,-17650,1052,1078,-23878,-5999,-6035,685,-7366,-6418,1083,1030,10647,-17339,19067,-5991,-23990,1086,1013,-6327,-1760,-4002,6459,1339,-13840,7842,11378,-2073,-10517,-14164,-10615,1112,1057,424,-56035,-13291,-10771,1019,1030,1036,-2120,-17632,-23300,-10358,977,-59810,1042,-2106,1108,-36489,1026,-38539,1079,942,-2732,1059,-26250,1469,1039,1199,-1723,1125,1096,1092,-116323,-10471,1010,-44316,-6813,1551,-1726,-7320,1101,-4879,-15285,-43795,-44057,1338,-42766,19499,1063,382,1078,1199,1054,-4017,1150,1004,-6396,-11421,-27763,-13612,-7297,2110,-13470,-11331,414,-630,-11458,7911,599,-151,1258,19314,1088,-103,10680,-1717,-27685,-142,-10522,1004,1254,5043,-11429,19257,-27792,1196,969526,-6456,1046,1091,-33942,-699,1480,1126,1002,-39567,337,-42575,12665,-16964,-11336,-17743,-11432,957,1029,-42595,-42195,-1591,-23294,1521,1081,-3147,-171,1101,-6092,19054,1178,-27746,1025,1110,-8904,1074,-74611,-7407,7814,-6065,-14198,1038,-6087,-29049,-10646,-39898,429777,-23194,-1125,1055,-10638,-2122,-36445,1112,1029,-3737,-17255,1012,1070,-2906,10655,1023,979,-1925,-6039,998,1028,1989,1037,1039,1138,1011,3301,10656,-4016,-10754,-1863,-456,-13850,1075,-1140,1092,-1596,-1740,10692,1078,4068,-54804,-10373,1032,-10703,-1069,5037,-614,6720,1019,-14155,-14449,-17302,-148,19214,1075,-74888,-407,-39793,-1738,1049,-71388,1004,-17309,-3961,2267,1025,2743,1018,1028,1081,-10458,-17300,1005,-2129,1086,-4022,-6375,1103,-13926,-6110,-17771,-2963,-42435,-10776,1154,972,-17794,6860,-2014,-14138,-17299,-27736,1248,-6911,-6002,6990,-17297,10687,-14214,-329,1586,1134,-156,1605,-16632,-10578,-10573,1090,-9443,1569,1030,-1108,-23371,-17476,1184,-10757,-10616,965,1057,-2064,19203,10659,4966,-42780,-16126,-340,-2124,-35844,19274,-11333,1083,-17767,-44346,968,-426,-5840,-96,-2162,-27693,10668,6216,-11375,8570,5072,1039,1547,-6358,1025,14644]],[\"y\",[310,217,-855,-5,2,113,94,-1983,302,67,-2912,455,-75,65,49,155,22,94,44,12339,25,-29,171,3002,-954,-13,222,185,268,59,-2106,22,256,-1041627,55,32,27,-54038,1607,147,69,113,49,2998,54,218,131,48,711,238,59,14159,653,7256,261,35,218,107,68,87,87,483,98,16,-116476,221,6349,203,5132,60,64,120,65,-137610,-44024,118,10725,33,5,-3926,85,155,7,-2965,-178,-2974,1161,1013,28,90,26,84,-47,10714,7,-85,210,139,138,48,203,7064,-2888,6915,15,46,10869,97,623,55,21,19,7,8953,33,3011,90,104,41,81,329,69,290,1761,200,-957,45,247,2798,10653,-8022,-1906,118,71,152,49,124,64,6421,-50,36,18,5110,25,-2983,17,150,867,7181,-36,291,37,151,100,-11,178,724,60,143,130,617,-1396,-114,162,-108024,-32,126,-7902,81,10647,40,131,45,550,16,3739,209,5115,7246,-44,249,-2910,5911,-2,159,953,-2156,-3908,19228,64,-932,-933,68,10664,4,58,34,325,43,19231,-7906,48,10,58,176,149,219,5133,35,430,-2105,21,32,76,-2694,61,111,82,986781,-2088,38,66,77,147,36,219,93,-282,135,119,96,52,16,34,-929,-43993,26,3001,53,71,173,256,31,54,35,68,341,4645,2523,5106,-4,51,19212,48,11,-16561,98,13,10727,34,5032,-3,-1243,246,-266,81,-36,341,129,-53,124,26,80,100,127,25,5481,52,-2035,1630,-64,66,-3164,247,74,31,508,29,807,-698,195,-2093,59,755,95,266,50,992,14714,67,198,6,137,107,85,67,-11,4,158,13,6667,6467,7044,56,126,-2123,100,64,55,43,7031,9,201,14,41,251,6486,201,996,38,-114873,-567,10,158,-3032,25,-2109,111,-16,10345,221,129,51,167,62,32,180,155,2568,-54813,7,185,121,-134,-1372,-2959,-1330,-1899,25,134,79,-3110,215,-29,143,206,10645,14684,144,16,-2182,118,974,127,122,663,7056,83,110,11,19,216,34,58,12837,10771,152,24,437,19260,21,289,19,152,605,65,126,-43876,50,396,3044,-359,19246,7094,385,253,19296,-3917,45,-3094,6816,102773,238,91,-43993,125,-3097,509,120,60,145,-968,19201,172,6515,61,-7943,-713,87,19180,40,13,10706,7270,43,164,14309,-155,-12754,119,-3068,185,94,14,146,354,127,-2175,12063,-3147,196,2741,284,6517,85,154,347,311,-2136,-903,34,10705,30,-11843,74,8,19259,346,123,208,15,355,-183,6817,19213,67,8,6513,2,544,458,161,97,611,-1385,97,142,3031,20,7,-74875,442,19,16,-1,87,20,864,38,256,32,66,-9093,-16380,-2132,132,49,3178,136,-2108,6371,181,-1962,158,54,18,64,58,129,147,128,169,74,-32,217,23,1172,14718,112,106,318,0,-1218,-2016,1485,34,158,166,10703,114,15,-170,10642,45,-2766,12290,139,805,-37,209,6540,-2687,129,126,9609,986821,30,-7376,153,137,329,253,96,-2986,487,22,-7,17,-2,165,30,14347,-140,31,76,23,7113,1791,754,111,-1386,47,20594,-116401,68,-1041492,193,21,19236,65,7124,410,427,-813,59,130,230,175,581,-24,10758,10710,10,231,387,-2756,-43,289,280,71,-78445,498,32,90,330,330,-2087,88,1825,241,25,560,72,46,170,20434,127,58,170,365,127,43,570,6845,12025,98,-860,29,122,25,80,12,65,210,165,-2107,-2090,-3138,134,-15,90,-35322,101,81,43,-3103,17,78,43,334,188,1139,10689,69,969,17,86,1638,-6,-11223,142,29,54,80,247,176,140,386,-942,6,85,32,10647,72,19067,184,135,88,17,97,43,82,6459,341,-199,6844,11378,135,44,-916,89,114,59,125,-56035,-43,-67,21,32,38,-2120,47,825,2890,-19,-32521,45,-2106,110,182,30,270,81,643,1352,61,-2697,472,41,201,80,826,98,94,-116323,90,13,-2778,-7811,553,77,6321,103,-5877,2394,-2257,-2519,327,333,19499,65,83,80,201,56,67,152,6,28,127,148,-364,6344,1112,171,217,115,-2601,6462,6913,300,35,260,19314,90,83,10680,86,226,44,39,6,256,5043,119,19257,119,198,987446,-32,49,93,-34940,106,482,128,4,3211,38,524,11667,447,212,177,116,-41,32,504,150,212,831,1222,83,6938,15,103,83,19054,180,165,27,112,4737,76,-74611,6234,7814,359,-557,40,337,-27980,58,2880,452806,931,-3096,57,66,-2122,226,114,31,347,156,14,72,-2906,10655,25,-18,-1925,136,0,30,991,39,41,140,14,2303,10656,68,-50,-1863,-1454,-209,77,-3111,94,207,63,10692,81,2097,-52967,188,34,1,-3040,5037,12634,6720,21,-907,-3888,109,38,19214,77,-74888,-1405,2985,65,51,-44099,6,102,123,1269,28,1745,20,30,83,246,111,7,-2129,88,62,49,105,-285,65,149,-2963,664,-72,156,-26,126,6860,-2014,-890,112,175,250,-7909,173,6990,114,10687,-966,-1327,588,136,30,607,779,-17,131,92,1261,571,32,-3079,754,203,186,-53,88,-33,59,-2064,19203,10659,4966,319,1553,-1338,-2124,827,19274,215,85,153,-2808,-43,-1424,584,90,-2162,218,10668,5219,173,8570,5072,41,549,66,27,14644]],[\"c\",[\"#009E73\",\"#D55E00\",\"#56B4E9\",\"#CC79A7\",\"#0072B2\",\"#CC79A7\",\"#D55E00\",\"#0072B2\",\"#0072B2\",\"#CC79A7\",\"#009E73\",\"#56B4E9\",\"#0072B2\",\"#009E73\",\"#009E73\",\"#CC79A7\",\"#56B4E9\",\"#D55E00\",\"#CC79A7\",\"#D55E00\",\"#0072B2\",\"#0072B2\",\"#009E73\",\"#E69F00\",\"#56B4E9\",\"#E69F00\",\"#CC79A7\",\"#0072B2\",\"#0072B2\",\"#56B4E9\",\"#0072B2\",\"#CC79A7\",\"#0072B2\",\"black\",\"#0072B2\",\"#D55E00\",\"#0072B2\",\"#CC79A7\",\"#D55E00\",\"#D55E00\",\"#E69F00\",\"#CC79A7\",\"#0072B2\",\"#E69F00\",\"#CC79A7\",\"#56B4E9\",\"#009E73\",\"#CC79A7\",\"#F0E442\",\"#E69F00\",\"#F0E442\",\"#009E73\",\"#56B4E9\",\"#D55E00\",\"#F0E442\",\"#CC79A7\",\"#E69F00\",\"#D55E00\",\"#0072B2\",\"#0072B2\",\"#D55E00\",\"#CC79A7\",\"#CC79A7\",\"#CC79A7\",\"#009E73\",\"#E69F00\",\"black\",\"#E69F00\",\"#D55E00\",\"#0072B2\",\"#CC79A7\",\"#F0E442\",\"#F0E442\",\"#56B4E9\",\"#0072B2\",\"#009E73\",\"#D55E00\",\"#E69F00\",\"#CC79A7\",\"#CC79A7\",\"#E69F00\",\"#E69F00\",\"#0072B2\",\"#56B4E9\",\"#009E73\",\"black\",\"#E69F00\",\"#E69F00\",\"#D55E00\",\"#E69F00\",\"#0072B2\",\"#E69F00\",\"#009E73\",\"#D55E00\",\"#E69F00\",\"#0072B2\",\"#56B4E9\",\"#F0E442\",\"#009E73\",\"#009E73\",\"#F0E442\",\"#009E73\",\"#56B4E9\",\"#009E73\",\"#CC79A7\",\"#0072B2\",\"#009E73\",\"#F0E442\",\"#009E73\",\"#009E73\",\"#CC79A7\",\"#56B4E9\",\"#CC79A7\",\"black\",\"#F0E442\",\"black\",\"#F0E442\",\"#E69F00\",\"#0072B2\",\"#F0E442\",\"#E69F00\",\"#CC79A7\",\"#009E73\",\"#CC79A7\",\"#56B4E9\",\"#56B4E9\",\"#CC79A7\",\"#E69F00\",\"#F0E442\",\"#D55E00\",\"#CC79A7\",\"#0072B2\",\"#D55E00\",\"#009E73\",\"#0072B2\",\"#0072B2\",\"#009E73\",\"#E69F00\",\"#D55E00\",\"#0072B2\",\"#009E73\",\"#009E73\",\"#D55E00\",\"#0072B2\",\"#009E73\",\"#56B4E9\",\"#56B4E9\",\"#F0E442\",\"#D55E00\",\"#F0E442\",\"#F0E442\",\"#E69F00\",\"#D55E00\",\"#F0E442\",\"#E69F00\",\"#CC79A7\",\"#F0E442\",\"#E69F00\",\"#0072B2\",\"#009E73\",\"#009E73\",\"#D55E00\",\"#009E73\",\"#CC79A7\",\"#CC79A7\",\"#0072B2\",\"#D55E00\",\"#CC79A7\",\"#E69F00\",\"#D55E00\",\"#CC79A7\",\"#F0E442\",\"#0072B2\",\"#009E73\",\"#56B4E9\",\"#009E73\",\"#009E73\",\"#D55E00\",\"#D55E00\",\"#009E73\",\"#0072B2\",\"#56B4E9\",\"#56B4E9\",\"#0072B2\",\"#D55E00\",\"#009E73\",\"#0072B2\",\"#CC79A7\",\"#56B4E9\",\"#D55E00\",\"#56B4E9\",\"#56B4E9\",\"#E69F00\",\"#D55E00\",\"#D55E00\",\"#F0E442\",\"#0072B2\",\"#E69F00\",\"#CC79A7\",\"#56B4E9\",\"#CC79A7\",\"#0072B2\",\"#D55E00\",\"#D55E00\",\"#0072B2\",\"#CC79A7\",\"#E69F00\",\"#D55E00\",\"#E69F00\",\"#D55E00\",\"#0072B2\",\"#CC79A7\",\"#E69F00\",\"#0072B2\",\"#56B4E9\",\"#E69F00\",\"#D55E00\",\"#D55E00\",\"black\",\"#0072B2\",\"#0072B2\",\"#E69F00\",\"#56B4E9\",\"#0072B2\",\"#009E73\",\"#F0E442\",\"#009E73\",\"#E69F00\",\"#F0E442\",\"#0072B2\",\"#0072B2\",\"#CC79A7\",\"#009E73\",\"#D55E00\",\"#56B4E9\",\"#0072B2\",\"#56B4E9\",\"black\",\"#0072B2\",\"#CC79A7\",\"#E69F00\",\"#E69F00\",\"#CC79A7\",\"#E69F00\",\"#009E73\",\"#F0E442\",\"#E69F00\",\"#F0E442\",\"#CC79A7\",\"#D55E00\",\"#D55E00\",\"#0072B2\",\"#56B4E9\",\"#E69F00\",\"#009E73\",\"#009E73\",\"#E69F00\",\"#F0E442\",\"#D55E00\",\"#F0E442\",\"#D55E00\",\"#56B4E9\",\"#D55E00\",\"#0072B2\",\"#56B4E9\",\"#D55E00\",\"#E69F00\",\"#56B4E9\",\"#E69F00\",\"#0072B2\",\"black\",\"#009E73\",\"#56B4E9\",\"#D55E00\",\"#0072B2\",\"#CC79A7\",\"#D55E00\",\"#CC79A7\",\"#56B4E9\",\"#56B4E9\",\"#0072B2\",\"#56B4E9\",\"#56B4E9\",\"#CC79A7\",\"#F0E442\",\"#D55E00\",\"#009E73\",\"#0072B2\",\"#009E73\",\"#56B4E9\",\"#D55E00\",\"#0072B2\",\"#CC79A7\",\"#F0E442\",\"#E69F00\",\"#56B4E9\",\"#CC79A7\",\"#E69F00\",\"#0072B2\",\"#009E73\",\"#D55E00\",\"#D55E00\",\"#D55E00\",\"#CC79A7\",\"#0072B2\",\"#E69F00\",\"#009E73\",\"#CC79A7\",\"#0072B2\",\"#D55E00\",\"#D55E00\",\"#D55E00\",\"#009E73\",\"#CC79A7\",\"#F0E442\",\"#0072B2\",\"#009E73\",\"#D55E00\",\"black\",\"#D55E00\",\"#009E73\",\"#0072B2\",\"#D55E00\",\"#009E73\",\"#009E73\",\"#0072B2\",\"#D55E00\",\"#CC79A7\",\"#F0E442\",\"#0072B2\",\"#0072B2\",\"#56B4E9\",\"#009E73\",\"#009E73\",\"#56B4E9\",\"#009E73\",\"#0072B2\",\"#CC79A7\",\"#0072B2\",\"#D55E00\",\"#F0E442\",\"#D55E00\",\"#E69F00\",\"#0072B2\",\"#CC79A7\",\"#F0E442\",\"#CC79A7\",\"#0072B2\",\"#009E73\",\"#009E73\",\"#E69F00\",\"#0072B2\",\"#F0E442\",\"#E69F00\",\"#D55E00\",\"#009E73\",\"#D55E00\",\"#0072B2\",\"#009E73\",\"#56B4E9\",\"#F0E442\",\"#56B4E9\",\"#56B4E9\",\"#E69F00\",\"#D55E00\",\"#D55E00\",\"#D55E00\",\"#0072B2\",\"#009E73\",\"#CC79A7\",\"#0072B2\",\"#D55E00\",\"#E69F00\",\"#D55E00\",\"#009E73\",\"#009E73\",\"#009E73\",\"#009E73\",\"#D55E00\",\"#D55E00\",\"#D55E00\",\"#0072B2\",\"#CC79A7\",\"#009E73\",\"black\",\"#D55E00\",\"#CC79A7\",\"#CC79A7\",\"#009E73\",\"#56B4E9\",\"#0072B2\",\"#56B4E9\",\"#CC79A7\",\"#E69F00\",\"#56B4E9\",\"#CC79A7\",\"#D55E00\",\"#0072B2\",\"#0072B2\",\"#CC79A7\",\"#E69F00\",\"#56B4E9\",\"#56B4E9\",\"black\",\"#56B4E9\",\"#CC79A7\",\"#56B4E9\",\"#D55E00\",\"#E69F00\",\"#56B4E9\",\"#F0E442\",\"#E69F00\",\"#D55E00\",\"#CC79A7\",\"#0072B2\",\"#F0E442\",\"#56B4E9\",\"#009E73\",\"#56B4E9\",\"#D55E00\",\"#56B4E9\",\"#56B4E9\",\"#56B4E9\",\"#F0E442\",\"#D55E00\",\"#E69F00\",\"#CC79A7\",\"black\",\"#CC79A7\",\"#56B4E9\",\"#0072B2\",\"#CC79A7\",\"#D55E00\",\"#009E73\",\"#CC79A7\",\"#56B4E9\",\"#009E73\",\"#009E73\",\"#009E73\",\"#F0E442\",\"#56B4E9\",\"#56B4E9\",\"#0072B2\",\"#D55E00\",\"#E69F00\",\"#56B4E9\",\"#E69F00\",\"#0072B2\",\"#0072B2\",\"#56B4E9\",\"#0072B2\",\"#009E73\",\"#0072B2\",\"#D55E00\",\"#F0E442\",\"#CC79A7\",\"#CC79A7\",\"#E69F00\",\"#0072B2\",\"#56B4E9\",\"#E69F00\",\"#D55E00\",\"#CC79A7\",\"#009E73\",\"#56B4E9\",\"#56B4E9\",\"#56B4E9\",\"#D55E00\",\"#F0E442\",\"#009E73\",\"#0072B2\",\"#D55E00\",\"#009E73\",\"#F0E442\",\"#56B4E9\",\"#F0E442\",\"#CC79A7\",\"#D55E00\",\"#56B4E9\",\"#009E73\",\"#0072B2\",\"#F0E442\",\"#E69F00\",\"#009E73\",\"#D55E00\",\"#F0E442\",\"#0072B2\",\"#E69F00\",\"#CC79A7\",\"#E69F00\",\"#F0E442\",\"#009E73\",\"#CC79A7\",\"#56B4E9\",\"#D55E00\",\"#009E73\",\"#0072B2\",\"#0072B2\",\"#CC79A7\",\"#009E73\",\"#E69F00\",\"#0072B2\",\"#F0E442\",\"#F0E442\",\"#0072B2\",\"#0072B2\",\"#009E73\",\"black\",\"#F0E442\",\"#0072B2\",\"black\",\"#F0E442\",\"#0072B2\",\"#E69F00\",\"#D55E00\",\"#D55E00\",\"#CC79A7\",\"#0072B2\",\"#F0E442\",\"#E69F00\",\"#D55E00\",\"#0072B2\",\"#56B4E9\",\"#0072B2\",\"#F0E442\",\"#0072B2\",\"#D55E00\",\"#0072B2\",\"#F0E442\",\"#E69F00\",\"#CC79A7\",\"#CC79A7\",\"#0072B2\",\"#0072B2\",\"#0072B2\",\"#E69F00\",\"#0072B2\",\"#009E73\",\"#D55E00\",\"#F0E442\",\"#CC79A7\",\"#009E73\",\"#D55E00\",\"#CC79A7\",\"#56B4E9\",\"#0072B2\",\"#F0E442\",\"#CC79A7\",\"#E69F00\",\"#0072B2\",\"#D55E00\",\"#D55E00\",\"#E69F00\",\"#56B4E9\",\"#D55E00\",\"black\",\"#0072B2\",\"#CC79A7\",\"#F0E442\",\"#F0E442\",\"#009E73\",\"#D55E00\",\"#0072B2\",\"#009E73\",\"#D55E00\",\"#CC79A7\",\"#0072B2\",\"#F0E442\",\"#0072B2\",\"#0072B2\",\"#56B4E9\",\"#009E73\",\"#E69F00\",\"#CC79A7\",\"#F0E442\",\"#CC79A7\",\"#009E73\",\"#E69F00\",\"#F0E442\",\"#E69F00\",\"#D55E00\",\"#E69F00\",\"#56B4E9\",\"#009E73\",\"#E69F00\",\"black\",\"#F0E442\",\"#CC79A7\",\"#56B4E9\",\"#009E73\",\"#009E73\",\"#56B4E9\",\"#CC79A7\",\"#56B4E9\",\"#CC79A7\",\"#0072B2\",\"#E69F00\",\"#E69F00\",\"#E69F00\",\"#0072B2\",\"#D55E00\",\"#009E73\",\"#0072B2\",\"#E69F00\",\"#E69F00\",\"#56B4E9\",\"#D55E00\",\"#009E73\",\"#F0E442\",\"#D55E00\",\"#F0E442\",\"#D55E00\",\"#0072B2\",\"#0072B2\",\"#CC79A7\",\"#E69F00\",\"#0072B2\",\"#CC79A7\",\"#D55E00\",\"#CC79A7\",\"#D55E00\",\"#009E73\",\"#F0E442\",\"#0072B2\",\"#CC79A7\",\"#56B4E9\",\"#CC79A7\",\"#CC79A7\",\"#CC79A7\",\"#F0E442\",\"#CC79A7\",\"#D55E00\",\"#0072B2\",\"#D55E00\",\"#0072B2\",\"#E69F00\",\"#56B4E9\",\"#56B4E9\",\"#E69F00\",\"#0072B2\",\"#CC79A7\",\"#009E73\",\"#D55E00\",\"#CC79A7\",\"#009E73\",\"#0072B2\",\"#0072B2\",\"#56B4E9\",\"#D55E00\",\"#0072B2\",\"#CC79A7\",\"#56B4E9\",\"#CC79A7\",\"#CC79A7\",\"#CC79A7\",\"#56B4E9\",\"#E69F00\",\"#F0E442\",\"#D55E00\",\"#56B4E9\",\"#F0E442\",\"#E69F00\",\"#D55E00\",\"#CC79A7\",\"#E69F00\",\"#CC79A7\",\"#D55E00\",\"#56B4E9\",\"#E69F00\",\"#009E73\",\"#E69F00\",\"#F0E442\",\"#CC79A7\",\"#F0E442\",\"#56B4E9\",\"#0072B2\",\"#0072B2\",\"#E69F00\",\"#E69F00\",\"#E69F00\",\"#009E73\",\"#CC79A7\",\"#D55E00\",\"#F0E442\",\"#56B4E9\",\"#0072B2\",\"#56B4E9\",\"#0072B2\",\"#56B4E9\",\"#E69F00\",\"#0072B2\",\"#E69F00\",\"#D55E00\",\"#009E73\",\"#009E73\",\"#009E73\",\"#D55E00\",\"#009E73\",\"#D55E00\",\"#56B4E9\",\"#0072B2\",\"#CC79A7\",\"#009E73\",\"#E69F00\",\"#CC79A7\",\"#56B4E9\",\"#0072B2\",\"#0072B2\",\"#0072B2\",\"#009E73\",\"#0072B2\",\"#F0E442\",\"#56B4E9\",\"#56B4E9\",\"#56B4E9\",\"black\",\"#CC79A7\",\"#0072B2\",\"#CC79A7\",\"#CC79A7\",\"#56B4E9\",\"#009E73\",\"#D55E00\",\"#E69F00\",\"#E69F00\",\"#CC79A7\",\"#56B4E9\",\"#CC79A7\",\"#D55E00\",\"#0072B2\",\"#0072B2\",\"#E69F00\",\"#D55E00\",\"#0072B2\",\"#009E73\",\"#D55E00\",\"#CC79A7\",\"#56B4E9\",\"#CC79A7\",\"#009E73\",\"#0072B2\",\"black\",\"#009E73\",\"#56B4E9\",\"#F0E442\",\"#56B4E9\",\"#56B4E9\",\"#E69F00\",\"#56B4E9\",\"#56B4E9\",\"#0072B2\",\"#E69F00\",\"#009E73\",\"#D55E00\",\"#CC79A7\",\"#E69F00\",\"#F0E442\",\"#CC79A7\",\"#E69F00\",\"#D55E00\",\"#E69F00\",\"#56B4E9\",\"black\",\"#F0E442\",\"#009E73\",\"#D55E00\",\"#E69F00\",\"#56B4E9\",\"black\",\"#009E73\",\"#E69F00\",\"#D55E00\",\"#009E73\",\"#56B4E9\",\"#0072B2\",\"#D55E00\",\"#D55E00\",\"#0072B2\",\"#E69F00\",\"#D55E00\",\"#D55E00\",\"#CC79A7\",\"#0072B2\",\"#D55E00\",\"#D55E00\",\"#56B4E9\",\"#E69F00\",\"#CC79A7\",\"black\",\"#E69F00\",\"#CC79A7\",\"#0072B2\",\"#56B4E9\",\"black\",\"#009E73\",\"#0072B2\",\"#CC79A7\",\"black\",\"#E69F00\",\"#56B4E9\",\"#D55E00\",\"#F0E442\",\"#D55E00\",\"#F0E442\",\"#D55E00\",\"#0072B2\",\"#CC79A7\",\"#56B4E9\",\"#D55E00\",\"#0072B2\",\"#56B4E9\",\"#E69F00\",\"#CC79A7\",\"#F0E442\",\"#D55E00\",\"#D55E00\",\"#0072B2\",\"#56B4E9\",\"#009E73\",\"#E69F00\",\"#D55E00\",\"#009E73\",\"#009E73\",\"#009E73\",\"#F0E442\",\"black\",\"#D55E00\",\"#E69F00\",\"#009E73\",\"#0072B2\",\"#E69F00\",\"#F0E442\",\"#0072B2\",\"black\",\"black\",\"#56B4E9\",\"#56B4E9\",\"#009E73\",\"#0072B2\",\"#0072B2\",\"#CC79A7\",\"#D55E00\",\"#F0E442\",\"#E69F00\",\"#F0E442\",\"#009E73\",\"#F0E442\",\"#009E73\",\"#D55E00\",\"#0072B2\",\"#CC79A7\",\"#0072B2\",\"#0072B2\",\"#CC79A7\",\"#0072B2\",\"#CC79A7\",\"#CC79A7\",\"#F0E442\",\"#0072B2\",\"#CC79A7\",\"#009E73\",\"#D55E00\",\"#E69F00\",\"#0072B2\",\"#0072B2\",\"#D55E00\",\"#009E73\",\"#CC79A7\",\"#56B4E9\",\"#009E73\",\"#0072B2\",\"#0072B2\",\"#D55E00\",\"#CC79A7\",\"#56B4E9\",\"#E69F00\",\"#D55E00\",\"#009E73\",\"#0072B2\",\"#56B4E9\",\"#D55E00\",\"#56B4E9\",\"#D55E00\",\"#CC79A7\",\"#56B4E9\",\"#D55E00\",\"#F0E442\",\"#D55E00\",\"#56B4E9\",\"#D55E00\",\"#F0E442\",\"#0072B2\",\"black\",\"#0072B2\",\"#F0E442\",\"#0072B2\",\"#D55E00\",\"#F0E442\",\"#E69F00\",\"#0072B2\",\"#CC79A7\",\"#CC79A7\",\"#CC79A7\",\"#009E73\",\"#0072B2\",\"#0072B2\",\"#F0E442\",\"#56B4E9\",\"#0072B2\",\"#009E73\",\"#E69F00\",\"#E69F00\",\"#CC79A7\",\"#009E73\",\"#0072B2\",\"#F0E442\",\"#009E73\",\"#56B4E9\",\"#0072B2\",\"#D55E00\",\"#0072B2\",\"#F0E442\",\"#D55E00\",\"#0072B2\",\"#56B4E9\",\"#F0E442\",\"#E69F00\",\"#CC79A7\",\"#CC79A7\",\"#0072B2\",\"#D55E00\",\"#F0E442\",\"#D55E00\",\"#56B4E9\",\"#D55E00\",\"#009E73\",\"#009E73\",\"#D55E00\",\"#009E73\",\"#F0E442\",\"#D55E00\",\"#0072B2\",\"#009E73\",\"#0072B2\",\"#0072B2\",\"#CC79A7\",\"#56B4E9\",\"#56B4E9\",\"#F0E442\",\"#009E73\",\"#0072B2\",\"#0072B2\",\"#0072B2\",\"#F0E442\",\"#0072B2\",\"#56B4E9\",\"#D55E00\",\"#D55E00\",\"#56B4E9\",\"#F0E442\",\"#D55E00\",\"#0072B2\",\"#CC79A7\",\"#56B4E9\",\"#D55E00\",\"#0072B2\",\"#F0E442\",\"#56B4E9\",\"#E69F00\",\"#D55E00\",\"#E69F00\",\"#D55E00\",\"#0072B2\",\"#E69F00\",\"#D55E00\",\"#CC79A7\",\"#D55E00\",\"#D55E00\",\"#D55E00\",\"#F0E442\",\"#009E73\",\"#E69F00\",\"#0072B2\",\"#0072B2\"]],[\"h\",[\"Chr1_B:1369kbp\",\"Chr1_A:946kbp\",\"Chr5_A:1675kbp\",\"Chr3_B:25kbp\",\"Chr4_B:1530kbp\",\"Chr9_A:211kbp\",\"Chr9_B:101kbp\",\"Chr9_A:3150kbp\",\"Chr8_B:780kbp\",\"Chr9_A:336kbp\",\"Chr11_A:14kbp\",\"Chr6_B:2385kbp\",\"Chr8_A:335kbp\",\"Chr1_B:1069kbp\",\"Chr8_B:3140kbp\",\"Chr10_A:4101kbp\",\"Chr11_B:32kbp\",\"Chr9_B:101kbp\",\"Chr3_A:501kbp\",\"Chr11_A:4918kbp\",\"Chr8_B:780kbp\",\"Chr8_A:335kbp\",\"Chr1_B:1369kbp\",\"Chr8_B:3377kbp\",\"Chr5_A:1675kbp\",\"Chr8_B:666kbp\",\"Chr9_A:211kbp\",\"Chr4_B:1530kbp\",\"Chr8_A:3150kbp\",\"Chr11_B:32kbp\",\"Chr9_A:3150kbp\",\"Chr9_A:336kbp\",\"Chr8_A:3150kbp\",\"Chr6_A:2256kbp Chr6_A:2452kbp\",\"Chr1_A:990kbp\",\"Chr11_B:4669kbp\",\"Chr1_A:990kbp\",\"Chr8_A:1106kbp\",\"Chr10_B:58kbp\",\"Chr11_A:4651kbp\",\"Chr9_A:2970kbp\",\"Chr3_A:501kbp\",\"Chr1_A:990kbp\",\"Chr8_B:3377kbp\",\"Chr6_A:1393kbp\",\"Chr11_B:32kbp\",\"Chr1_B:1069kbp\",\"Chr3_A:501kbp\",\"Chr1_B:1296kbp\",\"Chr9_A:2970kbp\",\"Chr1_B:1296kbp\",\"Chr9_A:2531kbp\",\"Chr6_B:2385kbp\",\"Chr6_A:2589kbp\",\"Chr5_A:1794kbp\",\"Chr3_B:25kbp\",\"Chr9_A:2970kbp\",\"Chr11_A:4651kbp\",\"Chr10_A:76kbp\",\"Chr1_A:990kbp\",\"Chr1_A:946kbp\",\"Chr9_A:211kbp\",\"Chr9_A:336kbp\",\"Chr9_A:336kbp\",\"Chr6_A:2256kbp\",\"Chr1_A:3037kbp\",\"Chr6_A:2589kbp Chr6_A:2634kbp\",\"Chr1_B:1442kbp\",\"Chr9_B:2297kbp\",\"Chr1_A:990kbp\",\"Chr9_A:336kbp\",\"Chr5_A:1794kbp\",\"Chr8_A:788kbp\",\"Chr10_B:4083kbp\",\"Chr11_A:4971kbp\",\"Chr1_B:1069kbp\",\"Chr11_A:4918kbp\",\"Chr9_A:2970kbp\",\"Chr6_A:1393kbp\",\"Chr3_A:501kbp\",\"Chr9_A:2970kbp\",\"Chr1_A:3037kbp\",\"Chr4_B:1530kbp\",\"Chr10_B:5341kbp\",\"Chr5_A:1507kbp\",\"Chr1_A:946kbp Chr1_A:990kbp\",\"Chr9_A:2970kbp\",\"Chr9_A:2970kbp\",\"Chr11_B:4669kbp\",\"Chr1_A:3037kbp\",\"Chr4_B:1530kbp\",\"Chr1_A:3037kbp\",\"Chr8_B:3140kbp\",\"Chr11_A:4918kbp\",\"Chr9_A:2970kbp\",\"Chr8_A:335kbp\",\"Chr11_B:4955kbp\",\"Chr6_A:2452kbp\",\"Chr1_B:1069kbp\",\"Chr8_B:3140kbp\",\"Chr6_A:2452kbp\",\"Chr5_A:1507kbp\",\"Chr10_B:5341kbp\",\"Chr5_A:1507kbp\",\"Chr3_B:25kbp\",\"Chr4_B:1530kbp\",\"Chr9_A:2531kbp\",\"Chr6_A:2452kbp\",\"Chr5_A:1507kbp\",\"Chr8_B:3140kbp\",\"Chr9_A:336kbp\",\"Chr10_B:4083kbp\",\"Chr3_B:25kbp\",\"Chr6_A:2589kbp Chr6_A:2634kbp\",\"Chr8_A:788kbp\",\"Chr8_B:3357kbp Chr8_B:3377kbp\",\"Chr5_A:1794kbp\",\"Chr1_A:3037kbp\",\"Chr8_A:335kbp\",\"Chr1_B:1296kbp\",\"Chr8_B:666kbp\",\"Chr3_B:25kbp\",\"Chr8_B:3140kbp\",\"Chr9_A:211kbp\",\"Chr11_B:4955kbp\",\"Chr5_A:1675kbp\",\"Chr3_A:501kbp\",\"Chr1_B:1442kbp\",\"Chr1_B:1296kbp\",\"Chr11_A:4918kbp\",\"Chr3_A:501kbp\",\"Chr9_A:3150kbp\",\"Chr10_B:58kbp\",\"Chr8_B:3140kbp\",\"Chr10_A:76kbp\",\"Chr4_B:1530kbp\",\"Chr8_B:3140kbp\",\"Chr1_A:3037kbp\",\"Chr6_A:2589kbp\",\"Chr8_A:335kbp\",\"Chr1_B:1069kbp\",\"Chr5_A:1507kbp\",\"Chr9_B:2297kbp\",\"Chr1_A:990kbp\",\"Chr11_A:14kbp\",\"Chr10_B:4083kbp\",\"Chr11_B:4955kbp\",\"Chr1_B:1296kbp\",\"Chr6_A:2589kbp\",\"Chr6_A:2452kbp\",\"Chr5_A:1794kbp\",\"Chr1_A:3037kbp\",\"Chr10_B:58kbp\",\"Chr5_A:1794kbp\",\"Chr1_B:223kbp\",\"Chr9_A:336kbp\",\"Chr5_A:1794kbp\",\"Chr1_A:3037kbp\",\"Chr8_A:335kbp\",\"Chr9_A:2531kbp\",\"Chr5_A:1507kbp\",\"Chr9_B:101kbp\",\"Chr5_A:1507kbp\",\"Chr9_A:336kbp\",\"Chr1_A:1212kbp\",\"Chr9_A:3150kbp\",\"Chr10_B:58kbp\",\"Chr3_A:501kbp\",\"Chr1_A:3037kbp\",\"Chr11_A:4918kbp\",\"Chr3_A:501kbp\",\"Chr5_A:1794kbp\",\"Chr4_B:1530kbp\",\"Chr5_A:1507kbp\",\"Chr11_B:32kbp\",\"Chr11_A:14kbp\",\"Chr6_A:2634kbp\",\"Chr9_B:2297kbp\",\"Chr6_A:2589kbp\",\"Chr6_A:2634kbp\",\"Chr8_A:335kbp\",\"Chr10_B:5341kbp\",\"Chr5_A:1675kbp\",\"Chr8_B:780kbp\",\"Chr11_A:4651kbp\",\"Chr5_A:1507kbp\",\"Chr9_A:3150kbp\",\"Chr3_A:501kbp\",\"Chr4_A:1500kbp\",\"Chr11_A:4651kbp\",\"Chr5_A:1675kbp\",\"Chr5_A:1675kbp\",\"Chr9_A:2970kbp\",\"Chr11_A:4918kbp\",\"Chr9_B:101kbp\",\"Chr1_B:1296kbp\",\"Chr4_B:1530kbp\",\"Chr9_A:2970kbp\",\"Chr3_B:25kbp\",\"Chr4_A:1500kbp\",\"Chr3_A:501kbp\",\"Chr8_B:780kbp\",\"Chr9_B:101kbp\",\"Chr11_A:4651kbp\",\"Chr10_A:76kbp\",\"Chr10_A:4101kbp\",\"Chr1_A:3037kbp\",\"Chr9_B:2297kbp\",\"Chr1_A:3037kbp\",\"Chr10_B:58kbp\",\"Chr9_A:3150kbp\",\"Chr3_B:25kbp\",\"Chr8_B:666kbp\",\"Chr4_B:1530kbp\",\"Chr10_B:5341kbp\",\"Chr1_B:223kbp\",\"Chr11_B:4669kbp\",\"Chr11_A:4651kbp\",\"Chr6_A:1466kbp Chr6_A:2256kbp Chr6_A:2452kbp\",\"Chr9_A:3150kbp\",\"Chr8_B:780kbp\",\"Chr1_A:3037kbp\",\"Chr11_B:4955kbp\",\"Chr10_A:76kbp\",\"Chr6_A:2634kbp\",\"Chr1_B:1296kbp\",\"Chr8_B:3140kbp\",\"Chr9_B:2585kbp\",\"Chr1_B:1296kbp\",\"Chr8_A:3150kbp\",\"Chr4_B:1530kbp\",\"Chr9_A:336kbp\",\"Chr8_B:3140kbp\",\"Chr11_B:4669kbp\",\"Chr5_A:1675kbp\",\"Chr11_A:4971kbp\",\"Chr10_B:4083kbp\",\"Chr8_B:3357kbp Chr8_B:3377kbp\",\"Chr4_B:1530kbp\",\"Chr9_A:336kbp\",\"Chr9_A:2970kbp\",\"Chr1_B:1442kbp\",\"Chr3_A:501kbp\",\"Chr1_A:3037kbp\",\"Chr5_A:1507kbp\",\"Chr8_A:788kbp\",\"Chr9_A:2970kbp\",\"Chr5_A:1794kbp\",\"Chr3_B:25kbp\",\"Chr9_B:2297kbp\",\"Chr11_A:4651kbp\",\"Chr8_A:3150kbp\",\"Chr4_A:1500kbp\",\"Chr1_B:223kbp\",\"Chr9_A:2531kbp\",\"Chr8_B:3140kbp\",\"Chr9_A:2970kbp\",\"Chr8_A:788kbp\",\"Chr11_A:4918kbp\",\"Chr1_B:1296kbp\",\"Chr9_B:2297kbp\",\"Chr11_B:32kbp\",\"Chr9_B:101kbp\",\"Chr8_A:3150kbp\",\"Chr5_A:1675kbp\",\"Chr9_B:101kbp\",\"Chr8_B:666kbp\",\"Chr6_B:2385kbp\",\"Chr1_B:223kbp\",\"Chr8_A:335kbp\",\"Chr1_A:946kbp Chr1_A:990kbp\",\"Chr1_B:1069kbp\",\"Chr11_B:32kbp\",\"Chr11_A:4651kbp\",\"Chr8_B:780kbp\",\"Chr9_A:336kbp\",\"Chr6_A:2589kbp\",\"Chr9_A:336kbp\",\"Chr10_B:5341kbp\",\"Chr5_A:1675kbp\",\"Chr8_A:335kbp\",\"Chr10_B:4083kbp\",\"BES17:65kbp\",\"Chr3_A:501kbp\",\"Chr5_A:1794kbp\",\"Chr11_A:4651kbp\",\"Chr5_A:1507kbp\",\"Chr8_B:780kbp\",\"Chr5_A:1507kbp\",\"Chr5_A:1675kbp\",\"Chr10_B:58kbp\",\"Chr9_A:3150kbp\",\"Chr3_B:25kbp\",\"Chr5_A:1794kbp\",\"Chr1_A:3037kbp\",\"Chr6_B:2385kbp\",\"Chr10_A:4101kbp\",\"Chr9_A:2970kbp\",\"Chr5_A:67kbp\",\"Chr8_B:3140kbp\",\"Chr11_A:4651kbp\",\"Chr11_A:4651kbp\",\"Chr11_A:4651kbp\",\"Chr10_A:4101kbp\",\"Chr10_A:76kbp\",\"Chr1_A:3037kbp\",\"Chr5_A:1507kbp\",\"Chr10_A:4101kbp\",\"Chr8_A:335kbp\",\"Chr9_B:101kbp\",\"Chr6_A:2589kbp\",\"Chr6_A:2589kbp\",\"Chr5_A:1507kbp\",\"Chr3_B:25kbp\",\"Chr5_A:1794kbp\",\"Chr9_A:3150kbp\",\"Chr1_B:1069kbp\",\"Chr11_B:4669kbp\",\"Chr1_A:946kbp Chr1_A:990kbp\",\"Chr11_B:4669kbp\",\"Chr5_A:1507kbp\",\"Chr8_A:335kbp\",\"Chr10_B:58kbp\",\"Chr8_B:3140kbp\",\"Chr8_B:3140kbp\",\"Chr1_A:990kbp\",\"Chr6_A:2589kbp\",\"Chr9_A:336kbp\",\"Chr5_A:1794kbp\",\"Chr8_B:780kbp\",\"Chr8_A:335kbp\",\"Chr5_A:1675kbp\",\"Chr1_B:1069kbp\",\"Chr1_B:1069kbp\",\"BES17:65kbp\",\"Chr8_B:3140kbp\",\"Chr9_A:3150kbp\",\"Chr3_A:501kbp\",\"Chr4_B:1530kbp\",\"Chr9_B:101kbp\",\"Chr5_A:1794kbp\",\"Chr11_A:4651kbp\",\"Chr9_A:2970kbp\",\"Chr10_A:76kbp\",\"Chr9_A:336kbp\",\"Chr8_A:788kbp\",\"Chr9_A:336kbp\",\"Chr8_B:780kbp\",\"Chr6_A:2634kbp\",\"Chr6_A:1466kbp\",\"Chr8_B:666kbp\",\"Chr8_B:780kbp\",\"Chr8_A:788kbp\",\"Chr9_B:2585kbp\",\"Chr9_B:101kbp\",\"Chr11_A:14kbp\",\"Chr9_B:101kbp\",\"Chr9_A:3150kbp\",\"Chr1_B:1069kbp\",\"Chr11_B:4955kbp\",\"Chr1_B:1296kbp\",\"BES17:65kbp\",\"Chr11_B:4955kbp\",\"Chr8_B:666kbp\",\"Chr11_B:4669kbp\",\"Chr10_B:58kbp\",\"Chr11_A:4918kbp\",\"Chr5_A:67kbp\",\"Chr1_B:1069kbp\",\"Chr3_A:501kbp\",\"Chr9_A:3150kbp\",\"Chr10_B:58kbp\",\"Chr9_A:2970kbp\",\"Chr3_A:303kbp\",\"Chr8_B:3140kbp\",\"Chr5_A:1507kbp\",\"Chr5_A:1507kbp\",\"Chr1_B:1069kbp\",\"Chr11_A:4651kbp\",\"Chr9_B:101kbp\",\"Chr11_B:4669kbp\",\"Chr8_B:780kbp\",\"Chr6_A:1393kbp\",\"Chr8_B:3140kbp\",\"Chr6_A:2589kbp Chr6_A:2634kbp\",\"Chr11_A:4918kbp\",\"Chr9_A:211kbp\",\"Chr3_B:25kbp\",\"Chr5_A:1507kbp\",\"Chr4_A:1500kbp\",\"Chr1_A:990kbp\",\"Chr6_B:2385kbp\",\"Chr9_A:336kbp\",\"Chr1_B:1442kbp\",\"Chr6_B:2385kbp\",\"Chr3_A:501kbp\",\"Chr10_B:58kbp\",\"Chr11_A:4971kbp\",\"Chr8_B:780kbp\",\"Chr9_A:211kbp\",\"Chr8_B:3377kbp\",\"Chr5_A:1675kbp\",\"Chr4_A:1500kbp\",\"Chr6_A:2452kbp Chr6_A:2589kbp\",\"Chr6_B:2385kbp\",\"Chr9_A:211kbp\",\"Chr4_A:1500kbp\",\"Chr11_B:4669kbp\",\"Chr1_A:3037kbp\",\"BES17:65kbp\",\"Chr7_A:2655kbp\",\"Chr1_A:2357kbp\",\"Chr10_B:58kbp\",\"Chr9_A:336kbp\",\"Chr11_A:4971kbp\",\"Chr6_A:2452kbp\",\"BES17:65kbp\",\"Chr5_A:1507kbp\",\"Chr11_B:4955kbp\",\"Chr11_A:4651kbp\",\"Chr11_B:4955kbp\",\"Chr5_A:1675kbp\",\"Chr4_A:1500kbp\",\"Chr1_B:1296kbp\",\"Chr6_A:2589kbp\",\"Chr1_A:3037kbp\",\"Chr3_A:501kbp\",\"Chr5_A:1675kbp Chr5_A:1794kbp\",\"Chr3_A:501kbp\",\"Chr4_A:1500kbp\",\"Chr8_A:3150kbp\",\"Chr3_A:501kbp\",\"Chr11_A:4918kbp\",\"Chr5_A:1507kbp\",\"Chr3_B:25kbp\",\"Chr10_B:4083kbp\",\"Chr9_A:2531kbp\",\"Chr6_A:2634kbp\",\"Chr7_B:2799kbp\",\"Chr5_A:1794kbp\",\"BES17:65kbp\",\"Chr11_B:4955kbp\",\"Chr4_B:1530kbp\",\"Chr11_A:4651kbp\",\"Chr1_A:3037kbp\",\"Chr11_B:4955kbp\",\"Chr1_A:3037kbp\",\"Chr9_A:3150kbp\",\"BES2:62kbp\",\"BES17:65kbp\",\"Chr4_B:1530kbp\",\"Chr6_A:2634kbp\",\"Chr1_A:990kbp\",\"Chr6_A:2589kbp\",\"Chr1_B:1296kbp\",\"Chr9_A:336kbp\",\"Chr3_B:25kbp\",\"Chr1_B:1442kbp\",\"Chr9_A:3150kbp\",\"Chr5_A:1675kbp\",\"Chr8_B:666kbp\",\"Chr11_A:4918kbp\",\"Chr3_B:25kbp\",\"Chr9_B:450kbp\",\"Chr10_B:4083kbp\",\"Chr11_B:32kbp\",\"Chr4_A:1500kbp\",\"Chr1_A:100kbp\",\"Chr5_A:1794kbp\",\"Chr1_B:1369kbp\",\"Chr1_A:990kbp\",\"Chr11_B:4669kbp\",\"Chr6_A:2634kbp\",\"Chr7_A:2655kbp\",\"Chr4_A:1500kbp\",\"Chr8_A:788kbp\",\"Chr3_B:25kbp\",\"Chr6_A:2589kbp\",\"Chr10_B:4083kbp\",\"Chr5_A:1507kbp\",\"Chr1_A:990kbp\",\"Chr5_A:1794kbp\",\"Chr1_A:3037kbp\",\"Chr5_A:1507kbp\",\"Chr9_B:101kbp\",\"Chr5_A:1794kbp\",\"Chr8_A:335kbp\",\"Chr8_B:3377kbp\",\"Chr9_A:336kbp\",\"Chr8_B:666kbp\",\"Chr11_B:5168kbp\",\"Chr5_A:1507kbp\",\"Chr9_A:336kbp\",\"Chr10_B:4083kbp\",\"Chr11_A:4651kbp\",\"Chr5_A:1507kbp\",\"Chr1_A:990kbp\",\"Chr10_A:76kbp\",\"Chr3_B:25kbp\",\"Chr1_B:1069kbp\",\"Chr8_B:666kbp\",\"Chr8_A:3150kbp\",\"Chr9_A:685kbp\",\"Chr8_A:113kbp\",\"Chr9_A:3150kbp\",\"Chr10_A:76kbp\",\"Chr8_B:3140kbp\",\"Chr8_B:3357kbp Chr8_B:3377kbp\",\"Chr6_A:2452kbp\",\"Chr9_A:3150kbp\",\"Chr6_A:2589kbp Chr6_A:2634kbp\",\"Chr8_A:788kbp\",\"Chr9_A:3150kbp\",\"Chr1_A:3037kbp\",\"Chr1_A:946kbp\",\"Chr1_A:946kbp\",\"Chr3_B:25kbp\",\"Chr4_B:1530kbp\",\"Chr1_B:1296kbp\",\"Chr1_A:3037kbp\",\"Chr10_B:58kbp\",\"Chr8_A:335kbp\",\"Chr10_B:4083kbp\",\"Chr1_A:990kbp\",\"Chr5_A:1794kbp\",\"Chr4_B:1530kbp\",\"Chr9_B:101kbp\",\"Chr5_A:67kbp\",\"Chr5_A:1794kbp\",\"Chr1_A:3037kbp\",\"Chr10_A:4101kbp\",\"Chr10_A:4101kbp\",\"Chr8_B:780kbp\",\"Chr9_A:3150kbp\",\"Chr8_A:335kbp\",\"Chr8_B:666kbp\",\"Chr1_A:990kbp\",\"Chr1_B:1369kbp\",\"Chr11_A:4918kbp\",\"Chr6_A:2452kbp\",\"Chr3_B:25kbp\",\"Chr6_A:2634kbp\",\"Chr11_A:4918kbp\",\"Chr10_A:4101kbp\",\"Chr10_B:5341kbp\",\"BES2:62kbp\",\"Chr6_A:2452kbp\",\"Chr10_A:4101kbp\",\"Chr9_A:2970kbp\",\"Chr8_B:780kbp\",\"Chr6_A:2589kbp\",\"Chr11_B:4669kbp\",\"Chr1_A:3037kbp\",\"Chr11_B:4955kbp\",\"Chr6_A:2589kbp\",\"Chr6_A:1466kbp Chr6_A:2256kbp Chr6_A:2452kbp\",\"Chr4_B:1530kbp\",\"Chr3_A:501kbp\",\"Chr5_A:1794kbp\",\"Chr1_B:1296kbp\",\"Chr1_B:1369kbp\",\"Chr10_B:58kbp\",\"Chr8_B:780kbp\",\"Chr11_A:14kbp\",\"Chr3_A:303kbp\",\"Chr3_A:501kbp\",\"Chr1_A:990kbp\",\"Chr8_A:788kbp\",\"Chr1_A:990kbp\",\"Chr1_A:990kbp\",\"Chr10_B:4083kbp\",\"Chr9_A:2531kbp\",\"Chr8_B:666kbp\",\"Chr7_B:2655kbp\",\"Chr1_B:1296kbp\",\"Chr3_B:25kbp\",\"Chr5_A:1507kbp\",\"Chr9_A:2970kbp\",\"Chr6_A:2452kbp\",\"Chr1_A:3037kbp\",\"Chr9_B:101kbp\",\"Chr1_A:3037kbp\",\"Chr4_A:1500kbp\",\"Chr6_A:2256kbp\",\"Chr1_A:3037kbp\",\"Chr6_A:2256kbp Chr6_A:2452kbp\",\"Chr5_A:1794kbp\",\"Chr10_A:4101kbp\",\"Chr4_A:1500kbp\",\"Chr8_B:3140kbp\",\"Chr5_A:1507kbp\",\"Chr11_B:4955kbp\",\"Chr9_A:211kbp\",\"Chr5_A:1675kbp\",\"Chr3_B:25kbp\",\"Chr8_A:3150kbp\",\"Chr1_A:3037kbp\",\"Chr8_B:666kbp\",\"Chr9_A:2970kbp\",\"Chr8_A:335kbp\",\"Chr11_A:4918kbp\",\"Chr9_A:2531kbp\",\"Chr4_B:1530kbp\",\"Chr9_A:2970kbp\",\"Chr8_B:666kbp\",\"Chr10_B:5341kbp\",\"Chr11_A:4651kbp\",\"Chr8_B:3140kbp\",\"Chr1_B:1296kbp\",\"Chr1_A:946kbp\",\"Chr8_A:113kbp\",\"Chr11_A:4651kbp\",\"Chr4_B:1530kbp\",\"Chr8_A:335kbp\",\"Chr3_B:25kbp\",\"Chr1_A:3037kbp\",\"Chr9_A:3150kbp\",\"Chr3_A:501kbp\",\"Chr11_A:4651kbp\",\"Chr9_A:211kbp\",\"Chr11_A:4651kbp\",\"Chr5_A:1507kbp\",\"Chr5_A:1794kbp\",\"Chr8_A:335kbp\",\"Chr9_A:211kbp\",\"Chr4_A:1500kbp\",\"Chr3_A:501kbp\",\"Chr9_A:336kbp\",\"Chr9_A:211kbp\",\"Chr5_A:1794kbp\",\"Chr10_A:4101kbp\",\"Chr9_B:101kbp\",\"Chr1_A:990kbp\",\"Chr6_A:2589kbp\",\"BES2:62kbp\",\"Chr8_B:666kbp\",\"Chr5_A:1675kbp\",\"BES17:65kbp\",\"Chr9_A:2970kbp\",\"Chr8_B:780kbp\",\"Chr3_B:25kbp\",\"Chr5_A:1507kbp\",\"Chr11_B:4669kbp\",\"Chr3_B:25kbp\",\"Chr8_B:3140kbp\",\"Chr9_A:3150kbp\",\"Chr9_A:3150kbp\",\"BES17:65kbp\",\"Chr11_B:4669kbp\",\"Chr8_A:335kbp\",\"Chr3_A:501kbp\",\"Chr10_B:4083kbp\",\"Chr10_A:4101kbp\",\"Chr10_A:4101kbp\",\"Chr9_A:336kbp\",\"BES17:65kbp\",\"Chr8_B:666kbp\",\"Chr8_A:788kbp\",\"Chr11_B:4669kbp\",\"Chr11_B:32kbp\",\"Chr6_A:2452kbp\",\"Chr9_A:2970kbp\",\"Chr11_A:4918kbp\",\"Chr9_A:336kbp\",\"Chr1_A:3037kbp\",\"Chr10_A:4101kbp\",\"Chr1_A:946kbp\",\"Chr5_A:1675kbp\",\"Chr8_B:666kbp\",\"Chr9_B:450kbp\",\"Chr9_A:2970kbp\",\"Chr1_B:1296kbp\",\"Chr9_A:336kbp\",\"Chr8_A:788kbp\",\"Chr11_B:4955kbp\",\"Chr10_A:76kbp\",\"Chr10_A:76kbp\",\"Chr9_A:2970kbp\",\"Chr8_B:666kbp\",\"Chr8_B:666kbp\",\"Chr8_B:3140kbp\",\"Chr3_B:25kbp\",\"Chr11_A:4918kbp\",\"Chr5_A:1794kbp\",\"Chr4_A:1500kbp\",\"Chr10_A:76kbp\",\"Chr11_B:4955kbp\",\"Chr8_B:780kbp\",\"Chr11_B:32kbp\",\"Chr8_B:666kbp\",\"Chr1_A:990kbp\",\"Chr1_A:3037kbp\",\"Chr6_A:2589kbp\",\"Chr8_B:3140kbp\",\"Chr6_A:2634kbp\",\"Chr5_A:1507kbp\",\"Chr11_A:4918kbp\",\"Chr9_A:2531kbp\",\"Chr11_B:4669kbp\",\"Chr5_A:1675kbp\",\"Chr8_A:335kbp\",\"Chr9_A:336kbp\",\"Chr1_B:1069kbp\",\"Chr9_A:2970kbp\",\"Chr8_A:1106kbp\",\"Chr5_A:1675kbp\",\"Chr8_A:335kbp\",\"Chr8_B:780kbp\",\"Chr8_B:780kbp\",\"Chr1_B:1069kbp\",\"Chr9_A:3150kbp\",\"Chr1_B:1296kbp\",\"Chr11_B:4955kbp\",\"Chr5_A:1675kbp\",\"Chr11_B:32kbp\",\"Chr11_A:4918kbp Chr11_A:4971kbp\",\"Chr10_A:4101kbp\",\"Chr9_A:3150kbp\",\"Chr3_B:25kbp\",\"Chr9_A:211kbp\",\"Chr11_B:32kbp\",\"Chr1_B:1369kbp\",\"Chr1_A:946kbp\",\"Chr9_A:2970kbp\",\"Chr1_A:3037kbp\",\"Chr3_B:25kbp\",\"Chr10_B:5341kbp\",\"Chr10_A:4101kbp\",\"Chr9_B:101kbp\",\"Chr8_A:3150kbp\",\"Chr1_A:990kbp\",\"Chr9_A:2970kbp\",\"Chr1_A:946kbp\",\"Chr8_A:3150kbp\",\"Chr6_A:2256kbp\",\"Chr11_B:4669kbp\",\"Chr6_A:1393kbp\",\"Chr10_B:5341kbp\",\"Chr3_A:501kbp\",\"Chr5_A:1507kbp\",\"Chr1_A:990kbp\",\"Chr6_A:2589kbp Chr6_A:2634kbp\",\"Chr1_B:1069kbp\",\"Chr10_B:4083kbp\",\"Chr1_B:1296kbp\",\"Chr10_B:5341kbp\",\"Chr10_B:5341kbp\",\"Chr1_B:223kbp\",\"Chr6_B:2385kbp\",\"Chr4_A:1500kbp\",\"Chr8_B:780kbp\",\"Chr9_A:2970kbp\",\"Chr8_B:3140kbp\",\"Chr1_A:946kbp\",\"Chr3_A:501kbp\",\"Chr1_A:3037kbp\",\"Chr8_A:788kbp\",\"Chr3_B:25kbp\",\"Chr8_B:666kbp\",\"Chr10_B:58kbp\",\"Chr1_B:1442kbp\",\"Chr5_A:1675kbp\",\"Chr6_A:2589kbp Chr6_A:2634kbp\",\"Chr8_A:788kbp\",\"Chr6_A:2634kbp\",\"Chr10_B:58kbp\",\"Chr9_A:2970kbp\",\"BES17:65kbp\",\"Chr6_A:2452kbp Chr6_A:2589kbp\",\"Chr5_A:1507kbp\",\"Chr9_A:2970kbp\",\"Chr11_A:4651kbp\",\"Chr8_B:3140kbp\",\"Chr4_A:1500kbp\",\"Chr8_B:780kbp\",\"Chr11_A:4651kbp\",\"Chr11_A:4918kbp\",\"Chr1_A:990kbp\",\"Chr1_B:1442kbp\",\"Chr11_A:4651kbp\",\"Chr11_B:4669kbp\",\"Chr3_B:25kbp\",\"Chr8_B:780kbp\",\"Chr9_B:2297kbp\",\"Chr10_B:58kbp\",\"Chr4_A:1500kbp\",\"Chr1_B:1442kbp\",\"Chr9_A:336kbp\",\"Chr6_A:1466kbp Chr6_A:2256kbp Chr6_A:2452kbp\",\"Chr8_B:666kbp\",\"Chr10_A:4101kbp\",\"Chr8_A:3150kbp\",\"Chr10_B:4083kbp\",\"Chr1_A:946kbp Chr1_A:990kbp\",\"Chr8_B:3140kbp\",\"Chr4_B:1530kbp\",\"Chr3_A:501kbp\",\"Chr8_B:3357kbp Chr8_B:3377kbp\",\"Chr9_A:2970kbp\",\"Chr6_B:2385kbp\",\"Chr9_B:101kbp\",\"Chr5_A:1794kbp\",\"Chr10_B:58kbp\",\"Chr6_A:2452kbp\",\"Chr10_B:58kbp\",\"Chr4_B:1530kbp\",\"Chr10_A:4101kbp\",\"Chr6_B:2385kbp\",\"Chr3_A:303kbp\",\"Chr1_A:990kbp\",\"Chr11_B:4955kbp\",\"Chr9_A:2970kbp\",\"Chr3_A:501kbp\",\"Chr7_A:2655kbp\",\"Chr11_A:4651kbp\",\"Chr9_B:101kbp\",\"Chr10_A:76kbp\",\"Chr4_A:1500kbp\",\"Chr1_B:1069kbp\",\"Chr1_B:1442kbp\",\"Chr9_B:101kbp\",\"Chr1_B:1069kbp\",\"Chr6_A:2634kbp\",\"Chr1_B:1069kbp\",\"Chr8_B:1098kbp\",\"Chr6_A:2589kbp Chr6_A:2634kbp\",\"Chr6_A:2589kbp\",\"Chr8_B:666kbp\",\"Chr6_A:2634kbp\",\"Chr4_B:1530kbp\",\"Chr8_B:666kbp\",\"Chr8_A:113kbp\",\"Chr8_A:335kbp\",\"Chr8_B:3357kbp Chr8_B:3377kbp\",\"Chr11_B:5168kbp Chr11_B:5455kbp\",\"Chr11_B:4955kbp\",\"BES17:65kbp\",\"Chr1_B:1069kbp\",\"Chr8_A:335kbp\",\"Chr9_A:3150kbp\",\"Chr9_A:211kbp\",\"Chr9_B:101kbp\",\"Chr8_A:788kbp\",\"Chr1_A:3037kbp\",\"Chr5_A:1794kbp\",\"Chr5_A:1507kbp\",\"Chr8_A:788kbp\",\"Chr11_A:14kbp\",\"Chr11_A:4918kbp\",\"Chr4_B:1530kbp\",\"Chr6_A:1393kbp\",\"Chr9_A:3150kbp\",\"Chr10_A:76kbp\",\"Chr3_A:501kbp\",\"Chr4_B:1530kbp\",\"Chr9_A:336kbp\",\"Chr3_B:25kbp\",\"Chr8_A:788kbp\",\"Chr8_B:780kbp\",\"Chr10_A:4101kbp\",\"Chr5_A:1507kbp\",\"Chr11_A:4918kbp\",\"Chr1_A:3037kbp\",\"Chr8_A:335kbp\",\"Chr9_A:3150kbp\",\"Chr9_B:101kbp\",\"Chr6_A:2634kbp\",\"Chr9_A:336kbp\",\"BES17:65kbp\",\"Chr5_A:1507kbp\",\"Chr1_A:990kbp\",\"Chr1_A:990kbp\",\"Chr11_A:4918kbp\",\"Chr10_A:4101kbp\",\"BES17:65kbp\",\"Chr8_B:2907kbp\",\"Chr11_B:4669kbp\",\"Chr5_A:1507kbp\",\"Chr8_A:335kbp\",\"BES17:65kbp\",\"Chr9_B:2297kbp\",\"Chr5_A:1675kbp\",\"Chr6_A:2589kbp\",\"Chr3_B:25kbp\",\"Chr5_A:1675kbp\",\"Chr11_B:4669kbp\",\"Chr5_A:1794kbp\",\"Chr11_A:4651kbp\",\"Chr4_A:1500kbp\",\"Chr9_B:101kbp\",\"Chr11_B:5168kbp\",\"Chr8_B:780kbp\",\"Chr8_B:3357kbp Chr8_B:3377kbp\",\"Chr1_A:990kbp\",\"Chr8_A:788kbp\",\"Chr11_A:4971kbp\",\"Chr9_B:101kbp\",\"Chr5_A:1794kbp\",\"Chr1_A:3037kbp\",\"Chr8_B:780kbp\",\"Chr10_A:4101kbp\",\"Chr9_A:336kbp\",\"Chr9_A:336kbp\",\"Chr5_A:1507kbp\",\"Chr8_A:3150kbp\",\"Chr8_A:335kbp\",\"Chr5_A:1794kbp\",\"Chr10_B:4083kbp\",\"Chr9_A:3150kbp\",\"Chr8_B:3140kbp\",\"Chr1_A:3037kbp\",\"Chr8_B:666kbp\",\"Chr9_A:336kbp\",\"Chr6_A:2634kbp\",\"Chr10_A:76kbp\",\"Chr6_A:2452kbp\",\"Chr11_A:14kbp\",\"Chr6_B:2385kbp\",\"Chr8_A:335kbp\",\"Chr9_B:101kbp\",\"Chr4_B:1530kbp\",\"Chr6_A:2452kbp\",\"Chr6_A:2589kbp\",\"Chr9_A:3150kbp\",\"Chr5_A:1675kbp\",\"Chr5_A:1794kbp\",\"Chr1_B:1442kbp\",\"Chr3_A:501kbp\",\"Chr3_A:501kbp\",\"Chr10_A:76kbp\",\"Chr6_A:2589kbp\",\"Chr5_A:1794kbp\",\"Chr11_A:4918kbp\",\"Chr5_A:1675kbp\",\"Chr9_B:101kbp\",\"Chr5_A:1507kbp\",\"Chr1_B:1069kbp\",\"Chr11_A:4651kbp\",\"Chr5_A:1507kbp\",\"Chr5_A:1794kbp\",\"Chr11_B:4669kbp\",\"Chr8_A:335kbp\",\"Chr8_B:3140kbp\",\"Chr8_A:335kbp\",\"Chr8_A:3150kbp\",\"Chr9_A:336kbp\",\"BES17:65kbp\",\"Chr11_B:4955kbp\",\"Chr1_B:1296kbp\",\"Chr8_B:3140kbp\",\"Chr8_A:335kbp\",\"Chr8_A:335kbp\",\"Chr8_A:3150kbp\",\"Chr8_A:788kbp\",\"Chr9_A:3150kbp\",\"Chr4_A:1500kbp\",\"Chr11_A:4918kbp\",\"Chr9_B:2297kbp\",\"Chr6_B:2385kbp\",\"Chr1_B:1296kbp\",\"Chr9_B:101kbp\",\"Chr9_A:3150kbp\",\"Chr9_A:211kbp\",\"Chr4_A:1500kbp\",\"Chr10_B:58kbp\",\"Chr8_B:780kbp\",\"Chr6_A:2452kbp\",\"Chr10_B:5341kbp\",\"Chr1_B:223kbp\",\"Chr9_B:101kbp\",\"Chr8_B:666kbp\",\"Chr11_A:4651kbp\",\"Chr9_A:3150kbp\",\"Chr1_B:1442kbp\",\"Chr11_A:4918kbp\",\"Chr6_A:1393kbp\",\"Chr10_B:58kbp\",\"Chr6_A:2589kbp\",\"Chr9_B:2297kbp\",\"Chr8_A:788kbp\",\"Chr5_A:1507kbp\",\"Chr8_B:666kbp\",\"Chr8_B:780kbp\",\"Chr5_A:67kbp\"]],[\"r\",[\"81d2e85a-ffc3-4c89-a448-d59ec32747f0\",\"d5d662ba-16f9-405d-be8a-f2cf9330a262\",\"a4f4ccd8-33b5-4e52-aa47-acadb648e72f\",\"3a242236-0177-40af-ba86-72840dbe3a0e\",\"c7af1802-956c-4076-89e6-fd713f21d9ca\",\"f88ef346-8b5e-467c-b6ab-fcaa98d1ece8\",\"59088221-50f7-42f2-a2ff-6efdf2ce2406\",\"1180e6d1-5028-4398-a64a-ab7745a56d12\",\"372f2fb3-80ec-4bcc-b065-cd0035576ad7\",\"7c7d2e4f-70ff-4a66-be1d-1b56b0a44dbd\",\"5b5e8a3a-b4b8-47df-9370-9986c1a1ebfc\",\"5ae937f9-0d6d-4005-8af7-242de4685fdd\",\"b1bd74aa-9fc5-466b-a9c0-82c82ef9833f\",\"c8af1b28-c40c-453a-9569-83846281f485\",\"f31626c5-6215-4895-9057-fbeb9cd05316\",\"bbf1e2c9-4db1-43a2-ad25-b855d81fb615\",\"e501e537-3dae-4009-9b14-63eb7ac5db27\",\"f0111760-36dd-4344-b873-8736acc1fef0\",\"68f7c094-cc0e-4185-bc9e-74191d04661c\",\"b3f9f1c3-b25c-490c-8bf7-a3fcdb29b83d\",\"3c0a962f-c532-48bf-aa95-3ef6952bb111\",\"500a9034-a9d2-4fb6-8962-ab7a9c6fa820\",\"9e6a4228-8ba7-4537-980d-c73b28635626\",\"a2e10252-57e9-4729-845c-ed3709e24c0e\",\"aabec731-6715-4976-81a5-0d92c0440005\",\"180465cb-ea23-41cf-933c-257b9ca6c7c9\",\"1e3521e0-a615-430e-97f9-63e818880316\",\"e4be7637-d2c2-4ca3-ab46-006628b1c716\",\"8f764080-ea50-4b61-ae6b-b6d50d35c17a\",\"b25f8101-2e85-4119-90cc-23a7165bb5e6\",\"d0bf91bf-2262-4bda-91fb-64c2bcea72d4\",\"11c71b58-62a4-4e26-ad59-a2778ea16d0d\",\"277e1119-5a4e-4819-a3b7-f493fa367093\",\"3420efe0-7d19-4a7e-9b98-a61b324a6f78\",\"e8c06da8-7d64-4386-b1a6-586f77747d72\",\"17d791aa-483b-489a-84c1-04f45fe00d83\",\"d148ad15-b995-4c60-8180-7a5841e4428b\",\"4ca3be16-77e8-46d5-b9d5-113fead7ab93\",\"56904222-3f13-412e-a6b8-e9d14e5b7d82\",\"49c1006c-5ce1-4b3a-b71a-19db0481c3e8\",\"446683c9-2209-4a42-833a-6f33fa3277ba\",\"18b88ee7-4f43-4495-9f57-5b4264071c7f\",\"ec403618-79f5-4ae1-b252-eb864b977498\",\"4ab91423-6d39-479c-89d7-a5da73d0d04e\",\"ea0ed805-0dd6-490f-a71d-d4c359c6c807\",\"6c9a6d6d-98e0-4a60-871e-a8fea4103ced\",\"0ba8fe62-ddae-4367-b910-0354a63d59da\",\"243fa1b8-6a29-4431-9bfa-b49218aea3ff\",\"2941337a-fbf0-478b-a811-f5765c2e28f0\",\"c681f9b0-110b-4b22-8d10-7a609cb7399d\",\"4f6793ac-eea3-4a8a-b9a3-a2689787fd6d\",\"e851f574-9156-4d9f-8452-414d425223dd\",\"2cc93c6f-b1e4-493d-adf0-0486bd4b30e1\",\"36de698c-2300-442b-944c-8b5e8786773d\",\"3ba46eca-5bed-4eda-825c-165727ee4497\",\"028fa29d-7307-460d-9af4-048166a973d9\",\"5b5ff22b-3933-4adc-81b7-15b0cff0476f\",\"095a95c6-2a91-40c1-b5c7-91e8abb96ff6\",\"5c2c45d7-844a-4c96-a8af-cb86bd1f6f70\",\"977739d9-177b-4187-a216-f103044a5e67\",\"4f1ea618-9886-48cb-93d4-ac5dad268c90\",\"a0390b0a-e216-4dff-ad8e-292f02926027\",\"5f03374b-e83d-463d-9534-dbdda4e2ae24\",\"67ccd89f-15ac-492c-b2a7-4b090be1504b\",\"948006eb-e7d3-4080-95cb-b353cae1f8d8\",\"cedbca92-e8ee-42d6-ae52-f730d1a732f1\",\"802cd34a-079f-40ab-bb2c-ee916a125c9e\",\"2b448934-9396-45ee-a3d0-c37f01386dcc\",\"38bbff3e-a250-4483-8d2b-0e6e9a24a3d3\",\"f17e779a-a3bc-49f1-b054-22bcfeb2e05a\",\"f0a2339f-ff17-40cc-96a7-d4328e8f35e6\",\"68110d1d-2558-4496-bb04-22463cd2ed7f\",\"a782930e-c0b6-4262-8e09-6d3deed33161\",\"17819e54-3adc-4024-936a-cce4e6c41648\",\"a39acbb3-f691-46f1-9a76-f3c99e461e67\",\"39eb2833-b09b-4887-849a-4c38d0e1464b\",\"bf469545-e0ec-4331-89a3-30e7a77b09f4\",\"afa403e2-3219-4068-b151-9c7b14a04630\",\"85bad868-d102-4b6f-a8d2-f88463e9f76a\",\"fd54977d-7088-455d-a4df-b891cec3c23a\",\"efa81edb-831b-4315-b805-decd1823a601\",\"d2f0718a-f0c0-4d3d-9258-f781d5205515\",\"2df22161-f0bb-40a6-a4cb-fb2c5fcad37b\",\"c75cd17b-8238-4d15-8b40-96631e08dbb9\",\"3a80566c-1c34-47a4-bf44-b013e93475a9\",\"738d6c43-5d3e-4e93-b3b3-c4c9257eca34\",\"e26c463c-1414-49ec-a19b-aadba8e5b5fd\",\"74950eac-164e-4fba-99dc-24b2bdeda889\",\"0dad557e-ee83-49af-aa06-e5cffab0031c\",\"2251a5db-3c53-4ac1-bba6-ffb3fb752463\",\"e5617fda-720c-4543-86f6-c438f23150ab\",\"675b4c70-8235-43e8-a2f0-e6f4830a3ac3\",\"7acb1343-6e25-4a4d-a6f6-077e85daf3e3\",\"9805c5af-446d-4a1c-8aa6-2a1365f0003b\",\"c498afc2-4485-4e51-bbd6-d994e2b0d52c\",\"33e339f7-4ba3-4cae-9bbe-238d56a69e62\",\"4b2815f8-c8fb-479d-b732-17c8dea48f19\",\"15c960ee-6446-4288-a176-e0f632f7aa0a\",\"ce7fffc1-12c3-4e3f-adbf-c0ecf8f7a54d\",\"135a4731-c534-4bb8-999e-3150249dc5a5\",\"8e76ccd6-b5cd-4c3e-890d-57a456eb4d6f\",\"645440b5-1caf-4bec-9598-70efa0f8fded\",\"255aa32b-f35f-405f-8f75-45acad4ad28e\",\"a1cc83cf-5927-4cef-a075-22138c28d1c3\",\"3035c36b-d1d7-460f-97aa-f6570dc9ec0f\",\"d9808daf-4490-4361-8573-944722093e53\",\"587a7cca-3fa9-4343-a6e6-52cbb916e0dd\",\"c6c0c95b-9b41-4518-8f34-0f2a78fbe39a\",\"ddafd9e2-1dad-40d1-b0a5-f7f454a5680f\",\"67bec7ab-35af-4a88-a90e-ed03c3c87b3b\",\"3332e0fc-4e5d-4944-a8f4-b1e8723684eb\",\"496ba838-bd23-4bb7-8b1f-51514d3d4138\",\"3e1cac5a-0ac0-49af-b340-a6d3defe9ee3\",\"ad62668b-4037-4b74-9ba0-28116d783cfc\",\"5fab750d-490c-4b6c-a82c-b5d389639846\",\"98dfb477-f951-4bb4-96d1-77ea7040491b\",\"413e7f16-0742-4d4d-a956-1bf870d099b9\",\"cc3f9e25-f1f9-4553-a4da-ffbea7fd2c32\",\"e6d5e15d-a4dc-47fd-9fd6-406b91b42e32\",\"32f6b03f-de91-473a-9dda-8bedce19fb24\",\"8f32a5e5-b985-4fd6-9c0c-5b7095f26137\",\"b9eca466-2513-4382-9f6c-c845bfd16306\",\"d32416f3-1ed8-48b2-9727-53cd1e6ffea1\",\"95badcf4-0504-4a61-9684-e95ff4a0d2c1\",\"fa6453c7-e4ab-4382-b076-df2b5963bddc\",\"fbec598c-fb59-4713-bbae-8b7f1314e4ea\",\"ca74c3d1-d902-4ab2-9e28-d91d6fe2e2b9\",\"933541ac-7341-4344-9e3f-e5337d56cbc9\",\"4414a3cc-bdc6-419f-b564-411b05f03d43\",\"2de4a0e6-4f79-4bba-a62a-c90bb365a167\",\"1cd7f500-7df0-4036-90e3-43fe7f075637\",\"1d262f59-fc15-4496-8dfe-8a7a3ac236e0\",\"29a859f8-8878-45b1-915b-948c11be23f3\",\"fe88e8cd-fd12-4a5c-be48-f0914802831e\",\"c3edef0a-ae8a-4a03-95e9-2dd4bda78e1f\",\"04bfd40c-1b15-4ec6-84bb-c02acfc255f1\",\"0c3e10f4-c3e1-4abb-b711-28bbf97f526f\",\"1467e3b6-6fdc-4887-9d03-874509d42b53\",\"ec0e6615-75a0-47ab-9332-a708c09f8a1a\",\"9bbab785-29ba-42ec-a736-d406f6413483\",\"58808fad-4254-4ef3-a92b-cc86c1cb58e7\",\"18773946-610b-40d3-805c-197ce855246f\",\"74b73722-bf0b-4dfa-b518-9ca3d00adb20\",\"56aa1448-03d7-4477-939d-474bb002c93d\",\"f889af48-b520-46f2-9486-963dd579f203\",\"05acf8c1-f545-4c66-a8df-aecc13faf325\",\"2ec66b35-c9fa-427a-bdfb-2168b1648006\",\"f6562405-f9d2-43c3-b6e4-8a5c2ba314ea\",\"7a26574c-0702-4f5e-92d6-21ae835309a8\",\"a5ad587e-48bb-4320-8868-b1a7deac1b30\",\"3e1d908c-90df-4b1d-ac6e-82ac29fd28c4\",\"4acc58ee-6f0a-4eaf-a26a-e4b7e562c74f\",\"d4725328-dc8c-41fa-978d-5838fc9f54b6\",\"1daead82-f253-4da1-9659-e600dd59a3df\",\"3e550e8b-3e6f-4e55-a194-5573271297b3\",\"b4a2dd09-67fe-4241-8b8a-7909729fcfda\",\"1b57bfd8-8fc3-460a-8fa7-9beb9b0e35f7\",\"6ac8c4c8-ecfe-4b40-86be-8759751ab864\",\"18b9d283-c9a6-4678-86b6-a708ac2aff16\",\"8c6dec52-244c-4458-b72b-43f0f150917d\",\"0d12f9a2-657d-4ea3-937c-e7078be7c80e\",\"88efb9bc-1898-4dad-add5-9346518f4c44\",\"c3f10973-2691-4cb7-bc5a-3627340bf0f3\",\"d4a9fa10-059b-49b0-a4fd-fe41cb360bfa\",\"5b88e8a4-618f-4c27-918a-a620b095da89\",\"2e80dc17-72a8-4599-98de-344bbb8177a9\",\"7977e1cc-0499-4578-a570-f3df0585165c\",\"24236853-7450-4a30-aeef-cb28348def79\",\"b5d324a4-49a9-4725-a3fd-bc20721061c9\",\"9bed4145-a3fd-4672-8991-03406cda49d4\",\"d2330cea-fbe9-4071-9813-9666c53e9680\",\"c233b4a8-746f-4a68-b00f-02863b8c5547\",\"71a3c72f-b08e-420a-88be-c0404ed7a385\",\"74031282-61a4-499b-995e-a869e5cc7aed\",\"6fba876b-b706-42ff-be9e-71903c800557\",\"11ce3fc3-9627-42b0-ae8a-41fca5ed53b9\",\"d8d02263-2b22-422e-ba9f-55fec10d7ad8\",\"d9d5a9b3-3d23-45d3-bad9-d89e6a8d6cd3\",\"c2d65ae2-15a1-4873-ad42-5e5b037af497\",\"5e92097b-2467-40a6-be21-1b595276b74b\",\"89780a14-7b49-47cd-bdd9-f9056b288782\",\"8cf66d9a-c5f7-4cd1-a3e8-252a07ef829d\",\"22e8b60e-23af-44b9-8931-83304ef57b60\",\"d553f66e-d96d-4748-958c-a57971cf10ef\",\"e807d8cd-1dcc-44c6-84ea-97abf3b8d066\",\"7e874003-3b14-4305-9a2d-d7637be656f5\",\"21884aca-98be-4955-99e6-ed3cf29194b7\",\"8505fea9-dd92-49c0-b14e-02fb76d8b37e\",\"4923f482-780f-4c6b-98ab-85493baefe8e\",\"a85d70e3-d1d2-4391-a041-317559bf6722\",\"1b894619-bd16-4cdd-8ea9-21db85ff4b0d\",\"4135f2dd-69ec-4be1-b164-1dec45a63792\",\"4fd66499-3ad5-4010-8760-f37888b0b905\",\"2d986e3c-b156-4889-bdac-a49f50d98905\",\"2cf82828-ea83-43e8-af12-976d9095196b\",\"58b4546e-a565-4c80-b09e-f9bdb250d4de\",\"e2c44c40-a7c0-4da4-b83e-393d40c916a8\",\"a5ff7208-fd14-4c69-979c-879039de0ab0\",\"a7911b32-4ed9-4317-9b69-430acb37651d\",\"278fd054-44e1-4f29-8bce-5185dd91a828\",\"22ab3079-8faf-431a-b7db-0175b42ad6d4\",\"bc9821fb-7abb-472a-99fb-bd5bfdb84ace\",\"81e90015-18b3-439d-93e9-cbe37281f160\",\"d450f0dd-c086-4a04-ab5d-9aac64941e6e\",\"3422231e-805c-4af4-8838-596594ace278\",\"69223295-58e2-4d0b-88b0-dc72f31bd615\",\"1651c7df-0d7c-466d-a8a3-424f5113a6f8\",\"b7e8299b-20dc-4387-88ee-7e26185b3683\",\"3aa5f37f-f9ef-4274-9151-a9ca6877ef36\",\"379a2638-d0ab-4c85-a49f-41046843f4af\",\"61e63765-6879-48b8-b242-e9c9ce4f309e\",\"c8965590-8f05-4ec9-abd1-51a4ee7a74fe\",\"9848201c-d09f-42a8-ae98-dac73bcd3b57\",\"0cc427aa-6147-4f8d-8bc7-73e9ae0579ba\",\"fd0c7db6-f407-4376-babe-9ce8122b71fb\",\"6a9dbaef-8472-4257-b62e-a5801cccba7e\",\"d180c25c-758e-4c87-8a91-f98c47627587\",\"c3380638-e92e-4afa-9a75-fcd090ce002e\",\"f9c411b1-8113-4d90-957f-7aac751644f0\",\"bb30f489-a3c8-4b90-afbb-cfaeb8613013\",\"827c56bb-03cd-4a29-912f-97d08f9650ba\",\"aa59ed16-49c4-48dd-acd0-3faefebe323e\",\"d2a6bd23-a522-4234-976e-1bd65f5dbb95\",\"95fc1e5a-9a52-4011-8586-77719e68ae00\",\"fb703d08-bebb-4635-acf2-bba330009e98\",\"64d0053f-35f0-40e8-a312-0bb1133757ed\",\"2567079a-bdb3-41d1-9471-e20996ec6c87\",\"eeeb677d-279f-4245-b8e6-d4f65938a575\",\"97523091-7686-4137-9fc3-a127689cbbd4\",\"575f7b61-e5c9-4177-8ed9-38f096376f16\",\"9f0bf826-8831-4360-839b-2474d48e1a54\",\"f14b46c7-9e3e-40d0-b36d-8731e1070cd3\",\"54dbfd71-f07f-486b-8e49-f2c56217fa42\",\"29261982-0ef0-4ddb-b672-51687e469d3c\",\"dd2aa387-9146-4b76-ae86-2a33ab908f94\",\"c88e8355-4960-4fe5-a958-848e3cf75a01\",\"d97f6af7-8bde-43e3-ac55-26be3ab115e6\",\"9574ad5d-83e0-4b46-b78d-0fa8ab04cbd4\",\"4c2f3a95-11bc-4c97-9a66-5c9e256688d7\",\"2d90c124-ebee-4def-ab1c-207e18ac3bdb\",\"43dc96d7-73d5-4476-a3f0-ed346e77c9ea\",\"fc9116e1-fbb0-40e1-9ca8-c1f4f2db1a70\",\"0dfba823-8ee8-47ee-9e28-720dcb790c3e\",\"cc7e3285-d999-4dde-b722-80c31a366ce3\",\"0a132ce7-aaa8-4925-8801-6187b3088d67\",\"59ab3d09-bb90-403d-b25e-1c3e8d87e40e\",\"e1343a25-5b1e-4c6a-9a93-f1a4f1cc6dfd\",\"0f3c6d55-50be-4abd-b57f-1d3d1b8d8b62\",\"13c73d5a-e337-4ee0-a098-a13381bc8f37\",\"aa0dcf4d-02d9-4dd0-a029-64799893e1a6\",\"bfeb18c7-8fe9-47b3-8bc0-c97703bf9ecc\",\"d52164a7-90ad-4d03-bf00-0775bbd789b0\",\"b50d89ce-d15c-4e89-81be-cad4cd722323\",\"36c94480-7143-4a42-a99c-34c39f2721f2\",\"c71bf522-e0b4-4924-8f76-6a3432df0cae\",\"a2490da2-e942-4798-abee-cabfcee86ba8\",\"58a7a7ee-7ebe-4c86-9b39-ed5d885ac0a5\",\"6f2ba873-c9d3-4e64-a083-4be4dba3c2f5\",\"9199eeaa-d2c8-449e-914a-ac7e1bb27bb6\",\"9da1ca83-e4c7-4ab4-835b-a2fb1cae7097\",\"15d32770-2dab-4f25-9e2b-08939ff3b93b\",\"6242e1a4-a8cd-49e3-90b7-bb7ad6f801e9\",\"f9539ba8-9ad8-46c0-8aeb-7245551b2362\",\"2e8c7960-f119-47ca-82e4-24b3438c3237\",\"6cda97a0-186e-4c96-a5f2-ae66e5abc09f\",\"685e1057-c636-4a16-b2cf-101029025bfe\",\"f8c21af3-ca18-4e95-91d0-c477d3273b25\",\"4d055986-5cf5-4426-8c24-3ee13066c45b\",\"ebba22ff-13f2-4681-bc04-2f5485b61e4d\",\"259e4c64-1263-4ff6-8c25-e45268f899c2\",\"e74fb1f6-7f28-4cda-9f10-f9607ba356df\",\"ba97cc41-f4ce-4eab-9abc-908f769735ba\",\"dbf98cd0-8b9b-4c67-8059-035a7d04bfeb\",\"1c7c9536-662c-4492-9682-9a65104d7e5a\",\"891b0c63-28a5-4b0b-8d42-480448f88144\",\"104bede0-db09-4f32-a0b7-840e38dfc14c\",\"39cd3e26-9d0a-42f1-bab9-c7a9119e578d\",\"353cd2c3-a580-4f7b-9792-411c86e168f4\",\"9b2ad935-ce56-4939-a8f6-1c5858ba1816\",\"50b68062-5f85-401a-be73-0bfab59a2613\",\"9461fb61-1e78-48bd-94b4-91155a3797f5\",\"2aa5403a-7932-477a-a62b-1f412ff8e98e\",\"6ae33c73-c687-4f1a-aa3b-1bc8c22ac28c\",\"a53b679a-d6c0-4d7a-ae9c-fccd6f3a03cd\",\"dd821741-bb25-4772-b1d4-a7f008a53a40\",\"9ddf6657-56eb-427a-9cc6-8c9dff996ced\",\"0ed9020c-be3c-40fe-84eb-e68e3f583370\",\"6989afb2-62db-4891-9015-5d939df06add\",\"0fb46639-7df2-4207-bfe7-7d030f5f9723\",\"e787133b-6604-4655-8d34-f0a91071d53e\",\"aa061de3-00c9-48cb-8375-74803e270497\",\"a2f7fd9c-f4a0-433b-8869-b9762ce77814\",\"389d55c8-3460-4b09-84e5-d3b83d4e7944\",\"1fd4119f-c423-4e78-8ff1-c0bae466ce0f\",\"259797d3-ef03-401b-851c-ddae3d9cb46a\",\"5a244189-5efa-49f9-8c26-f36c026e8996\",\"e048b84e-f877-4b17-bc50-acf351057482\",\"9d6278fb-9130-4d30-9d5b-4f4bc54a7799\",\"7d83cf6d-9dda-42a3-9bc1-eaaed65907eb\",\"0b86d626-686e-4f06-9ac8-8f3cdf1ea9c0\",\"a2e48b8c-a864-4f32-812a-c59bbc80d336\",\"ee1091a8-87a3-4187-a49d-737aa03488b8\",\"27dbd441-6972-4eff-9db4-514d6ab8343b\",\"c63e73b1-f688-4a1b-9453-69b3868c83de\",\"0b682c75-54f9-4278-ad53-36530911d549\",\"285a8e79-6169-4ecc-af4d-126e3ca1af2d\",\"b04634a8-58f5-4b17-bbfc-c0cb954895f5\",\"4315408e-cdf5-47b4-854c-6fadfb4b8f75\",\"44af1c82-7345-4814-9c5e-c8b09779bcec\",\"4e00d300-3338-4085-804e-1a079f2fd534\",\"4999a004-fefa-43e0-95a5-7d904002cbb4\",\"602a3733-780a-40b2-bf8b-4a0d054bfac6\",\"7178089f-18fb-4f5f-8bea-87175ca759fb\",\"22ccf210-f3c1-4fd5-9e5f-737540096d00\",\"33b4f89e-adaf-4362-a8cf-e227577b1127\",\"c555ecd8-42e0-461e-9ec3-c1a52546bfdd\",\"405a790b-0cc2-4867-9419-83765142f8a0\",\"7caa42fe-bf8d-4538-873a-e9d9846e69e3\",\"c1503b0c-db70-4123-ba49-b95d7bfda942\",\"9a2cd683-9377-4d85-a7cb-f1e92b4cb472\",\"82d57fb1-6b32-47b3-9042-237c85b2020a\",\"b77cb163-e242-412c-ae08-b51d0dcc6d14\",\"634e9930-1463-4c3a-851d-face727946f8\",\"34503900-23ce-440b-9498-402246ab8d5c\",\"207e2978-ae3f-4bc6-959d-842c4f09a14e\",\"3218a879-535d-429e-9bd0-30d498fe0465\",\"fd3b0a3f-e897-4ffa-aa26-c1808b78f0ee\",\"3c3febb2-e436-48c5-99d7-2adafb7e727f\",\"237183a8-1e7e-4f58-a352-ca37171362b3\",\"0cba646d-93f1-4b51-925f-2eeeb2c40618\",\"e6b65e4b-a357-449e-aba5-3c75644336bb\",\"aea9dddb-da9a-4a5c-bbbe-e7efb58ccd25\",\"822a2080-76fa-4127-a0c2-ac4f4861c50a\",\"446f801c-3d26-4a4c-99e0-896f3056cbc9\",\"73db3ef6-b636-4486-89b1-b3e3198b9296\",\"2d9469ca-bfa0-41c7-b15a-eb4fe57cde2d\",\"11675c74-d5f6-45a7-8b2b-da78e7907de5\",\"5f1ea1b6-a6cd-41ca-82df-313f9388e3b4\",\"3e67bbd8-86cf-442c-897a-e34a5a7b6aa6\",\"48b2e29a-780f-4c9c-b8e3-121f0fbf2f36\",\"ea2dd284-6524-4786-b7d4-31414706dc64\",\"74284c04-d3d3-476c-bf12-d7f6b6d84d20\",\"ae876501-bf38-4a42-9c09-1707b2ba2111\",\"e37f2cf9-cea7-4fd3-97e5-dbfca1c403f1\",\"825a417f-d7aa-40a1-85a4-2298ad9541ba\",\"971236d7-28ee-4f5e-9a14-13f112d995b2\",\"21a7bfb3-8bf7-4fc8-8f7c-be8809d424cc\",\"4e5eb90b-d4e3-4acc-abea-d8c7181f5294\",\"3742d1b5-f8de-4087-95c9-96ebe0a75bf2\",\"43550670-3821-425b-86b9-c57bf1b282f6\",\"8e9c29f0-9d6f-45fe-8054-3f65539f1071\",\"dfbd0966-a901-4567-add1-1e13f4dafbd6\",\"53b6ce01-8c3e-486e-a601-2e9175d7e180\",\"bea171db-e605-4371-9a93-410d187ab481\",\"428dd779-7641-4f18-8848-731fd9c2390f\",\"f34ad5a5-8376-49f2-a9d5-62e1f0a72c79\",\"93d69853-ac4b-4956-ba00-c48405b8626f\",\"34be2803-f07d-46f2-879a-76844d55ddab\",\"f350375c-6713-4f3a-acab-a56fcea20436\",\"6524eafa-1e4b-44b6-a4ee-dd29fff8dbc5\",\"cd3deb6a-8bcb-46ba-9fcd-502d14805836\",\"c0d895ff-42c4-4a67-bd13-3ff3478bd562\",\"59e64078-d2c1-4f24-9e0b-af1e851ea97e\",\"ddd1eb4b-0027-425a-be9b-acf74f43ef4d\",\"5dec8b9e-e836-4a72-99f1-5923ced1a23b\",\"61783200-7475-40a2-aa9e-e19c9712881f\",\"137129fd-2e7f-4efb-a1fd-0c7d4ea5edab\",\"c1141920-7e1b-42e3-bb7e-e8b6b4cc017b\",\"d64e10c5-d4d1-4a54-810c-984668a325f8\",\"dc4b1202-3738-4a38-b5f3-ff43989015f0\",\"4711b5f3-71c0-41f2-9df2-70c640a05a73\",\"dea94d33-3e74-40e1-899d-8376f89d4619\",\"0a530568-18fd-4ab9-bdcd-3df091ff419d\",\"e088cebd-0e1f-4730-bf73-b648bd8a8140\",\"e51c23f6-cb85-49f6-81c4-bde2ba20a589\",\"cf834452-caa1-49bf-ae74-083f418a2c11\",\"68aa66ed-39ed-4f7f-8784-a29349245d39\",\"ec1900ad-423f-449a-87c4-bc66facedd27\",\"5f8a861a-ecc6-44ad-b9c2-25b9f9ab1387\",\"d996a2ba-f82a-4a02-a29a-6fcefc40c53d\",\"f1d1ecb9-d5e0-41fc-9f85-9ecd267460b4\",\"ee8c2cd9-fd1e-47e6-8785-0265f0e27a99\",\"825c771b-2ddf-4edf-9223-d768daf4b24a\",\"14a13202-5014-4196-9a64-fde284584c96\",\"9a1c3a5e-911d-4c59-98b8-f45d00db5ef7\",\"ec22ecb8-e4fb-4454-8561-12599e4ecd32\",\"9defd579-1ad4-4fb1-8bd9-cd07a87e7c18\",\"eabe9037-e8ed-42d4-89d1-239682868a39\",\"82466bb5-bdc1-46be-8a4f-890cef4d28d5\",\"7c4f18a6-9b6f-47ed-a006-c2afca8f24ca\",\"6d8ca8e1-afc7-4eca-adab-00d06fdf4035\",\"a66ebb8c-07fa-412e-af4f-f301da37e553\",\"9f6667be-b90b-49ef-bb25-d2eafa08373b\",\"1f6d86c3-cb95-4b94-bdd1-4a20a4e4ce9e\",\"02f7d8bd-7125-4dfc-95da-47a78a7482e8\",\"ddaee534-802e-4d08-95b2-d30f29288c1b\",\"72a8f29a-c84e-430d-a159-11adf098ae03\",\"f04f0b8d-df47-4b1c-bd8e-c298082a7dad\",\"542ca273-348f-4515-8aac-1ffd9634a993\",\"aee683a1-db36-4fe2-b572-958474de12b7\",\"b2b9d98f-b6d2-4f14-8f5e-30b6dde44a2d\",\"26902bba-e807-4b66-ad2c-df28e4aaaf25\",\"e229b210-a6c6-46b1-86b2-be5b25bcd58f\",\"3d7d1109-a0ba-4a89-b512-f5fb745524a1\",\"d2df89cd-9b86-4026-a445-396f6304418b\",\"075c9365-400a-4bc5-afbb-c3ca7b6f795b\",\"a5eb8c07-12f0-4384-b706-47e1518ce70c\",\"fa2d1661-3624-46bf-ade3-752ee0a72c53\",\"a2e65b08-f470-4f17-bbf5-b4cd6d0f56e5\",\"082b9510-67e9-4f9e-bb87-5dc34769a554\",\"88556199-d6e5-4f42-a0c1-14e91983aad3\",\"b5382dee-86a4-4089-a1a9-bf4afbc6b581\",\"a837241c-ac08-4919-9fdb-dea38fbdd660\",\"b9713e4b-b330-4c83-99f5-f951845bdad9\",\"e50ab608-68e3-4de5-b4ec-53831c88ab4a\",\"dfbac5a8-7210-405a-bec6-43929b850d00\",\"02200312-7e86-4aa8-8f9f-a99cdcba7bcf\",\"849bea1f-3af4-4c8b-bb1f-81bbbf933541\",\"5ceea983-3951-4f19-9f9d-2912b0b47984\",\"0477b223-e2ce-4431-aef7-5aeac9a956e5\",\"92b47df7-a840-43d6-a7e7-0c50c84f3ac9\",\"8933967a-746a-492b-ba36-5b29e978afc9\",\"86195940-6b92-40f4-b40f-f073a2a938cd\",\"5c77ecfe-d2a0-4ac8-91c1-52698119f785\",\"cb79b163-5431-4c40-b299-2c4f6eef1bc8\",\"23ec9824-719d-4dc5-ae44-1e2cd90eaefc\",\"3fb9f17c-748d-4d51-84d1-3b7cb3cd7297\",\"ac03b166-54de-4fb6-8f8b-1dcb73b64f3c\",\"a764404b-f70e-4585-99a6-06225b51e41d\",\"e0d56ec5-be13-4e0b-a9c7-fe1a8cb5a9ae\",\"19c57161-f381-406a-9270-f1317994b811\",\"03f2af33-9f50-4ae9-9b7d-fcc252b653c3\",\"315d2b25-25c2-4603-a5b6-1f2d2822563a\",\"c14bb8d5-5101-4292-8333-088d7c019862\",\"f4dda643-516b-40ce-ae7c-1c2b61ae2c8e\",\"e47442c2-5bd3-4bb9-87f6-8e940c1be30b\",\"1badd66e-96e4-49ed-b1a7-a6af6d660fc6\",\"0cca99e8-033f-41d5-b111-55900502cb5b\",\"719ce59c-700d-4464-8f66-8439071adf99\",\"41fc7de6-5c37-45d9-986e-f7dea5219ca0\",\"c2f318d4-4a8e-47a5-bbcc-79db504f03ee\",\"800b84bd-a3ae-4d95-9241-f1014517ca7a\",\"2979d13d-0fe0-42cc-9654-41b4578a7aa4\",\"64e04e6f-69a2-4b68-a021-0e4dc515efd1\",\"5908af9c-d294-4ef8-aa7e-d757e1863e7f\",\"1baf5b72-020e-47fd-a085-b2aa9478de53\",\"7b4a872b-d8c8-464b-988a-eae3e91f18d9\",\"c8669c0a-1e3f-40e1-bf38-8c702b6c182b\",\"cd0036c9-e7bc-4859-af0d-405fb289fdc3\",\"50d26eaf-77f3-4b3e-96aa-7252dd0cefcb\",\"42365a10-977c-440c-a9c3-57ada381c625\",\"f2f07db5-08df-4e4a-947d-b2ee88d248d0\",\"287e5f89-5e7a-4e8f-87e3-a54def410c85\",\"e24aec5e-cdd6-4951-8e82-dfc8035dc1a3\",\"5386817b-ac23-4516-809b-5c025a0cb9c9\",\"88508761-fe70-495d-b6ba-7c7e4f42a574\",\"9a3ca2bc-ca15-493f-a436-3b7b06920961\",\"2a65b11a-6d3c-43bb-aba0-65464627674c\",\"cbc6c21c-e67f-4263-bf99-566cb3f8be94\",\"f4f7c0b3-d2ab-423f-b532-a3b3b2a27108\",\"02e53d0d-83ef-43d6-89ba-cfe1a6918030\",\"e36b7e9e-26d3-421b-b336-d7223e4abf79\",\"183b6e8e-7776-4dfe-a203-eca347d5664d\",\"0aa62a8c-2e1f-446d-9fcf-b31ef855c64a\",\"5ec78583-5c64-46cf-a5c4-4b4fe0a3ed4d\",\"52edaed0-1391-4be7-8c0d-602551cabc9b\",\"67ae3d7f-4df0-447f-94c4-8d82f9486626\",\"fa74d8ca-2c33-4912-9c4e-0a4830c5cfca\",\"fef14911-b009-4967-86cf-160cd9b44cb2\",\"46665ed1-c21b-4254-9c57-4f5197a6e90c\",\"1529c69f-1d25-4da6-abbd-f81e1cbbb5ef\",\"e48acf0e-2bde-4f13-929c-4c93e323f993\",\"234764b5-576f-471e-a1e5-c3a410838aa9\",\"cece4eee-094e-433c-b6b5-92c106fb9378\",\"5007c384-7bc3-4c0e-9e71-04856389bf64\",\"9712df5f-bbd4-42ce-aa66-6d60ff38e734\",\"ec017d54-e418-4555-84b4-52c0e306ccc1\",\"de226857-5cc6-42ce-8644-a4645871cbd6\",\"014aba87-8ce4-4dcb-8688-cf4a24e20c76\",\"663e943f-7318-416c-a7a0-d7fb0c36667d\",\"ae17ed58-cc48-4b9c-b180-8d921bfb870e\",\"1fcb5f07-a40b-436b-846e-e04b2bb8f040\",\"40f82df1-018b-441e-89ed-5a64f5380bde\",\"4bf52d36-0c66-4df7-ba0a-9f98fb31a629\",\"b99709d8-ff29-4331-a3a7-f6088f4bd0f2\",\"b0b03d10-5098-40c2-a066-72f43ee64a15\",\"daa7140b-d1ff-49b5-894c-968402c2fe1c\",\"a048d0bd-405f-49ae-9d9f-29cfa54445a2\",\"63e2c695-3777-4323-8843-a7f8f9d5706b\",\"760fb769-c5b8-4ac1-94e5-a41909b23bfd\",\"d52139f3-ff23-46c2-b978-04a1e4148c86\",\"38a7b558-ac73-4ac5-a0de-74cacee6fda3\",\"092f1968-d76f-4590-856a-2a51509bf8cd\",\"9554b650-aa3f-4e0a-89b3-1a9f711947bb\",\"b4127ec1-9865-4f5b-98af-14326440b845\",\"ba2036e9-156f-4fd8-acdb-03421e55f41d\",\"afff05d2-7995-489a-908b-bfcd58696487\",\"a06531fd-70f2-4b5e-8b01-b129e5762209\",\"59f43aa2-cd66-4596-970f-eae592dfec2e\",\"a1fa7355-9b73-40dd-8a66-91949f9b956a\",\"199a09c7-f3ee-47f6-acd2-c8e73e3d34a9\",\"b807a393-98b9-4ba6-856e-40bc86967105\",\"53bc99f7-90ac-45f2-9a50-b977e3ccfec7\",\"e84b66c1-3ff7-44c1-813c-9c5e18756b2d\",\"5258aea2-df8f-42a7-8114-1f74540db33d\",\"be788d0e-d466-4e00-a33d-8668b88b45e8\",\"523117c5-7e16-4fc5-a765-952e2eec8332\",\"f099ac85-9da6-4bf8-b230-cad92cc79b56\",\"32c6cc51-8296-46f2-a2dd-5cc23c3b5e75\",\"43e93df1-c6d5-4cd6-a493-9325b5bb3f0f\",\"b00b600f-d886-4e63-bee9-83a675e8a2d8\",\"3bbfa1f2-3790-4d8a-b691-a60848711db0\",\"fd50063f-0808-47b0-84ad-8677c711570b\",\"0a3e616b-93e9-4ec0-8351-c9562070f577\",\"bb6043f3-e638-40a8-a8c2-cbd5c9721e88\",\"78a48660-4ef6-48fc-8769-c21a1a791d4e\",\"b4c13236-007d-44ed-9b66-b004571b2f8c\",\"7434149d-11d9-4b83-b9b6-7dc70180b8b9\",\"0bf777d3-d343-4970-aef1-5a4fc75f36a3\",\"a5bdb751-dd05-4aef-93b6-399d3750f3ee\",\"fc9e3291-489c-4d51-bda6-7e30c83a9828\",\"6eaf2421-d995-4f23-b4e9-7b2e515bb33f\",\"df858f19-7c46-4b6c-8db6-393f00764876\",\"725d8212-cc0e-4eaf-8ea8-d564f924b137\",\"51f9dd4c-895d-4ef1-bab1-4374501604bf\",\"9b40156b-e14f-4bfd-9a51-fa219b278814\",\"e264b9d2-6680-405e-83f1-d1934724b14a\",\"ab0bebc9-5593-4d52-9661-729332d82238\",\"4a27e80f-fa86-4213-bc00-fb29ff36e96c\",\"c3bcacd7-ecbf-4e01-955f-036fe301318d\",\"1734aa9f-d0ae-4d41-815d-79678db14630\",\"48eda1a6-49e2-4862-b6fe-83f8653089b4\",\"e104220c-37a3-4864-8fa6-b9894cc93421\",\"824c9d81-c7e6-4881-a481-892ff68ca96b\",\"d808ca2f-1d18-418e-b3a4-b9a10739c5b6\",\"8dd8df4c-a3dc-4747-a7a9-cf3f85952843\",\"fe12ad8e-640e-40c9-aead-179da8290763\",\"2535a42e-67db-4ffd-aa11-0976d5400d0c\",\"5eadf8a8-5db7-4e44-87fd-2267b7d32782\",\"e1c8aca6-13b3-4739-b3e4-fd449bd77c08\",\"c895f1f4-89e5-43d5-9d24-d8cab8b09931\",\"6c067a8e-9447-426f-ad42-bb7b387e546a\",\"e61d63ea-2b70-487d-a0eb-bba4b549341f\",\"eddff243-728a-4492-beda-18b57bec1263\",\"f63c712e-a3a5-479d-be17-2f72035568da\",\"16118f65-f66e-4877-abe6-32ddb2ab7ff3\",\"ae9ac4bc-b769-4ba9-9c0f-dcc078144d8f\",\"29cc39c0-f14f-4c98-9bec-24567463dda7\",\"8478f908-1f9d-4158-bee3-db8f4c6a88b5\",\"259f4a93-5891-4198-ab5c-d899eeba4333\",\"a8baf604-c619-43c6-abf9-b0c2cb59866e\",\"1a1d5108-78be-4805-86ce-fec5a510e032\",\"52228698-46cd-46ba-86b3-a60abfdc5dc8\",\"1178b03c-c13f-4dff-b339-8b75d08e9fe6\",\"ea1a7de5-962e-41d3-bcdc-0071259645d7\",\"d08d7ea0-95ef-4fe4-8b7f-a47a1d69bcbf\",\"9091a673-a5a7-4434-aead-f7bfbe1586ca\",\"cadee5d7-ee5e-4348-b9c6-31b279dce1c2\",\"a7de4122-8bdb-4333-882b-8bbd3316d3b8\",\"0dd7661f-b8c6-45f2-87db-2d9e506c04da\",\"0713e5c9-7d85-45a0-a6c2-bf3dae02ef6e\",\"71f58c63-a715-4cc7-989f-c044d6c2f469\",\"c5f3dd5f-3830-4626-8d88-aa7bdc28b781\",\"897305fb-a31a-4dee-a8b4-8a9508c729f1\",\"55e6164b-9577-4d97-aeaa-840d9818ef8a\",\"9fc9b4a2-48cc-4b06-9a13-1da2304a3d15\",\"87409e39-8edc-4c15-bcf8-83d69fd7af52\",\"e8c5fdd9-6f6f-44a2-8d68-c80a8c18f95c\",\"99f7582a-66b7-4fa8-9a25-c1559d3793b6\",\"f14c96f7-7cae-4976-b171-7ef75b0999e4\",\"b0b3952d-b3d0-43b6-b00f-0c1e7984464c\",\"c12d84fe-5d27-4ad4-9546-4a85758b0386\",\"93fd1397-b37e-4cc8-86e6-1ef2daf4111c\",\"83d4fb8d-ca61-482e-83de-bdb2c6bb06ba\",\"b6f7c07a-12e8-4728-978f-c50c84061405\",\"d962248a-57f4-4fcf-b38a-cc426a7d88f9\",\"6c2726b2-3f2c-4280-8c23-9b426626c742\",\"74df27a9-a533-4f76-bde3-44d89e940d70\",\"14e142c6-0667-4294-81e9-f6df8f7948f0\",\"e4788ffc-44b6-485f-bf3e-664994edc079\",\"771eb1ac-dde0-4a90-8d93-019787d3955b\",\"94f4124e-c298-4cc7-8be3-56b67af0b21e;c69a8120-cdcb-433b-96e6-e17710470ad7\",\"f2c380ab-1c0a-4895-af1d-086ebabb774c\",\"3f6578df-baca-4f67-9a95-e460a31723d2\",\"94f4124e-c298-4cc7-8be3-56b67af0b21e\",\"86b1fbf1-dafc-4042-b75c-5315b1a12687\",\"b3945011-5535-4ba8-981a-06043df4085f\",\"e931ed98-370b-4c42-95b2-2c3685663b99\",\"acc6efdd-433b-4f05-9c46-03046187013b\",\"e9e53642-fb0c-4201-95c6-480caa7cac31\",\"85d28a81-8f63-4e79-9c4a-789957f58612\",\"d90a8270-f84c-46ae-abaf-1219ef355f86\",\"50955c0a-5802-45e8-b6e9-44cf566a2cf7\",\"afd2b168-eb48-41e4-804a-71939b2f9885\",\"62a149d2-2a95-405a-8166-ebd88a2d91ad\",\"538ede88-ea57-4b01-8ffd-e208949a9667\",\"04d79621-c1a7-4cff-acdb-315214c6e102\",\"787aa109-4e80-408d-96d5-76ff7aceeec2\",\"55b6dc99-32ad-4bc3-9dcb-a0e9d2f462c5\",\"8b34d7e8-6b0a-4356-a72d-5e1a65af388d\",\"00c8f215-ce90-44b3-b5e4-829feb6393d0\",\"f5d0cec6-c168-4eb0-9883-bb559d04a429\",\"76d6cdad-9274-403f-b7c3-27c3cb859b97\",\"cb8fc53a-87e8-4a8d-a54c-3e6dabdb6081\",\"cec0849b-a3d4-4763-8858-2efcd69bed55\",\"107c88b8-eea9-4553-841a-354d17fd0fcd\",\"6fea902f-6813-4caf-8ae3-37dbd58dd994\",\"725bc953-aa74-427e-8dc5-1e494f5e87b8\",\"09bf4d15-646e-4a85-98e5-8b11602ddc72\",\"d5de2f1a-2ad2-474a-8edd-554c10a9ba80\",\"34251a72-6909-4011-9fd4-fd30175a868c\",\"e5861a8c-b3a8-4fc4-a8a0-dbdff5e81135\",\"43058685-01fe-4cee-bda2-006df1fa0066\",\"5d39bbf8-466f-4e97-bc42-c21f603367aa\",\"70cf8c6b-340c-480a-88b5-9f4c48760680\",\"b2c3a8d0-e406-45ca-8f44-76c34b70ac1b\",\"1e515d19-f55c-4f0f-af06-69489fa8eef3\",\"a51872d8-89df-48d7-b7a4-069144f53359\",\"5fae5070-0631-498b-bda6-9696fedd2709\",\"6caece80-3718-454b-ab64-95346bc19cd3\",\"b829b75c-1435-441a-9b71-cd5de0ae194f\",\"ff5d7e05-aea5-468d-b8f5-55f248337b93\",\"d35d97d6-b88e-44e1-b0d4-83137ae23224\",\"deed0cd4-cc5e-4365-81c8-caa0b47cf161\",\"9195e456-97f2-4ba4-a853-69a3517a24d2\",\"a7693ed5-4f85-4a85-9d8b-205c77c1e690\",\"3ee04aee-8c7b-4e79-88f3-5553e59d890f\",\"b250d317-ac9c-441c-84b4-4e8e8b26de77\",\"8c0fbea8-8c9b-47c5-8e97-c439f8a31d52\",\"8b09a2f0-c563-4f00-bdce-62e5aa7482c1\",\"288441bb-79cf-4055-9ea7-dd65ed771365\",\"4f892412-6f9f-44b3-87cd-fac8f21b5093\",\"3936d1a8-b49d-4964-86ce-0a0bf0cdebd5\",\"6b30e641-e508-428e-ac39-1f0ef9da0942\",\"6defea93-c0bd-4a02-9af8-f39a097d4ce3\",\"8d5a17ac-d663-48d9-94af-6fd09715cd3c\",\"d2090ef5-0732-4bb3-8a92-1e45be385ad2\",\"713e61c2-6a25-4371-a3e7-ddbcea023cc4\",\"c781a92c-7dbf-4c75-a541-e03075de3585\",\"d852e730-7862-4027-bcdd-82be5e56e25d\",\"c030783a-5d5a-4432-b5c6-825567190e43\",\"e5bd827e-cc6a-4bc3-82e5-3b5a4308bbf5\",\"f4c3f778-34df-4789-bee4-e8332ea2099a\",\"7227de68-e47f-4444-b973-b6f530e5c328\",\"0eddbff1-8e4f-4631-8aec-cb684e0fb38a\",\"6848f40e-f51a-4afa-bd78-14e24630545d\",\"3746a894-7c58-4066-8027-3cb18fa8cffa\",\"733097d6-2e68-4777-b6f8-38003cffd152\",\"aaddd0ad-9972-49da-a7df-0546c84bc41e\",\"6f815828-a084-4caf-bf21-fc606bcb9a17\",\"60b717f0-9923-4031-a0ec-337e9df4445c\",\"1bb0352d-6592-446c-b013-2fb0091654cf\",\"719dd521-bcf9-4408-af9b-914f83ddbe9a\",\"ffc14635-778f-4c5b-ba4c-6f77b0699d2c\",\"0bc9accf-f2c9-4bed-b8e6-4351956e640c\",\"3f8169be-e622-412e-b3d3-75fb27a891f1\",\"0ddb9355-c52f-4652-8a28-50296610699b\",\"a142b5ef-7a5b-48dc-972d-7a484179db6f\",\"eb4a93e6-9df2-4ebe-a89d-b8134d5c2fbe\",\"0d37f4a3-5f77-4819-91bf-2e7900592569\",\"0c58e23b-05f0-4cac-8f4b-6f8a609e0122\",\"2e6f95d9-852b-4e95-aa0a-28f450883f07\",\"90b8f85f-c1bb-4053-9e1d-85b5fe22d015\",\"a6a20d0f-5796-485a-a397-f94e50476070\",\"736e2628-a8f0-4311-b309-5673d4286264\",\"4137c967-8c6f-43e4-ab17-ea3d0379c87b\",\"9e6a096b-8668-4dd7-b53c-7c450e618fb6\",\"922b289e-b730-4029-8158-bceb265123c8\",\"0849e8d2-34a6-4e38-b56c-c5675ff239e8\",\"ccb981d7-b921-4cc2-a597-c89ec01df6fe\",\"d99be4e3-5019-402e-a20b-dacaf9acb893\",\"7c57804d-99e7-4577-b3d7-805dfc40fa71\",\"24650756-9d30-4061-bdd0-230752c17a4d\",\"91c6054d-97b8-4fcb-9a04-a08a2a6991a2\",\"12150a1b-8873-4089-bc17-7b96502ba984\",\"eae1ac4d-ab24-4291-a52f-7c96411af372\",\"4328081a-2dac-48ea-b85e-36964f7d0a07\",\"5eacc7b3-6871-444a-bfe0-6793f3ef6411\",\"c58c78af-d1a8-4001-ada2-2e441e0bec02\",\"ee705e62-753e-4a96-b381-cf626f33917f\",\"da9570d6-21a4-4c09-a597-9c75f5fba79b\",\"0cebf07f-cf06-428d-bce2-442c07962d7e\",\"7ecfa24f-4b2a-4762-92cd-fee5a4abdb55\",\"aa539308-189b-43a3-80ca-beddb332886a\",\"265d608e-6cef-4c37-af1d-600fa594dc1d\",\"6fdc331a-f24a-423f-8ee7-a7b6e6abec7d\",\"c32dba84-16de-4556-96df-a66420e63f90\",\"9ec51f7f-26f2-467c-8017-c050c72ef7f0\",\"121e3a2b-5110-42b8-a223-4a281016acc0\",\"3031ea60-0da0-4404-b544-f3db1cbc81a1\",\"e6ede7b5-4f3a-4fe4-86c9-5a7b78c2087d\",\"bf998390-3486-4674-8001-d89ef70d9d41\",\"bf637ffc-3955-4f3c-b597-908282d13e4f\",\"f58fc8a8-2d26-489e-835e-99ffb04b6c7f\",\"990b1d50-2569-461a-ad3e-63534e2b12d9\",\"f48c9579-49ea-4071-8a56-b7cbad6b21e1\",\"b49c29f2-d6f3-4ff3-9a99-17d2defcff85\",\"1d2257d0-0347-469d-be2d-44826d848ce8\",\"a17178c7-a6a6-40b7-87a7-ad042254ad5a\",\"0697d400-4674-46c8-9fb7-7fdc1570a298\",\"938220e5-863e-4bb4-8bad-93789f87a24f\",\"d71d1382-9d1e-4a9e-b402-aef5460c9618\",\"568feaea-e348-493c-8c94-d5867be5938d\",\"4820a0bf-6705-4567-8aef-08a7d07e143d\",\"58f5049d-9ef3-43a8-a374-5148edb20ffc\",\"97da3194-a919-4e3e-be1d-0ca58af3c7ff\",\"0121e3b4-ce16-42b8-8140-2cfaca76c166\",\"6b2999a2-6913-423e-9e4d-0c682544b408\",\"b40bb965-9b92-47c6-ade2-e42f17c33373\",\"2c85c7b1-6192-4c8e-bb6a-31bf8f6de104\",\"5a83cfa0-f89d-44b7-ac18-1985efbc2bf5\",\"b7c324b6-32f7-4d65-aabb-a41605c716b5\",\"a3bf0a33-5677-4f22-b5e5-ded8dfbba460\",\"f7cf5d5b-f24c-46ed-8d6f-94e8c3ced2c3\",\"241d32e3-e873-4bac-98a8-78bb92d47abc\",\"e311c015-f8e3-4257-9653-2a8ab210867b\",\"810488ff-afbc-4ce4-8024-4ef3ef4ade36\",\"3350df1d-7ad6-41e9-83fc-226b9d236ca5\",\"a45b28f2-1746-4636-ad0c-92fd66196c86\",\"d6104f1a-3d91-480d-9b25-6789e53f0aed\",\"527499b8-8138-4136-860e-7d4aedb2ce01\",\"5a0ac34f-65be-491d-8a5f-545b8f52c9f8\",\"f490897e-24fa-4187-bbfd-6e26e7e73903\",\"5e9e00e8-5e1d-444b-9f0b-7370726ca9ce\",\"c37640ba-e78d-491c-9893-2afec2b80612\",\"f0317218-5245-45f9-bbfa-2bb4292dd70b\",\"8450c8d9-a3e4-41c9-8720-8b3ac04e1020\",\"f8c3594f-c26c-4260-adb6-6dff1bb79c38\",\"2a843b80-853f-471b-b570-d36d0ea44785\",\"636410d1-eaee-4827-a298-8bb0d683b5d0\",\"df04580f-7923-4edc-94d8-36770babda56\",\"ce6f48f7-08f0-4e61-ad26-13903e82d8ee\",\"afbc00d5-c968-4838-a0d9-39b8c1e4b3bf\",\"546dda82-be95-4682-9f66-969d77da9baa\",\"75ad562c-fa31-4be6-bfbc-73b8ff82c3c0\",\"be9ad057-e1c1-41f8-8c24-32ade88de6bb\",\"08cc6d0e-de01-4ae4-a547-194fe50c503d\",\"2ef29b8f-f8f4-46c6-8f1d-fe729c497c4f\",\"dfa34a70-ea87-4298-9c6c-d043125f8745\",\"4f255fb7-f1d7-44d5-8273-c2f23ad9f529\",\"bd3b8c31-53e2-4b5f-86ff-2a91232337a2\",\"138708aa-050b-4745-a4d9-e496019a267e\",\"27e403f1-fb17-4b81-a1d2-0dedd685a5ff\",\"c5509cfc-4221-4ad0-8a8c-66ce6fd750e3\",\"7b0bc80b-c3cc-41d4-9790-f61d03bb48b1\",\"a4b79e01-e59e-431d-a376-7807280702fa\",\"03eec017-6d7c-4361-a387-817a06969730\",\"a67a6874-9419-4f01-b0a7-8d5d0661e766\",\"240e95cb-d835-4be1-89ea-4cf410caf301\",\"7fbd4f51-c48b-4362-8068-69b7c57bc777\",\"91b7eccc-6581-4129-8272-d317156b6de9\",\"c2652291-682e-4e2e-a996-009214a5c359\",\"adbe6b12-7ef1-42e6-b14c-339cb69f0a9c\",\"66903aa1-a9a9-461b-9cff-0c7a313de397\",\"7e11ce14-d918-4537-921f-653d01bf9592\",\"0200b43e-5143-4325-b870-b5751a522cf2\",\"ef8f8d69-73fb-45d5-b6d6-753c107fefd4\",\"242fb639-2dff-4f6b-b229-54d378009ebb\",\"9481d20e-a415-431f-85f6-d43b3895bdeb\",\"62e5aa5a-b096-4466-a316-daf311670684\",\"a5baf560-3d78-4bf4-b83e-99e7e27b5f16\",\"ec10c23d-4db2-4e5d-81fc-498f67cc3e4c\",\"ab436f18-d5f4-4380-afa8-cdabd850de45\",\"e8392ce2-b0ad-477e-9c40-bf22a1b81151\",\"ad12b524-b044-448d-9034-f6d6a405529a\",\"aaa219e1-328f-48de-af4e-5e6b5125cd12\",\"c45cf64e-10a2-4413-bf1d-1112f1b0316b\",\"80f809f2-ab23-4442-9fb1-686977f268ed\",\"c2ce71c3-37b5-4bba-815a-baba72502ad0\",\"240cad78-ce0f-48a5-acf8-4de401eecc53\",\"aadc5b4f-e489-4113-b8ba-2cd52ea49e7d\",\"e55e8dc3-8774-4396-adcd-6c9dea6d9681\",\"6fea9f50-7ff1-42f6-8b61-7fb61db925f2\",\"b0f13b83-27da-4db6-9df4-b6676b3a3235\",\"dc69e627-a94c-4a93-88eb-c1818e991321\",\"ac6703dc-642d-4a92-a9d6-7ef98be95b46\",\"d5741f3e-c34c-46cb-bf62-18894f153ea7\",\"8f4719b8-9ad7-4fa2-b7e6-3d9814242c27\",\"8a27a95d-d4d1-4721-8882-e5246171d31e\",\"441b2163-9d56-494b-b15f-83840b22dc02\",\"93cb6d02-495d-4da2-8327-1a64248f31cd\",\"6c90ea8e-4470-468c-912c-3031dadb5417\",\"6477aec6-90d4-4bee-b46f-bf6179c492ce\",\"b237bfe8-c62d-477d-8d32-897210951790\",\"01ec1415-92b5-4f63-b544-f1a387d128e1\",\"da219f68-d407-43ce-830f-80d5e3d89455\",\"d9aa3491-2511-45cc-8183-a6238df3a52e\",\"1750f82d-9423-48aa-a47e-5098980b1b20\",\"2e73a228-d6db-44a0-83ba-98e3c7e18cd8\",\"d4f6fa65-17e7-42fd-9c44-2460ea1cc5ad\",\"9be23180-1b6b-4632-80ce-961853bb956f\",\"2896df7b-f145-4099-80f6-c4a4ca6da014\",\"079ab5df-1726-4ca2-a4f1-74eb99eb9e2e\",\"0a260921-ab83-42d5-87da-ac5e52052b3e\",\"ec97ee22-1736-437f-8c47-568264c6d3c8\",\"e593b954-dca8-4d65-a1d7-f01913e7a255\",\"3d2e1927-b146-4678-ac91-225b47af1503\",\"2cad4a1a-7772-4801-8ef8-ba2e9d7f0ad6\",\"b22412f7-262c-4a82-84f9-ff791686565b\",\"d58d4c50-a4dc-4eb3-8d2b-d537b639d9ff\",\"5bfd28c9-dd8e-4f0e-8f15-1b7c5283f7a5\",\"2d7f2ea6-7088-4e13-b784-bb530dd69174\",\"84cf4ebd-45c2-4a1c-8da9-cd32c5d16332\",\"c5c205b5-9032-4f0c-89b9-adb4d6da13b5\",\"791941f5-4e40-4460-8642-70a00a8ad57d\",\"00616208-a0c6-4d03-9dfd-2e273b50e9f2\",\"35be406d-f6f6-4814-b9aa-7c57457db1c3\",\"bed7e747-a666-4913-9202-3779ef367e5f\",\"3550ff3f-a0cb-4d81-9ccd-e16e0b248a56\",\"4f9a0f70-22c2-404d-bd8b-922f34c3bd5d\",\"2e271f9e-d3d4-45f0-adf6-6050ec97ad2a\",\"1977a5c2-20f1-481d-9ec9-f852a02a87c3\",\"29007e4c-ec9b-476b-9cae-ce37b0b4bb6a\",\"9f854fac-08a7-4580-b41e-20aad516117b\",\"c12c33e8-a9d5-47e5-a59c-bcc860228442\",\"ed028216-9cfb-4034-9472-a5b58a337c53\",\"998b9c39-5847-4e47-b914-68798d1a8ba2\",\"aac5f81d-52ab-4693-a590-bc8208b976d1\",\"e5a0fe11-736b-47bc-998a-92b42af2f4c9\",\"ef72e746-76b8-4b5c-b098-f26cd505588b\",\"50bf8df1-5f4d-4d0f-9bc5-99ff5770d9df\",\"4cb2590d-64f0-4f96-aec7-7c72b2b5f42e\",\"71058aa7-8c2e-4b33-a1e7-3c208324a4f4\",\"490218fd-4eb3-4e34-b212-955c85039752\",\"9b99fa3f-c13d-4706-b5ce-920553ef0cbf\",\"8e0c191c-1055-4ac1-aec7-3ed2b6a5f27d\",\"77f23572-1bb5-4688-b076-7812633f2cd5\",\"db638e7a-db1f-4377-8488-35f11410fea6\",\"eef4f94d-be14-41bd-a4f3-901e56925036\",\"b626c928-298c-4c3b-a06a-7cc5121506d5\",\"04b5580e-a2d5-4667-bbc9-ed5a52cba2b1\",\"2b25ea2a-770e-4102-890b-fa35da00786a\",\"cc2da69d-9bfd-4f04-8a7c-3e99df5f983f\",\"2da098c3-b41f-4319-a8d5-c16e70ec838e\",\"c6364ca9-6a3f-4a57-a8e9-d2b3a3661966\",\"2688cbe4-bc4d-428d-b959-7492bd1f6d65\",\"0ef097ec-d3d7-4c87-8ff4-bde077730a75\",\"d4e3d513-ace3-4283-b8ec-9c9efbbd2d9f\",\"e879af2a-4260-4494-9405-e21c9d13902d\",\"013e4cc9-15a3-4ba9-8d7e-474011267047\",\"3c75bbee-8bfe-4f49-b12c-e51218d6e749\",\"6421ada4-bc29-412c-88c3-d43be9ff459b\",\"9606e9b8-5b91-42a9-b70e-e7fab2d69ab7\",\"ba948f41-b663-4ab0-8638-adfe7c9be061\",\"03b7de47-0369-4aa4-acc8-6637396bf16e\",\"a77f8757-3ef4-41a0-b721-94690db569ee\",\"83727c00-bfbf-40ff-b8c6-4b3461c174a1\",\"5dc39626-7c4f-474b-a237-fd67bd70f88c\",\"21009d26-1b33-4ba9-b718-6e8c86057c72\",\"01dcc215-09a5-4fb0-987c-593a505593a6\",\"e8274ef0-1ca6-465e-953b-4ed8c313e7d9\",\"41fb4567-a059-495d-b68c-b01c2b3dfa67\",\"f25f17ef-cf88-4802-bf3e-c54cb3fb1569\",\"070e50b0-3720-4d51-b90e-0f41e1fe54b0\",\"15c78075-cf76-4f2c-9559-5d1476f5d804\",\"634954d3-453e-4d59-8c32-f9310ca97eff\",\"d360714b-0882-453a-b6b8-3b661a434a49\",\"3fe230ed-b40d-4313-83b5-66fa5bca7400\",\"7b0b1d40-d9dd-4dd2-b0d8-1bec9ff00acd\",\"bc9e8f41-e880-45e7-a086-c94330e45c41\",\"a709b9c3-b21d-448c-89e1-873a6a4bc860\",\"fd16ca02-0281-4bd5-8b6b-7e0323998994\",\"2613ef74-825d-417c-ab0b-a634177b2df1\",\"582d0a61-aee2-4003-8f7f-be0e30d1bb7d\",\"805abd10-830f-4a30-b25c-564e610c6260\",\"3dd86c1b-b8c7-4e8f-a89a-21f99ecd80f8\",\"c9365e3d-c247-4cf6-ba26-e783557e7e60\",\"02bbb7d9-dce5-48a4-a39a-8538443b1eb9\",\"dd816d71-0ca4-4dc5-ab7c-cd721bea06f9\",\"42816513-45e5-4246-95ac-93a7bcdc8df9\",\"37b308b4-c71e-4751-9f0b-0117cd7d5207\",\"3d643164-e5a9-4262-a396-a7dc1cb1c275\",\"1d572ad9-acfc-4a60-abf0-d2da0a545aa5\",\"05f284e4-d258-4ddc-b185-45f9a8c246ad\",\"25efd062-3ec1-449f-9a18-29093628ed3d\",\"7b2cd68f-8e73-4e52-acef-8bf8ecd1a9cd\",\"d87a0309-9f61-4ea4-a998-56e7c93b8d52\",\"d5f9cf16-c279-4b3e-b621-a95dfcce0bc0\",\"9c841d1d-19a8-4252-b125-7fbb360f8412\",\"fbb9664a-cbce-4205-927f-73863575858f\",\"66942bc8-8dbb-4d3c-ab42-913c838c872a\",\"3a57e7fc-6601-4b7a-916d-dc08dfc9a388\",\"4470b415-e2ba-40c9-b31f-4b20a67490f4\",\"1c85d2dc-c5c0-4384-bb0c-894a1d805526\",\"4c92cf08-0194-4d85-bd85-6d6d3d371bfa\",\"9dea4ec7-919e-454e-87a8-333ea50398ed\",\"3d05596f-ab0e-4cf1-ade0-37b821c25676\",\"a28e94bb-7fb0-47b7-af1d-bd5d749c8511\",\"e365e26d-526a-47e2-87ab-2768e4488400\",\"2dbbfeaf-5cb8-4374-8e27-67d278ae4cad\",\"83f78ccc-f6bb-4a51-9937-f3a26a2fd8ad\",\"d7ddcc5a-21bd-42b8-9311-98d9e466a8bb\",\"3f15ceb0-32ff-4953-bdc0-9edf5d08d5a5\",\"f580e0aa-a7a0-4c82-9da7-dac326e11897\",\"ff91d140-d554-471f-89b3-62ba40c814ed\",\"01c0c01e-9751-43a4-8968-211e7f094f03\",\"545368a9-0734-4b67-8285-3a5daf95050f\",\"ca11b803-3d17-43e8-96a1-9d0a5b014cd2\",\"f58e83ab-e420-402d-8e49-963a9f3d0dfd\",\"56858d09-612c-4fab-bf21-c1c90c113f0b\",\"ef561203-7a31-4ee0-b5f8-16b40d79e087\",\"766ce294-60c8-4717-93d6-8253541dfd56\",\"c3b528d8-69e4-471c-b868-7e490b82be7a\",\"1c832511-e5ff-4696-834e-a76e047cf3a0\",\"9c20f02c-fc62-4062-8029-d6595b257b06\",\"c307e9a7-6439-4525-a377-7542c4e33e50\",\"d18c2c43-127d-47a9-b69e-1d0c364b969f\",\"820f2d53-6409-4a2d-ab75-5108f42e8bd4\",\"4e566886-deaf-40cd-b1fe-0055d2e48289\",\"54e85e4f-d29a-413a-8bd3-80c85f435ed3\",\"c4dd4661-cb34-441e-9945-55988aecb79d\",\"2fd9d345-2b38-46d2-ad69-2ad7fbc8211d\",\"aa25d439-569c-4ecc-bf99-102223e13ec7\",\"c4655d55-89c9-4f9f-a251-585ccd91c9d1\",\"27c54ff4-e9c7-418b-8a89-93b9404011a5\",\"d0a34450-fa84-433b-a625-de9836a48007\",\"0db4ffa2-30c6-4000-b866-1f90cece13a5\",\"62057119-5b62-41c8-b105-22b13ed84bf4\",\"80d91931-e497-4457-ace6-a4012f48c16f\",\"019722e4-d155-4026-a68d-9975f5b4e255\",\"5fb953b5-fc28-4709-b254-0b341f0b0cb1\",\"aee07ec0-66bd-4be0-aa74-ffae368a094e\",\"1df39b34-953e-4bc5-8cc4-17633b9b313e\",\"1ff16918-3628-45a9-b626-853f9bddfbfe\",\"6902f825-9377-4ada-8f43-baae0cbeb17b\",\"dc311a20-a7b4-41c3-965a-50100779a7ad\",\"d90de1b0-026b-4cf2-9c28-7205da8dd9e8\",\"54430568-69e2-416b-b41a-23cb1b54bb77\",\"d3107a0b-1684-4b6e-9cec-8cd8cae1fb02\",\"07c5aa48-cfe2-4ceb-bc31-891f43d5382d\",\"24412f41-f05d-469b-a08a-7b99c44acd48\",\"569d7a7a-87a4-4069-b965-102dcd3eb93b\",\"17af5f35-2ee4-40ab-92ac-854fab35c7f0\",\"5bdea730-1c6d-4428-b13a-70d06b1918aa\",\"87dbf3f4-67b3-4eb7-b0d8-df714fcb6ef1\",\"152338e0-66b7-45fb-abcd-ce9abe99f01c\",\"7fa97ff5-2b4b-45aa-8b6a-35ce064b16ea\",\"118e6148-111e-4889-89af-603416667a3d\",\"e317e801-ee67-4091-bfa1-5203fc865e79\",\"3491fc88-8df8-4067-8d5a-7835479bd44b\",\"9f4a51f0-3e22-4a05-b4b5-5996659bf725\",\"eb6109cb-a4d6-419f-a269-3d6fb9ec5a31\",\"c2e93d89-3d7e-4c5e-a77a-fd838b6e4411\",\"71a84ed7-1cd3-40fa-9691-1caa4f39c4b2\",\"4a7fab40-2fd5-4157-8c4d-5718e8c8789b\",\"4cb085c2-3210-463b-b567-e65b0b8af0dd\",\"9be42490-ee51-4d55-b902-493bb29bf865\",\"484cef0a-554b-4a9f-b7d9-bff9fc5b0984\",\"2f848149-ee9c-491a-b443-aa0ae8302fcb\",\"4b3d6d86-ed0b-4f0e-86a7-3a8cb055386d\",\"5e6e5fa1-fbac-4b2b-b349-6cd86a9f75f4\",\"b3ecad31-a788-4031-8d9b-4c3f6ad59a02\",\"997b0aa8-bf51-472e-9c2a-af39c972bf45\",\"0237cfed-6748-4fcb-92cb-41ff22d00177\",\"a06386ee-4800-4e5b-b3a6-564d41b9544d\",\"4c804984-9127-43c0-851d-24791802ae08\",\"229dad4d-3dbf-4c9f-9e9f-25d619130eef\",\"a314bcf1-4221-4dda-8e26-cfad85496c2b\",\"fe3f9573-f42c-41af-9acd-3ac5fe56d3d1\",\"5a876f7f-5c81-4c97-9967-63dbd6f63d8c\",\"1a01f10e-fb37-4030-b654-aee2bacc0c60\",\"6efb7601-f3e3-4d2e-b177-91d5cab71b7a\",\"7788edbe-ef87-4bd5-b12a-79267060bc82\",\"e3b16106-11d9-42c2-b2ef-4962538801f1\",\"13c85e04-e58a-4132-8551-5f9d26d82caa\",\"74d0541d-96fb-4b32-9904-ec5df86436d9\",\"232a2e66-11b0-4d15-9767-1410c18cff1b\",\"ada454c3-97c9-4504-9964-cacd68a17d5a\",\"f3717a18-2911-456c-833c-e598914bb5d0\",\"5368eda9-76be-4417-a297-dedb866f2614\",\"99e1f5fb-6d8e-4f50-b337-0f94bf44b8ad\",\"4c218878-09a1-4e72-b42e-99006bd1a25f\",\"f4b9ab50-70ad-4352-b6a2-4a101d2d7397\",\"83acb05c-0c21-484a-b3d0-c5b429ff0df5\",\"a9f25b7f-4909-4335-a8c9-ff5dec459de1\",\"bf90ed47-d854-4dd3-8625-f409cd51c7ef\",\"91489e3d-a9b7-4d8f-994e-3431102ba89c\",\"c5983d9b-7653-4ce6-9514-4681db1a80e1\",\"6897a0a5-9e5c-4ff7-ad16-491122c2c3b5\",\"fe6feeb7-152f-4fa0-9b6c-f4b845f59c18\",\"4f127119-7b09-4521-92bd-3e0e61d27a46\",\"74adc283-6d6d-4e1a-9742-87cf84b2b339\",\"15712718-664a-479d-a840-c2d9359e2206\",\"b7936978-3a59-46f2-8c4b-9b69acccd45e\"]]]}}},\"view\":{\"type\":\"object\",\"name\":\"CDSView\",\"id\":\"p3692\",\"attributes\":{\"filter\":{\"type\":\"object\",\"name\":\"AllIndices\",\"id\":\"p3693\"}}},\"glyph\":{\"type\":\"object\",\"name\":\"Scatter\",\"id\":\"p3688\",\"attributes\":{\"x\":{\"type\":\"field\",\"field\":\"x\"},\"y\":{\"type\":\"field\",\"field\":\"y\"},\"size\":{\"type\":\"value\",\"value\":9},\"line_color\":{\"type\":\"value\",\"value\":null},\"line_alpha\":{\"type\":\"value\",\"value\":0.4},\"fill_color\":{\"type\":\"field\",\"field\":\"c\"},\"fill_alpha\":{\"type\":\"value\",\"value\":0.4},\"hatch_alpha\":{\"type\":\"value\",\"value\":0.4}}},\"nonselection_glyph\":{\"type\":\"object\",\"name\":\"Scatter\",\"id\":\"p3689\",\"attributes\":{\"x\":{\"type\":\"field\",\"field\":\"x\"},\"y\":{\"type\":\"field\",\"field\":\"y\"},\"size\":{\"type\":\"value\",\"value\":9},\"line_color\":{\"type\":\"value\",\"value\":null},\"line_alpha\":{\"type\":\"value\",\"value\":0.1},\"fill_color\":{\"type\":\"field\",\"field\":\"c\"},\"fill_alpha\":{\"type\":\"value\",\"value\":0.1},\"hatch_alpha\":{\"type\":\"value\",\"value\":0.1}}},\"muted_glyph\":{\"type\":\"object\",\"name\":\"Scatter\",\"id\":\"p3690\",\"attributes\":{\"x\":{\"type\":\"field\",\"field\":\"x\"},\"y\":{\"type\":\"field\",\"field\":\"y\"},\"size\":{\"type\":\"value\",\"value\":9},\"line_color\":{\"type\":\"value\",\"value\":null},\"line_alpha\":{\"type\":\"value\",\"value\":0.2},\"fill_color\":{\"type\":\"field\",\"field\":\"c\"},\"fill_alpha\":{\"type\":\"value\",\"value\":0.2},\"hatch_alpha\":{\"type\":\"value\",\"value\":0.2}}}}}],\"toolbar\":{\"type\":\"object\",\"name\":\"Toolbar\",\"id\":\"p3652\",\"attributes\":{\"tools\":[{\"type\":\"object\",\"name\":\"PanTool\",\"id\":\"p3665\"},{\"type\":\"object\",\"name\":\"WheelZoomTool\",\"id\":\"p3666\",\"attributes\":{\"renderers\":\"auto\"}},{\"type\":\"object\",\"name\":\"BoxZoomTool\",\"id\":\"p3667\",\"attributes\":{\"overlay\":{\"type\":\"object\",\"name\":\"BoxAnnotation\",\"id\":\"p3668\",\"attributes\":{\"syncable\":false,\"level\":\"overlay\",\"visible\":false,\"left_units\":\"canvas\",\"right_units\":\"canvas\",\"top_units\":\"canvas\",\"bottom_units\":\"canvas\",\"line_color\":\"black\",\"line_alpha\":1.0,\"line_width\":2,\"line_dash\":[4,4],\"fill_color\":\"lightgrey\",\"fill_alpha\":0.5}}}},{\"type\":\"object\",\"name\":\"SaveTool\",\"id\":\"p3669\"},{\"type\":\"object\",\"name\":\"ResetTool\",\"id\":\"p3670\"},{\"type\":\"object\",\"name\":\"HelpTool\",\"id\":\"p3671\"},{\"type\":\"object\",\"name\":\"HoverTool\",\"id\":\"p3672\",\"attributes\":{\"renderers\":\"auto\",\"tooltips\":[[\"\",\"@h\"],[\"\",\"@r\"]]}}]}},\"left\":[{\"type\":\"object\",\"name\":\"LinearAxis\",\"id\":\"p3660\",\"attributes\":{\"ticker\":{\"type\":\"object\",\"name\":\"BasicTicker\",\"id\":\"p3661\",\"attributes\":{\"mantissas\":[1,2,5]}},\"formatter\":{\"type\":\"object\",\"name\":\"BasicTickFormatter\",\"id\":\"p3662\"},\"axis_label\":\"Deviation on improved genome\",\"major_label_policy\":{\"type\":\"object\",\"name\":\"AllLabels\",\"id\":\"p3663\"}}}],\"below\":[{\"type\":\"object\",\"name\":\"LinearAxis\",\"id\":\"p3655\",\"attributes\":{\"ticker\":{\"type\":\"object\",\"name\":\"BasicTicker\",\"id\":\"p3656\",\"attributes\":{\"mantissas\":[1,2,5]}},\"formatter\":{\"type\":\"object\",\"name\":\"BasicTickFormatter\",\"id\":\"p3657\"},\"axis_label\":\"Deviation on reference genome\",\"major_label_policy\":{\"type\":\"object\",\"name\":\"AllLabels\",\"id\":\"p3658\"}}}],\"center\":[{\"type\":\"object\",\"name\":\"Grid\",\"id\":\"p3659\",\"attributes\":{\"axis\":{\"id\":\"p3655\"}}},{\"type\":\"object\",\"name\":\"Grid\",\"id\":\"p3664\",\"attributes\":{\"dimension\":1,\"axis\":{\"id\":\"p3660\"}}}]}}]}};\n  const render_items = [{\"docid\":\"e9412a4b-f86c-4954-8931-e35defc2cd0a\",\"roots\":{\"p3643\":\"da303365-be95-487f-8237-70cc7fe2c23f\"},\"root_ids\":[\"p3643\"],\"notebook_comms_target\":\"p3694\"}];\n  root.Bokeh.embed.embed_items_notebook(docs_json, render_items);\n  }\n  if (root.Bokeh !== undefined) {\n    embed_document(root);\n  } else {\n    let attempts = 0;\n    const timer = setInterval(function(root) {\n      if (root.Bokeh !== undefined) {\n        clearInterval(timer);\n        embed_document(root);\n      } else {\n        attempts++;\n        if (attempts > 100) {\n          clearInterval(timer);\n          console.log(\"Bokeh: ERROR: Unable to run BokehJS code because BokehJS library is missing\");\n        }\n      }\n    }, 10, root)\n  }\n})(window);",
      "application/vnd.bokehjs_exec.v0+json": ""
     },
     "metadata": {
      "application/vnd.bokehjs_exec.v0+json": {
       "id": "p3643"
      }
     },
     "output_type": "display_data"
    },
    {
     "name": "stderr",
     "output_type": "stream",
     "text": [
      "Unable to connect to VS Code server: Error in request.\n",
      "Error: connect ENOENT /run/user/1121/vscode-ipc-4acb4920-1b03-45a5-8cdf-593ffa8f791d.sock\n",
      "    at PipeConnectWrap.afterConnect [as oncomplete] (node:net:1494:16) {\n",
      "  errno: -2,\n",
      "  code: 'ENOENT',\n",
      "  syscall: 'connect',\n",
      "  address: '/run/user/1121/vscode-ipc-4acb4920-1b03-45a5-8cdf-593ffa8f791d.sock'\n",
      "}\n"
     ]
    },
    {
     "data": {
      "text/plain": [
       "'/ladsie/project/ladsie_019/claudia/ont_assembly_improvement/data/out/virtual_paired_read_dist/compare.html'"
      ]
     },
     "execution_count": 111,
     "metadata": {},
     "output_type": "execute_result"
    }
   ],
   "source": [
    "output_file(\"../data/out/virtual_paired_read_dist/compare.html\")\n",
    "f = figure(title=\"Comparison of distance deviations\", x_axis_label=\"Deviation on reference genome\", y_axis_label=\"Deviation on improved genome\", \n",
    "           tooltips=[(\"\", \"@h\"), (\"\", \"@r\")])\n",
    "\n",
    "f.line(x=[-1.5*10**5, 0.5*10**5], y=[-1.5*10**5, 0.5*10**5], color=\"black\")\n",
    "\n",
    "f.scatter(x=\"x\", y=\"y\", line_color=None, fill_color=\"c\", size=9, alpha=0.4, \n",
    "          source=ColumnDataSource(data={\n",
    "                \"x\": [ref_dict[n] for n in readnames], \n",
    "                \"y\": [fixed_dict[n] for n in readnames],\n",
    "                \"c\": [read_colors[n] for n in readnames],\n",
    "                \"h\": [gap_spanning_reads[n] if n in gap_spanning_reads else \"none\" for n in readnames],\n",
    "                \"r\": [n for n in readnames]\n",
    "            }\n",
    "                ))\n",
    "\n",
    "show(f, notebook_handle=True)\n",
    "save(f)"
   ]
  },
  {
   "cell_type": "markdown",
   "metadata": {},
   "source": [
    "## check some individual gaps"
   ]
  },
  {
   "cell_type": "code",
   "execution_count": 112,
   "metadata": {},
   "outputs": [
    {
     "data": {
      "text/html": [
       "\n",
       "  <div id=\"c637af13-273d-48a8-a708-66f393c2ef57\" data-root-id=\"p3697\" style=\"display: contents;\"></div>\n"
      ]
     },
     "metadata": {},
     "output_type": "display_data"
    },
    {
     "data": {
      "application/javascript": "(function(root) {\n  function embed_document(root) {\n  const docs_json = {\"f2341d04-c696-4a1e-a352-7302a7d7e62a\":{\"version\":\"3.3.0\",\"title\":\"Bokeh Application\",\"roots\":[{\"type\":\"object\",\"name\":\"Figure\",\"id\":\"p3697\",\"attributes\":{\"x_range\":{\"type\":\"object\",\"name\":\"DataRange1d\",\"id\":\"p3698\"},\"y_range\":{\"type\":\"object\",\"name\":\"DataRange1d\",\"id\":\"p3699\"},\"x_scale\":{\"type\":\"object\",\"name\":\"LinearScale\",\"id\":\"p3707\"},\"y_scale\":{\"type\":\"object\",\"name\":\"LinearScale\",\"id\":\"p3708\"},\"title\":{\"type\":\"object\",\"name\":\"Title\",\"id\":\"p3700\",\"attributes\":{\"text\":\"Comparison of distance deviations\"}},\"renderers\":[{\"type\":\"object\",\"name\":\"GlyphRenderer\",\"id\":\"p3733\",\"attributes\":{\"data_source\":{\"type\":\"object\",\"name\":\"ColumnDataSource\",\"id\":\"p3727\",\"attributes\":{\"selected\":{\"type\":\"object\",\"name\":\"Selection\",\"id\":\"p3728\",\"attributes\":{\"indices\":[],\"line_indices\":[]}},\"selection_policy\":{\"type\":\"object\",\"name\":\"UnionRenderers\",\"id\":\"p3729\"},\"data\":{\"type\":\"map\",\"entries\":[[\"x\",[-150000.0,50000.0]],[\"y\",[-150000.0,50000.0]]]}}},\"view\":{\"type\":\"object\",\"name\":\"CDSView\",\"id\":\"p3734\",\"attributes\":{\"filter\":{\"type\":\"object\",\"name\":\"AllIndices\",\"id\":\"p3735\"}}},\"glyph\":{\"type\":\"object\",\"name\":\"Line\",\"id\":\"p3730\",\"attributes\":{\"x\":{\"type\":\"field\",\"field\":\"x\"},\"y\":{\"type\":\"field\",\"field\":\"y\"}}},\"nonselection_glyph\":{\"type\":\"object\",\"name\":\"Line\",\"id\":\"p3731\",\"attributes\":{\"x\":{\"type\":\"field\",\"field\":\"x\"},\"y\":{\"type\":\"field\",\"field\":\"y\"},\"line_alpha\":0.1}},\"muted_glyph\":{\"type\":\"object\",\"name\":\"Line\",\"id\":\"p3732\",\"attributes\":{\"x\":{\"type\":\"field\",\"field\":\"x\"},\"y\":{\"type\":\"field\",\"field\":\"y\"},\"line_alpha\":0.2}}}},{\"type\":\"object\",\"name\":\"GlyphRenderer\",\"id\":\"p3745\",\"attributes\":{\"data_source\":{\"type\":\"object\",\"name\":\"ColumnDataSource\",\"id\":\"p3736\",\"attributes\":{\"selected\":{\"type\":\"object\",\"name\":\"Selection\",\"id\":\"p3737\",\"attributes\":{\"indices\":[],\"line_indices\":[]}},\"selection_policy\":{\"type\":\"object\",\"name\":\"UnionRenderers\",\"id\":\"p3738\"},\"data\":{\"type\":\"map\",\"entries\":[[\"x\",[820,8062,7913,1621,1016,1615,884,1548,1951,1033,1506,1805,987,8042,8029,1661,8054,1435,1507,8268,1542,1609,1440,1085,8111,8122,1558,1010,7842,1551,7911,1012,3301,1092,1032,1028,1586,1605,1547]],[\"y\",[-178,7064,6915,623,18,617,-114,550,953,35,508,807,-11,7044,7031,663,7056,437,509,7270,544,611,442,87,7113,7124,560,12,6844,553,6913,14,2303,94,34,30,588,607,549]],[\"c\",[\"#009E73\",\"#009E73\",\"#009E73\",\"#009E73\",\"#009E73\",\"#009E73\",\"#009E73\",\"#009E73\",\"#009E73\",\"#009E73\",\"#009E73\",\"#009E73\",\"#009E73\",\"#009E73\",\"#009E73\",\"#009E73\",\"#009E73\",\"#009E73\",\"#009E73\",\"#009E73\",\"#009E73\",\"#009E73\",\"#009E73\",\"#009E73\",\"#009E73\",\"#009E73\",\"#009E73\",\"#009E73\",\"#009E73\",\"#009E73\",\"#009E73\",\"#009E73\",\"#009E73\",\"#009E73\",\"#009E73\",\"#009E73\",\"#009E73\",\"#009E73\",\"#009E73\"]],[\"h\",[\"Chr5_A:1507kbp\",\"Chr5_A:1507kbp\",\"Chr5_A:1507kbp\",\"Chr5_A:1507kbp\",\"Chr5_A:1507kbp\",\"Chr5_A:1507kbp\",\"Chr5_A:1507kbp\",\"Chr5_A:1507kbp\",\"Chr5_A:1507kbp\",\"Chr5_A:1507kbp\",\"Chr5_A:1507kbp\",\"Chr5_A:1507kbp\",\"Chr5_A:1507kbp\",\"Chr5_A:1507kbp\",\"Chr5_A:1507kbp\",\"Chr5_A:1507kbp\",\"Chr5_A:1507kbp\",\"Chr5_A:1507kbp\",\"Chr5_A:1507kbp\",\"Chr5_A:1507kbp\",\"Chr5_A:1507kbp\",\"Chr5_A:1507kbp\",\"Chr5_A:1507kbp\",\"Chr5_A:1507kbp\",\"Chr5_A:1507kbp\",\"Chr5_A:1507kbp\",\"Chr5_A:1507kbp\",\"Chr5_A:1507kbp\",\"Chr5_A:1507kbp\",\"Chr5_A:1507kbp\",\"Chr5_A:1507kbp\",\"Chr5_A:1507kbp\",\"Chr5_A:1507kbp\",\"Chr5_A:1507kbp\",\"Chr5_A:1507kbp\",\"Chr5_A:1507kbp\",\"Chr5_A:1507kbp\",\"Chr5_A:1507kbp\",\"Chr5_A:1507kbp\"]],[\"r\",[\"3a80566c-1c34-47a4-bf44-b013e93475a9\",\"645440b5-1caf-4bec-9598-70efa0f8fded\",\"a1cc83cf-5927-4cef-a075-22138c28d1c3\",\"ddafd9e2-1dad-40d1-b0a5-f7f454a5680f\",\"18773946-610b-40d3-805c-197ce855246f\",\"0d12f9a2-657d-4ea3-937c-e7078be7c80e\",\"c3f10973-2691-4cb7-bc5a-3627340bf0f3\",\"74031282-61a4-499b-995e-a869e5cc7aed\",\"7e874003-3b14-4305-9a2d-d7637be656f5\",\"0a132ce7-aaa8-4925-8801-6187b3088d67\",\"0ed9020c-be3c-40fe-84eb-e68e3f583370\",\"0fb46639-7df2-4207-bfe7-7d030f5f9723\",\"b04634a8-58f5-4b17-bbfc-c0cb954895f5\",\"7178089f-18fb-4f5f-8bea-87175ca759fb\",\"82d57fb1-6b32-47b3-9042-237c85b2020a\",\"cf834452-caa1-49bf-ae74-083f418a2c11\",\"68aa66ed-39ed-4f7f-8784-a29349245d39\",\"82466bb5-bdc1-46be-8a4f-890cef4d28d5\",\"849bea1f-3af4-4c8b-bb1f-81bbbf933541\",\"c14bb8d5-5101-4292-8333-088d7c019862\",\"663e943f-7318-416c-a7a0-d7fb0c36667d\",\"4bf52d36-0c66-4df7-ba0a-9f98fb31a629\",\"38a7b558-ac73-4ac5-a0de-74cacee6fda3\",\"ba2036e9-156f-4fd8-acdb-03421e55f41d\",\"6c2726b2-3f2c-4280-8c23-9b426626c742\",\"85d28a81-8f63-4e79-9c4a-789957f58612\",\"ff5d7e05-aea5-468d-b8f5-55f248337b93\",\"e5bd827e-cc6a-4bc3-82e5-3b5a4308bbf5\",\"f48c9579-49ea-4071-8a56-b7cbad6b21e1\",\"4f255fb7-f1d7-44d5-8273-c2f23ad9f529\",\"240cad78-ce0f-48a5-acf8-4de401eecc53\",\"a77f8757-3ef4-41a0-b721-94690db569ee\",\"a709b9c3-b21d-448c-89e1-873a6a4bc860\",\"42816513-45e5-4246-95ac-93a7bcdc8df9\",\"d5f9cf16-c279-4b3e-b621-a95dfcce0bc0\",\"1c832511-e5ff-4696-834e-a76e047cf3a0\",\"152338e0-66b7-45fb-abcd-ce9abe99f01c\",\"e317e801-ee67-4091-bfa1-5203fc865e79\",\"4f127119-7b09-4521-92bd-3e0e61d27a46\"]]]}}},\"view\":{\"type\":\"object\",\"name\":\"CDSView\",\"id\":\"p3746\",\"attributes\":{\"filter\":{\"type\":\"object\",\"name\":\"AllIndices\",\"id\":\"p3747\"}}},\"glyph\":{\"type\":\"object\",\"name\":\"Scatter\",\"id\":\"p3742\",\"attributes\":{\"x\":{\"type\":\"field\",\"field\":\"x\"},\"y\":{\"type\":\"field\",\"field\":\"y\"},\"size\":{\"type\":\"value\",\"value\":9},\"line_color\":{\"type\":\"value\",\"value\":null},\"line_alpha\":{\"type\":\"value\",\"value\":0.4},\"fill_color\":{\"type\":\"field\",\"field\":\"c\"},\"fill_alpha\":{\"type\":\"value\",\"value\":0.4},\"hatch_alpha\":{\"type\":\"value\",\"value\":0.4}}},\"nonselection_glyph\":{\"type\":\"object\",\"name\":\"Scatter\",\"id\":\"p3743\",\"attributes\":{\"x\":{\"type\":\"field\",\"field\":\"x\"},\"y\":{\"type\":\"field\",\"field\":\"y\"},\"size\":{\"type\":\"value\",\"value\":9},\"line_color\":{\"type\":\"value\",\"value\":null},\"line_alpha\":{\"type\":\"value\",\"value\":0.1},\"fill_color\":{\"type\":\"field\",\"field\":\"c\"},\"fill_alpha\":{\"type\":\"value\",\"value\":0.1},\"hatch_alpha\":{\"type\":\"value\",\"value\":0.1}}},\"muted_glyph\":{\"type\":\"object\",\"name\":\"Scatter\",\"id\":\"p3744\",\"attributes\":{\"x\":{\"type\":\"field\",\"field\":\"x\"},\"y\":{\"type\":\"field\",\"field\":\"y\"},\"size\":{\"type\":\"value\",\"value\":9},\"line_color\":{\"type\":\"value\",\"value\":null},\"line_alpha\":{\"type\":\"value\",\"value\":0.2},\"fill_color\":{\"type\":\"field\",\"field\":\"c\"},\"fill_alpha\":{\"type\":\"value\",\"value\":0.2},\"hatch_alpha\":{\"type\":\"value\",\"value\":0.2}}}}}],\"toolbar\":{\"type\":\"object\",\"name\":\"Toolbar\",\"id\":\"p3706\",\"attributes\":{\"tools\":[{\"type\":\"object\",\"name\":\"PanTool\",\"id\":\"p3719\"},{\"type\":\"object\",\"name\":\"WheelZoomTool\",\"id\":\"p3720\",\"attributes\":{\"renderers\":\"auto\"}},{\"type\":\"object\",\"name\":\"BoxZoomTool\",\"id\":\"p3721\",\"attributes\":{\"overlay\":{\"type\":\"object\",\"name\":\"BoxAnnotation\",\"id\":\"p3722\",\"attributes\":{\"syncable\":false,\"level\":\"overlay\",\"visible\":false,\"left_units\":\"canvas\",\"right_units\":\"canvas\",\"top_units\":\"canvas\",\"bottom_units\":\"canvas\",\"line_color\":\"black\",\"line_alpha\":1.0,\"line_width\":2,\"line_dash\":[4,4],\"fill_color\":\"lightgrey\",\"fill_alpha\":0.5}}}},{\"type\":\"object\",\"name\":\"SaveTool\",\"id\":\"p3723\"},{\"type\":\"object\",\"name\":\"ResetTool\",\"id\":\"p3724\"},{\"type\":\"object\",\"name\":\"HelpTool\",\"id\":\"p3725\"},{\"type\":\"object\",\"name\":\"HoverTool\",\"id\":\"p3726\",\"attributes\":{\"renderers\":\"auto\",\"tooltips\":[[\"\",\"@h\"],[\"\",\"@r\"]]}}]}},\"left\":[{\"type\":\"object\",\"name\":\"LinearAxis\",\"id\":\"p3714\",\"attributes\":{\"ticker\":{\"type\":\"object\",\"name\":\"BasicTicker\",\"id\":\"p3715\",\"attributes\":{\"mantissas\":[1,2,5]}},\"formatter\":{\"type\":\"object\",\"name\":\"BasicTickFormatter\",\"id\":\"p3716\"},\"axis_label\":\"Fixed\",\"major_label_policy\":{\"type\":\"object\",\"name\":\"AllLabels\",\"id\":\"p3717\"}}}],\"below\":[{\"type\":\"object\",\"name\":\"LinearAxis\",\"id\":\"p3709\",\"attributes\":{\"ticker\":{\"type\":\"object\",\"name\":\"BasicTicker\",\"id\":\"p3710\",\"attributes\":{\"mantissas\":[1,2,5]}},\"formatter\":{\"type\":\"object\",\"name\":\"BasicTickFormatter\",\"id\":\"p3711\"},\"axis_label\":\"Reference\",\"major_label_policy\":{\"type\":\"object\",\"name\":\"AllLabels\",\"id\":\"p3712\"}}}],\"center\":[{\"type\":\"object\",\"name\":\"Grid\",\"id\":\"p3713\",\"attributes\":{\"axis\":{\"id\":\"p3709\"}}},{\"type\":\"object\",\"name\":\"Grid\",\"id\":\"p3718\",\"attributes\":{\"dimension\":1,\"axis\":{\"id\":\"p3714\"}}}]}}]}};\n  const render_items = [{\"docid\":\"f2341d04-c696-4a1e-a352-7302a7d7e62a\",\"roots\":{\"p3697\":\"c637af13-273d-48a8-a708-66f393c2ef57\"},\"root_ids\":[\"p3697\"],\"notebook_comms_target\":\"p3748\"}];\n  root.Bokeh.embed.embed_items_notebook(docs_json, render_items);\n  }\n  if (root.Bokeh !== undefined) {\n    embed_document(root);\n  } else {\n    let attempts = 0;\n    const timer = setInterval(function(root) {\n      if (root.Bokeh !== undefined) {\n        clearInterval(timer);\n        embed_document(root);\n      } else {\n        attempts++;\n        if (attempts > 100) {\n          clearInterval(timer);\n          console.log(\"Bokeh: ERROR: Unable to run BokehJS code because BokehJS library is missing\");\n        }\n      }\n    }, 10, root)\n  }\n})(window);",
      "application/vnd.bokehjs_exec.v0+json": ""
     },
     "metadata": {
      "application/vnd.bokehjs_exec.v0+json": {
       "id": "p3697"
      }
     },
     "output_type": "display_data"
    },
    {
     "name": "stderr",
     "output_type": "stream",
     "text": [
      "Unable to connect to VS Code server: Error in request.\n",
      "Error: connect ENOENT /run/user/1121/vscode-ipc-4acb4920-1b03-45a5-8cdf-593ffa8f791d.sock\n",
      "    at PipeConnectWrap.afterConnect [as oncomplete] (node:net:1494:16) {\n",
      "  errno: -2,\n",
      "  code: 'ENOENT',\n",
      "  syscall: 'connect',\n",
      "  address: '/run/user/1121/vscode-ipc-4acb4920-1b03-45a5-8cdf-593ffa8f791d.sock'\n",
      "}\n"
     ]
    },
    {
     "data": {
      "text/html": [
       "<p><code>&lt;Bokeh Notebook handle for <strong>In[112]</strong>&gt;</code></p>"
      ],
      "text/plain": [
       "<bokeh.io.notebook.CommsHandle at 0x2b1a4421fa70>"
      ]
     },
     "execution_count": 112,
     "metadata": {},
     "output_type": "execute_result"
    }
   ],
   "source": [
    "#GAP_TO_CHECK = \"Chr10_3A:1256kbp\"\n",
    "# GAP_TO_CHECK = \"Chr11_core:263kbp\"\n",
    "#GAP_TO_CHECK = \"Chr7_core:1789kbp\" # on the cores there are two populations\n",
    "#GAP_TO_CHECK = \"Chr5_3B:286kbp\"\n",
    "# GAP_TO_CHECK = \"Chr11_3B:266kbp\"\n",
    "#GAP_TO_CHECK = \"Chr6_A:2589kbp\"\n",
    "GAP_TO_CHECK = \"Chr5_A:1507kbp\"\n",
    "# GAP_TO_CHECK = \"BES17:65kbp\"\n",
    "# GAP_TO_CHECK = \"Chr11_3A:497kbp\"\n",
    "\n",
    "f = figure(title=\"Comparison of distance deviations\", x_axis_label=\"Reference\", y_axis_label=\"Fixed\", \n",
    "           tooltips=[(\"\", \"@h\"), (\"\", \"@r\")])\n",
    "\n",
    "picked_readnames = [n for n in readnames if n in gap_spanning_reads and gap_spanning_reads[n] == GAP_TO_CHECK]\n",
    "\n",
    "f.line(x=[-1.5*10**5, 0.5*10**5], y=[-1.5*10**5, 0.5*10**5], color=\"black\")\n",
    "f.scatter(x=\"x\", y=\"y\", line_color=None, fill_color=\"c\", size=9, alpha=0.4, \n",
    "          source=ColumnDataSource(data={\n",
    "                \"x\": [ref_dict[n] for n in picked_readnames], \n",
    "                \"y\": [fixed_dict[n] for n in picked_readnames],\n",
    "                \"c\": [read_colors[n] for n in picked_readnames],\n",
    "                \"h\": [gap_spanning_reads[n] for n in picked_readnames],\n",
    "                \"r\": picked_readnames\n",
    "            }\n",
    "                ))\n",
    "\n",
    "show(f, notebook_handle=True)"
   ]
  },
  {
   "cell_type": "markdown",
   "metadata": {},
   "source": [
    "## get read clusters -> turn into table of \"correctly\" expanded gaps"
   ]
  },
  {
   "cell_type": "code",
   "execution_count": 113,
   "metadata": {},
   "outputs": [
    {
     "data": {
      "text/html": [
       "\n",
       "  <div id=\"a41f1fb6-998b-4741-b291-b25f9165facc\" data-root-id=\"p3750\" style=\"display: contents;\"></div>\n"
      ]
     },
     "metadata": {},
     "output_type": "display_data"
    },
    {
     "data": {
      "application/javascript": "(function(root) {\n  function embed_document(root) {\n  const docs_json = {\"b2101ca4-a3c7-4816-9704-49108f1fca15\":{\"version\":\"3.3.0\",\"title\":\"Bokeh Application\",\"roots\":[{\"type\":\"object\",\"name\":\"Figure\",\"id\":\"p3750\",\"attributes\":{\"x_range\":{\"type\":\"object\",\"name\":\"DataRange1d\",\"id\":\"p3751\"},\"y_range\":{\"type\":\"object\",\"name\":\"DataRange1d\",\"id\":\"p3752\"},\"x_scale\":{\"type\":\"object\",\"name\":\"LinearScale\",\"id\":\"p3760\"},\"y_scale\":{\"type\":\"object\",\"name\":\"LinearScale\",\"id\":\"p3761\"},\"title\":{\"type\":\"object\",\"name\":\"Title\",\"id\":\"p3753\",\"attributes\":{\"text\":\"looking at how to best cluster\"}},\"renderers\":[{\"type\":\"object\",\"name\":\"GlyphRenderer\",\"id\":\"p3789\",\"attributes\":{\"data_source\":{\"type\":\"object\",\"name\":\"ColumnDataSource\",\"id\":\"p3780\",\"attributes\":{\"selected\":{\"type\":\"object\",\"name\":\"Selection\",\"id\":\"p3781\",\"attributes\":{\"indices\":[],\"line_indices\":[]}},\"selection_policy\":{\"type\":\"object\",\"name\":\"UnionRenderers\",\"id\":\"p3782\"},\"data\":{\"type\":\"map\",\"entries\":[[\"x\",[0,0,0,0,0,0,0,0,0,0,0,0,0,0,0,0,0,0,0,0,0,0,0,0]],[\"y\",[24678,21450,21428,21306,21294,21328,21454,21290,21542,21412,21410,21406,21284,21516,21378,21294,22756,21360,21310,21312,21384,21374,21318,21336]],[\"c\",[\"#D55E00\",\"#D55E00\",\"#D55E00\",\"#D55E00\",\"#D55E00\",\"#D55E00\",\"#D55E00\",\"#D55E00\",\"#D55E00\",\"#D55E00\",\"#D55E00\",\"#D55E00\",\"#D55E00\",\"#D55E00\",\"#D55E00\",\"#D55E00\",\"#D55E00\",\"#D55E00\",\"#D55E00\",\"#D55E00\",\"#D55E00\",\"#D55E00\",\"#D55E00\",\"#D55E00\"]],[\"h\",[\"Chr11_A:4918kbp\",\"Chr11_A:4918kbp\",\"Chr11_A:4918kbp\",\"Chr11_A:4918kbp\",\"Chr11_A:4918kbp\",\"Chr11_A:4918kbp\",\"Chr11_A:4918kbp\",\"Chr11_A:4918kbp\",\"Chr11_A:4918kbp\",\"Chr11_A:4918kbp\",\"Chr11_A:4918kbp\",\"Chr11_A:4918kbp\",\"Chr11_A:4918kbp\",\"Chr11_A:4918kbp\",\"Chr11_A:4918kbp\",\"Chr11_A:4918kbp\",\"Chr11_A:4918kbp\",\"Chr11_A:4918kbp\",\"Chr11_A:4918kbp\",\"Chr11_A:4918kbp\",\"Chr11_A:4918kbp\",\"Chr11_A:4918kbp\",\"Chr11_A:4918kbp\",\"Chr11_A:4918kbp\"]],[\"r\",[\"b3f9f1c3-b25c-490c-8bf7-a3fcdb29b83d\",\"bf469545-e0ec-4331-89a3-30e7a77b09f4\",\"9805c5af-446d-4a1c-8aa6-2a1365f0003b\",\"2de4a0e6-4f79-4bba-a62a-c90bb365a167\",\"9bed4145-a3fd-4672-8991-03406cda49d4\",\"2d986e3c-b156-4889-bdac-a49f50d98905\",\"9199eeaa-d2c8-449e-914a-ac7e1bb27bb6\",\"137129fd-2e7f-4efb-a1fd-0c7d4ea5edab\",\"ec22ecb8-e4fb-4454-8561-12599e4ecd32\",\"315d2b25-25c2-4603-a5b6-1f2d2822563a\",\"e36b7e9e-26d3-421b-b336-d7223e4abf79\",\"5eadf8a8-5db7-4e44-87fd-2267b7d32782\",\"e61d63ea-2b70-487d-a0eb-bba4b549341f\",\"00c8f215-ce90-44b3-b5e4-829feb6393d0\",\"90b8f85f-c1bb-4053-9e1d-85b5fe22d015\",\"7ecfa24f-4b2a-4762-92cd-fee5a4abdb55\",\"b49c29f2-d6f3-4ff3-9a99-17d2defcff85\",\"d5741f3e-c34c-46cb-bf62-18894f153ea7\",\"21009d26-1b33-4ba9-b718-6e8c86057c72\",\"fd16ca02-0281-4bd5-8b6b-7e0323998994\",\"1d572ad9-acfc-4a60-abf0-d2da0a545aa5\",\"17af5f35-2ee4-40ab-92ac-854fab35c7f0\",\"229dad4d-3dbf-4c9f-9e9f-25d619130eef\",\"a9f25b7f-4909-4335-a8c9-ff5dec459de1\"]]]}}},\"view\":{\"type\":\"object\",\"name\":\"CDSView\",\"id\":\"p3790\",\"attributes\":{\"filter\":{\"type\":\"object\",\"name\":\"AllIndices\",\"id\":\"p3791\"}}},\"glyph\":{\"type\":\"object\",\"name\":\"Scatter\",\"id\":\"p3786\",\"attributes\":{\"x\":{\"type\":\"field\",\"field\":\"x\"},\"y\":{\"type\":\"field\",\"field\":\"y\"},\"size\":{\"type\":\"value\",\"value\":9},\"line_color\":{\"type\":\"value\",\"value\":null},\"line_alpha\":{\"type\":\"value\",\"value\":0.4},\"fill_color\":{\"type\":\"field\",\"field\":\"c\"},\"fill_alpha\":{\"type\":\"value\",\"value\":0.4},\"hatch_alpha\":{\"type\":\"value\",\"value\":0.4}}},\"nonselection_glyph\":{\"type\":\"object\",\"name\":\"Scatter\",\"id\":\"p3787\",\"attributes\":{\"x\":{\"type\":\"field\",\"field\":\"x\"},\"y\":{\"type\":\"field\",\"field\":\"y\"},\"size\":{\"type\":\"value\",\"value\":9},\"line_color\":{\"type\":\"value\",\"value\":null},\"line_alpha\":{\"type\":\"value\",\"value\":0.1},\"fill_color\":{\"type\":\"field\",\"field\":\"c\"},\"fill_alpha\":{\"type\":\"value\",\"value\":0.1},\"hatch_alpha\":{\"type\":\"value\",\"value\":0.1}}},\"muted_glyph\":{\"type\":\"object\",\"name\":\"Scatter\",\"id\":\"p3788\",\"attributes\":{\"x\":{\"type\":\"field\",\"field\":\"x\"},\"y\":{\"type\":\"field\",\"field\":\"y\"},\"size\":{\"type\":\"value\",\"value\":9},\"line_color\":{\"type\":\"value\",\"value\":null},\"line_alpha\":{\"type\":\"value\",\"value\":0.2},\"fill_color\":{\"type\":\"field\",\"field\":\"c\"},\"fill_alpha\":{\"type\":\"value\",\"value\":0.2},\"hatch_alpha\":{\"type\":\"value\",\"value\":0.2}}}}}],\"toolbar\":{\"type\":\"object\",\"name\":\"Toolbar\",\"id\":\"p3759\",\"attributes\":{\"tools\":[{\"type\":\"object\",\"name\":\"PanTool\",\"id\":\"p3772\"},{\"type\":\"object\",\"name\":\"WheelZoomTool\",\"id\":\"p3773\",\"attributes\":{\"renderers\":\"auto\"}},{\"type\":\"object\",\"name\":\"BoxZoomTool\",\"id\":\"p3774\",\"attributes\":{\"overlay\":{\"type\":\"object\",\"name\":\"BoxAnnotation\",\"id\":\"p3775\",\"attributes\":{\"syncable\":false,\"level\":\"overlay\",\"visible\":false,\"left_units\":\"canvas\",\"right_units\":\"canvas\",\"top_units\":\"canvas\",\"bottom_units\":\"canvas\",\"line_color\":\"black\",\"line_alpha\":1.0,\"line_width\":2,\"line_dash\":[4,4],\"fill_color\":\"lightgrey\",\"fill_alpha\":0.5}}}},{\"type\":\"object\",\"name\":\"SaveTool\",\"id\":\"p3776\"},{\"type\":\"object\",\"name\":\"ResetTool\",\"id\":\"p3777\"},{\"type\":\"object\",\"name\":\"HelpTool\",\"id\":\"p3778\"},{\"type\":\"object\",\"name\":\"HoverTool\",\"id\":\"p3779\",\"attributes\":{\"renderers\":\"auto\",\"tooltips\":[[\"\",\"@h\"],[\"\",\"@r\"]]}}]}},\"left\":[{\"type\":\"object\",\"name\":\"LinearAxis\",\"id\":\"p3767\",\"attributes\":{\"ticker\":{\"type\":\"object\",\"name\":\"BasicTicker\",\"id\":\"p3768\",\"attributes\":{\"mantissas\":[1,2,5]}},\"formatter\":{\"type\":\"object\",\"name\":\"BasicTickFormatter\",\"id\":\"p3769\"},\"axis_label\":\"ref fixed sum\",\"major_label_policy\":{\"type\":\"object\",\"name\":\"AllLabels\",\"id\":\"p3770\"}}}],\"below\":[{\"type\":\"object\",\"name\":\"LinearAxis\",\"id\":\"p3762\",\"attributes\":{\"ticker\":{\"type\":\"object\",\"name\":\"BasicTicker\",\"id\":\"p3763\",\"attributes\":{\"mantissas\":[1,2,5]}},\"formatter\":{\"type\":\"object\",\"name\":\"BasicTickFormatter\",\"id\":\"p3764\"},\"axis_label\":\"Ref fixed difference\",\"major_label_policy\":{\"type\":\"object\",\"name\":\"AllLabels\",\"id\":\"p3765\"}}}],\"center\":[{\"type\":\"object\",\"name\":\"Grid\",\"id\":\"p3766\",\"attributes\":{\"axis\":{\"id\":\"p3762\"}}},{\"type\":\"object\",\"name\":\"Grid\",\"id\":\"p3771\",\"attributes\":{\"dimension\":1,\"axis\":{\"id\":\"p3767\"}}}]}}]}};\n  const render_items = [{\"docid\":\"b2101ca4-a3c7-4816-9704-49108f1fca15\",\"roots\":{\"p3750\":\"a41f1fb6-998b-4741-b291-b25f9165facc\"},\"root_ids\":[\"p3750\"],\"notebook_comms_target\":\"p3792\"}];\n  root.Bokeh.embed.embed_items_notebook(docs_json, render_items);\n  }\n  if (root.Bokeh !== undefined) {\n    embed_document(root);\n  } else {\n    let attempts = 0;\n    const timer = setInterval(function(root) {\n      if (root.Bokeh !== undefined) {\n        clearInterval(timer);\n        embed_document(root);\n      } else {\n        attempts++;\n        if (attempts > 100) {\n          clearInterval(timer);\n          console.log(\"Bokeh: ERROR: Unable to run BokehJS code because BokehJS library is missing\");\n        }\n      }\n    }, 10, root)\n  }\n})(window);",
      "application/vnd.bokehjs_exec.v0+json": ""
     },
     "metadata": {
      "application/vnd.bokehjs_exec.v0+json": {
       "id": "p3750"
      }
     },
     "output_type": "display_data"
    },
    {
     "name": "stderr",
     "output_type": "stream",
     "text": [
      "Unable to connect to VS Code server: Error in request.\n",
      "Error: connect ENOENT /run/user/1121/vscode-ipc-4acb4920-1b03-45a5-8cdf-593ffa8f791d.sock\n",
      "    at PipeConnectWrap.afterConnect [as oncomplete] (node:net:1494:16) {\n",
      "  errno: -2,\n",
      "  code: 'ENOENT',\n",
      "  syscall: 'connect',\n",
      "  address: '/run/user/1121/vscode-ipc-4acb4920-1b03-45a5-8cdf-593ffa8f791d.sock'\n",
      "}\n"
     ]
    },
    {
     "data": {
      "text/html": [
       "<p><code>&lt;Bokeh Notebook handle for <strong>In[113]</strong>&gt;</code></p>"
      ],
      "text/plain": [
       "<bokeh.io.notebook.CommsHandle at 0x2b1a450159a0>"
      ]
     },
     "execution_count": 113,
     "metadata": {},
     "output_type": "execute_result"
    }
   ],
   "source": [
    "#GAP_TO_CHECK = \"Chr10_3A:1256kbp\"\n",
    "#GAP_TO_CHECK = \"Chr11_core:263kbp\"\n",
    "#GAP_TO_CHECK = \"Chr11_3B:266kbp\"\n",
    "GAP_TO_CHECK = \"Chr11_A:4918kbp\" # on the cores there are two populations\n",
    "#GAP_TO_CHECK = \"Chr5_3B:286kbp\"\n",
    "\n",
    "f = figure(title=\"looking at how to best cluster\", x_axis_label=\"Ref fixed difference\", y_axis_label=\"ref fixed sum\", \n",
    "           tooltips=[(\"\", \"@h\"), (\"\", \"@r\")])\n",
    "\n",
    "picked_readnames = [n for n in readnames if n in gap_spanning_reads and gap_spanning_reads[n] == GAP_TO_CHECK]\n",
    "\n",
    "f.scatter(x=\"x\", y=\"y\", line_color=None, fill_color=\"c\", size=9, alpha=0.4, \n",
    "          source=ColumnDataSource(data={\n",
    "                \"x\": [ref_dict[n] - fixed_dict[n] for n in picked_readnames], \n",
    "                \"y\": [fixed_dict[n] + ref_dict[n] for n in picked_readnames],\n",
    "                \"c\": [read_colors[n] for n in picked_readnames],\n",
    "                \"h\": [gap_spanning_reads[n] for n in picked_readnames],\n",
    "                \"r\": picked_readnames\n",
    "            }\n",
    "                ))\n",
    "\n",
    "show(f, notebook_handle=True)"
   ]
  },
  {
   "cell_type": "code",
   "execution_count": 114,
   "metadata": {},
   "outputs": [],
   "source": [
    "\n",
    "def extract_reads_for_gap(gap_name):\n",
    "    return [n for n in readnames if n in gap_spanning_reads and gap_spanning_reads[n] == gap_name]\n",
    "\n",
    "def cluster(l, key, max_dif):\n",
    "    l.sort(key=key)\n",
    "\n",
    "    clustered = [[l[0]]]\n",
    "    if len(l) > 1:\n",
    "        for read in l[1:]:\n",
    "            if abs(key(read) - key(clustered[-1][-1])) > max_dif:\n",
    "                clustered.append([])\n",
    "            clustered[-1].append(read)\n",
    "    return clustered\n",
    "\n",
    "def cluster_reads(readnames, max_ref_fixed_diff = 10, max_ref_fixed_sum = 1000):\n",
    "    return [c for l in cluster(readnames, lambda x: ref_dict[x] - fixed_dict[x], max_ref_fixed_diff) \n",
    "               for c in cluster(l, lambda x: ref_dict[x] + fixed_dict[x], max_ref_fixed_sum)]\n",
    "\n",
    "def filter_clusters(clusters):\n",
    "    return [c for c in clusters if len(c) > 3]\n",
    "\n",
    "def get_mean_deviation_in_clusters(clusters, in_fixed=True):\n",
    "    return [sum([fixed_dict[n] if in_fixed else ref_dict[n] for n in cluster]) / len(cluster) for cluster in clusters]"
   ]
  },
  {
   "cell_type": "code",
   "execution_count": 115,
   "metadata": {},
   "outputs": [
    {
     "name": "stdout",
     "output_type": "stream",
     "text": [
      "[['e61d63ea-2b70-487d-a0eb-bba4b549341f', '137129fd-2e7f-4efb-a1fd-0c7d4ea5edab', '9bed4145-a3fd-4672-8991-03406cda49d4', '7ecfa24f-4b2a-4762-92cd-fee5a4abdb55', '2de4a0e6-4f79-4bba-a62a-c90bb365a167', '21009d26-1b33-4ba9-b718-6e8c86057c72', 'fd16ca02-0281-4bd5-8b6b-7e0323998994', '229dad4d-3dbf-4c9f-9e9f-25d619130eef', '2d986e3c-b156-4889-bdac-a49f50d98905', 'a9f25b7f-4909-4335-a8c9-ff5dec459de1', 'd5741f3e-c34c-46cb-bf62-18894f153ea7', '17af5f35-2ee4-40ab-92ac-854fab35c7f0', '90b8f85f-c1bb-4053-9e1d-85b5fe22d015', '1d572ad9-acfc-4a60-abf0-d2da0a545aa5', '5eadf8a8-5db7-4e44-87fd-2267b7d32782', 'e36b7e9e-26d3-421b-b336-d7223e4abf79', '315d2b25-25c2-4603-a5b6-1f2d2822563a', '9805c5af-446d-4a1c-8aa6-2a1365f0003b', 'bf469545-e0ec-4331-89a3-30e7a77b09f4', '9199eeaa-d2c8-449e-914a-ac7e1bb27bb6', '00c8f215-ce90-44b3-b5e4-829feb6393d0', 'ec22ecb8-e4fb-4454-8561-12599e4ecd32'], ['b49c29f2-d6f3-4ff3-9a99-17d2defcff85'], ['b3f9f1c3-b25c-490c-8bf7-a3fcdb29b83d']]\n",
      "[22, 1, 1]\n",
      "[10686.045454545454]\n",
      "[10686.045454545454]\n"
     ]
    }
   ],
   "source": [
    "#GAP_TO_CHECK = \"Chr10_3A:1256kbp\"\n",
    "#GAP_TO_CHECK = \"Chr11_core:263kbp\"\n",
    "GAP_TO_CHECK = \"Chr11_A:4918kbp\" # on the cores there are two populations\n",
    "#GAP_TO_CHECK = \"Chr5_3B:286kbp\"\n",
    "\n",
    "picked_readnames = extract_reads_for_gap(GAP_TO_CHECK)\n",
    "\n",
    "\n",
    "def cluster(l, key, max_dif):\n",
    "    l.sort(key=key)\n",
    "\n",
    "    clustered = [[l[0]]]\n",
    "    if len(l) > 1:\n",
    "        for read in l[1:]:\n",
    "            if abs(key(read) - key(clustered[-1][-1])) > max_dif:\n",
    "                clustered.append([])\n",
    "            clustered[-1].append(read)\n",
    "    return clustered\n",
    "\n",
    "clustered = cluster_reads(picked_readnames)\n",
    "\n",
    "\n",
    "print(clustered)\n",
    "print([len(c) for c in clustered])\n",
    "\n",
    "clustered = filter_clusters(clustered)\n",
    "\n",
    "print(get_mean_deviation_in_clusters(clustered))\n",
    "print(get_mean_deviation_in_clusters(clustered, False))\n"
   ]
  },
  {
   "cell_type": "code",
   "execution_count": 116,
   "metadata": {},
   "outputs": [
    {
     "name": "stdout",
     "output_type": "stream",
     "text": [
      "correct\t#supp\t#contra\tdev\tfxd_dev\tother\thas_cluster\tname\n",
      "Yes\t14\t2\t-1091\t-3062\tFalse\tTrue\tBES17:65kbp\n",
      "?\t\t3\t\t\t\tFalse\tBES2:62kbp\n",
      "Yes\t21\t0\t1125\t128\tFalse\tFalse\tChr10_A:4101kbp\n",
      "Yes\t14\t1\t-6040\t134\tFalse\tTrue\tChr10_A:76kbp\n",
      "Yes\t11\t4\t1043\t45\tFalse\tFalse\tChr10_B:4083kbp\n",
      "Yes\t10\t2\t-44272\t-2734\tFalse\tTrue\tChr10_B:5341kbp\n",
      "Yes\t19\t1\t-11365\t182\tFalse\tTrue\tChr10_B:58kbp\n",
      "Yes\t6\t1\t-2951\t-2951\tFalse\tTrue\tChr11_A:14kbp\n",
      "?\t\t\t\t\t\tFalse\tChr11_A:279kbp\n",
      "Yes\t27\t1\t-104\t81\tFalse\tTrue\tChr11_A:4651kbp\n",
      "No\t\t24\t\t\t\tFalse\tChr11_A:4918kbp\n",
      "?\t\t5\t\t\t\tTrue\tChr11_A:4971kbp\n",
      "?\t\t\t\t\t\tFalse\tChr11_B:296kbp\n",
      "Yes\t11\t0\t1065\t69\tFalse\tFalse\tChr11_B:32kbp\n",
      "Yes\t17\t3\t-10477\t83\tFalse\tTrue\tChr11_B:4669kbp\n",
      "Yes\t18\t0\t-23788\t336\tFalse\tTrue\tChr11_B:4955kbp\n",
      "?\t\t2\t\t\t\tFalse\tChr11_B:5168kbp\n",
      "?\t\t\t\t\t\tFalse\tChr11_B:5455kbp\n",
      "?\t\t1\t\t\t\tFalse\tChr1_A:100kbp\n",
      "?\t\t\t\t\t\tFalse\tChr1_A:1149kbp\n",
      "?\t\t1\t\t\t\tFalse\tChr1_A:1212kbp\n",
      "?\t\t1\t\t\t\tFalse\tChr1_A:2357kbp\n",
      "Yes\t35\t2\t-3970\t113\tFalse\tTrue\tChr1_A:3037kbp\n",
      "?\t\t\t\t\t\tFalse\tChr1_A:711kbp\n",
      "Yes\t9\t0\t1099\t101\tFalse\tTrue\tChr1_A:946kbp\n",
      "Yes\t26\t0\t-1686\t116\tFalse\tTrue\tChr1_A:990kbp\n",
      "Yes\t21\t0\t1095\t97\tFalse\tFalse\tChr1_B:1069kbp\n",
      "Yes\t18\t3\t-17490\t188\tFalse\tTrue\tChr1_B:1296kbp\n",
      "Yes\t6\t0\t-38566\t242\tFalse\tTrue\tChr1_B:1369kbp\n",
      "Yes\t11\t0\t-27709\t201\tFalse\tTrue\tChr1_B:1442kbp\n",
      "Yes\t6\t0\t1096\t85\tFalse\tFalse\tChr1_B:223kbp\n",
      "?\t\t\t\t\t\tFalse\tChr1_B:833kbp\n",
      "?\t\t\t\t\t\tFalse\tChr2_A:1085kbp\n",
      "?\t\t\t\t\t\tFalse\tChr2_A:201kbp\n",
      "?\t\t\t\t\t\tFalse\tChr3_A:1322kbp\n",
      "?\t\t\t\t\t\tFalse\tChr3_A:1961kbp\n",
      "?\t\t\t\t\t\tFalse\tChr3_A:2092kbp\n",
      "?\t\t3\t\t\t\tFalse\tChr3_A:303kbp\n",
      "Yes\t21\t9\t1073\t75\tTrue\tTrue\tChr3_A:501kbp\n",
      "?\t\t\t\t\t\tFalse\tChr3_B:1486kbp\n",
      "?\t\t\t\t\t\tFalse\tChr3_B:1617kbp\n",
      "Yes\t29\t1\t1061\t63\tFalse\tFalse\tChr3_B:25kbp\n",
      "?\t\t\t\t\t\tFalse\tChr3_B:848kbp\n",
      "No\t\t21\t\t\t\tFalse\tChr4_A:1500kbp\n",
      "?\t\t\t\t\t\tFalse\tChr4_A:85kbp\n",
      "?\t\t\t\t\t\tFalse\tChr4_A:967kbp\n",
      "?\t\t\t\t\t\tFalse\tChr4_B:115kbp\n",
      "Yes\t25\t0\t1046\t48\tFalse\tFalse\tChr4_B:1530kbp\n",
      "?\t\t\t\t\t\tFalse\tChr4_B:64kbp\n",
      "?\t\t\t\t\t\tFalse\tChr4_B:997kbp\n",
      "Yes\t10\t29\t8035\t7037\tTrue\tFalse\tChr5_A:1507kbp\n",
      "Yes\t20\t5\t-14002\t-754\tFalse\tTrue\tChr5_A:1675kbp\n",
      "Yes\t31\t1\t-17168\t242\tFalse\tTrue\tChr5_A:1794kbp\n",
      "?\t\t\t\t\t\tFalse\tChr5_A:292kbp\n",
      "?\t\t4\t\t\t\tFalse\tChr5_A:67kbp\n",
      "?\t\t\t\t\t\tFalse\tChr5_B:1440kbp\n",
      "?\t\t\t\t\t\tFalse\tChr5_B:1819kbp\n",
      "?\t\t\t\t\t\tFalse\tChr5_B:1897kbp\n",
      "?\t\t\t\t\t\tFalse\tChr5_B:223kbp\n",
      "Yes\t5\t1\t1014\t17\tFalse\tFalse\tChr6_A:1393kbp\n",
      "?\t\t1\t\t\t\tFalse\tChr6_A:1466kbp\n",
      "?\t\t3\t\t\t\tFalse\tChr6_A:2256kbp\n",
      "Yes\t13\t1\t-17788\t131\tFalse\tTrue\tChr6_A:2452kbp\n",
      "No\t\t20\t\t\t\tTrue\tChr6_A:2589kbp\n",
      "Yes\t11\t3\t-13767\t-126\tFalse\tTrue\tChr6_A:2634kbp\n",
      "?\t\t\t\t\t\tFalse\tChr6_A:88kbp\n",
      "?\t\t\t\t\t\tFalse\tChr6_B:1384kbp\n",
      "Yes\t12\t0\t-42654\t444\tFalse\tTrue\tChr6_B:2385kbp\n",
      "?\t\t\t\t\t\tFalse\tChr6_B:78kbp\n",
      "?\t\t\t\t\t\tFalse\tChr7_A:1338kbp\n",
      "?\t\t3\t\t\t\tFalse\tChr7_A:2655kbp\n",
      "?\t\t\t\t\t\tFalse\tChr7_A:2799kbp\n",
      "?\t\t\t\t\t\tFalse\tChr7_A:863kbp\n",
      "?\t\t\t\t\t\tFalse\tChr7_B:1338kbp\n",
      "?\t\t1\t\t\t\tFalse\tChr7_B:2655kbp\n",
      "?\t\t1\t\t\t\tFalse\tChr7_B:2799kbp\n",
      "?\t\t\t\t\t\tFalse\tChr7_B:863kbp\n",
      "?\t\t2\t\t\t\tFalse\tChr8_A:1106kbp\n",
      "?\t\t3\t\t\t\tFalse\tChr8_A:113kbp\n",
      "?\t\t\t\t\t\tFalse\tChr8_A:2916kbp\n",
      "Yes\t14\t0\t1154\t156\tFalse\tFalse\tChr8_A:3150kbp\n",
      "Yes\t28\t3\t-10665\t38\tFalse\tTrue\tChr8_A:335kbp\n",
      "Yes\t18\t1\t1064\t66\tFalse\tFalse\tChr8_A:788kbp\n",
      "?\t\t1\t\t\t\tFalse\tChr8_B:1098kbp\n",
      "?\t\t1\t\t\t\tFalse\tChr8_B:2907kbp\n",
      "Yes\t27\t1\t1116\t118\tFalse\tFalse\tChr8_B:3140kbp\n",
      "?\t\t\t\t\t\tTrue\tChr8_B:3357kbp\n",
      "Yes\t4\t0\t3018\t3018\tFalse\tTrue\tChr8_B:3377kbp\n",
      "Yes\t25\t1\t-6327\t96\tFalse\tTrue\tChr8_B:666kbp\n",
      "Yes\t24\t3\t1095\t97\tFalse\tFalse\tChr8_B:780kbp\n",
      "Yes\t13\t1\t-36373\t297\tFalse\tTrue\tChr9_A:211kbp\n",
      "?\t\t\t\t\t\tFalse\tChr9_A:2348kbp\n",
      "No\t\t8\t\t\t\tFalse\tChr9_A:2531kbp\n",
      "Yes\t31\t1\t678\t379\tFalse\tFalse\tChr9_A:2970kbp\n",
      "Yes\t30\t1\t-2073\t-2073\tFalse\tTrue\tChr9_A:3150kbp\n",
      "Yes\t30\t2\t1076\t78\tFalse\tFalse\tChr9_A:336kbp\n",
      "?\t\t\t\t\t\tFalse\tChr9_A:3874kbp\n",
      "?\t\t1\t\t\t\tFalse\tChr9_A:685kbp\n",
      "Yes\t15\t13\t1056\t58\tTrue\tTrue\tChr9_B:101kbp\n",
      "?\t\t\t\t\t\tFalse\tChr9_B:2113kbp\n",
      "No\t\t10\t\t\t\tFalse\tChr9_B:2297kbp\n",
      "?\t\t2\t\t\t\tTrue\tChr9_B:2585kbp\n",
      "?\t\t2\t\t\t\tFalse\tChr9_B:450kbp\n",
      "\n",
      "\n",
      "closed 41 out of 103 gaps\n"
     ]
    }
   ],
   "source": [
    "gap_closed_if_fixed_dev_smaller_than = 5000\n",
    "\n",
    "\n",
    "gap_names = gap_pos.keys()\n",
    "\n",
    "closed_gaps = 0\n",
    "print(\"correct\", \"#supp\", \"#contra\", \"dev\", \"fxd_dev\", \"other\", \"has_cluster\", \"name\", sep=\"\\t\")\n",
    "with open(\"../data/in/analysis_in/closed_gaps_analysis.gff\", \"w\") as file_out:\n",
    "    for gap in sorted(gap_names):\n",
    "        has_cluster = not gap in gap_without_cluster\n",
    "        read_names = extract_reads_for_gap(gap)\n",
    "        if len(read_names) > 0:\n",
    "            read_clusters = filter_clusters(cluster_reads(read_names))\n",
    "            cluster_fixed = get_mean_deviation_in_clusters(read_clusters)\n",
    "            gap_sizes = get_mean_deviation_in_clusters(read_clusters, False)\n",
    "            gap_closed = False\n",
    "            gap_idx = 0\n",
    "            min_fixed = float(\"inf\")\n",
    "            for idx, x in enumerate(cluster_fixed):\n",
    "                if abs(x) < gap_closed_if_fixed_dev_smaller_than and abs(x) < min_fixed:\n",
    "                    gap_closed = True\n",
    "                    gap_idx = idx\n",
    "                    min_fixed = abs(x)\n",
    "            if gap_closed:\n",
    "                print(\"Yes\", len(read_clusters[idx]), len(read_names) - len(read_clusters[idx]), int(gap_sizes[idx]), \n",
    "                    int(cluster_fixed[idx]), len(gap_sizes) > 1, has_cluster, gap, sep=\"\\t\")\n",
    "                closed_gaps += 1\n",
    "                chrom, start, end = gap_pos[gap]\n",
    "                file_out.write(\"\\t\".join([chrom + \"_Tb427v10\", \".\", \"fixedgap\", str(start), str(end), \".\", \".\", \".\", \n",
    "                                          \"estimated_length=1000;gap_type=within scaffold;closed_correctly=true\"]) + \"\\n\" )\n",
    "            else:\n",
    "                print(\"No\" if len(read_names) > 5 else \"?\", \"\", len(read_names), \"\", \"\", \"\", has_cluster, gap, sep=\"\\t\")\n",
    "                file_out.write(\"\\t\".join([chrom + \"_Tb427v10\", \".\", \"notenoughdatagap\", str(start), str(end), \".\", \".\", \".\", \n",
    "                                          \"estimated_length=1000;gap_type=within scaffold;not_enough_data=true\"]) + \"\\n\" )\n",
    "        else:\n",
    "            print(\"?\", \"\", \"\", \"\", \"\", \"\", has_cluster, gap, sep=\"\\t\")\n",
    "            file_out.write(\"\\t\".join([chrom + \"_Tb427v10\", \".\", \"notenoughdatagap\", str(start), str(end), \".\", \".\", \".\", \n",
    "                                        \"estimated_length=1000;gap_type=within scaffold;not_enough_data=true\"]) + \"\\n\" )\n",
    "print()\n",
    "print()\n",
    "print(\"closed\", closed_gaps, \"out of\", len(gap_names), \"gaps\")"
   ]
  }
 ],
 "metadata": {
  "kernelspec": {
   "display_name": "Python 3 (ipykernel)",
   "language": "python",
   "name": "python3"
  },
  "language_info": {
   "codemirror_mode": {
    "name": "ipython",
    "version": 3
   },
   "file_extension": ".py",
   "mimetype": "text/x-python",
   "name": "python",
   "nbconvert_exporter": "python",
   "pygments_lexer": "ipython3",
   "version": "3.12.0"
  }
 },
 "nbformat": 4,
 "nbformat_minor": 2
}
