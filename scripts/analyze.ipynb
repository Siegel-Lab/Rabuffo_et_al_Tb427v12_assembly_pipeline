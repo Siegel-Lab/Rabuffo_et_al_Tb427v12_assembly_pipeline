{
 "cells": [
  {
   "cell_type": "markdown",
   "metadata": {},
   "source": [
    "# Analyzing the improved genome assembly"
   ]
  },
  {
   "cell_type": "markdown",
   "metadata": {},
   "source": [
    "## run the notebook serve on a client node\n",
    "\n",
    "```\n",
    "    srun --pty --nodes=1  --ntasks-per-node=1 --cpus-per-task=28 --time 100:00:00 --job-name bash-jupyter bash\n",
    "    conda activate ont_assembly\n",
    "    jupyter notebook --ip 0.0.0.0 --port 3001 --no-browser\n",
    "```"
   ]
  },
  {
   "cell_type": "markdown",
   "metadata": {},
   "source": [
    "## bokeh imports"
   ]
  },
  {
   "cell_type": "code",
   "execution_count": 10,
   "metadata": {},
   "outputs": [
    {
     "data": {
      "text/html": [
       "<style>\n",
       "        .bk-notebook-logo {\n",
       "            display: block;\n",
       "            width: 20px;\n",
       "            height: 20px;\n",
       "            background-image: url(data:image/png;base64,iVBORw0KGgoAAAANSUhEUgAAABQAAAAUCAYAAACNiR0NAAAABHNCSVQICAgIfAhkiAAAAAlwSFlzAAALEgAACxIB0t1+/AAAABx0RVh0U29mdHdhcmUAQWRvYmUgRmlyZXdvcmtzIENTNui8sowAAAOkSURBVDiNjZRtaJVlGMd/1/08zzln5zjP1LWcU9N0NkN8m2CYjpgQYQXqSs0I84OLIC0hkEKoPtiH3gmKoiJDU7QpLgoLjLIQCpEsNJ1vqUOdO7ppbuec5+V+rj4ctwzd8IIbbi6u+8f1539dt3A78eXC7QizUF7gyV1fD1Yqg4JWz84yffhm0qkFqBogB9rM8tZdtwVsPUhWhGcFJngGeWrPzHm5oaMmkfEg1usvLFyc8jLRqDOMru7AyC8saQr7GG7f5fvDeH7Ej8CM66nIF+8yngt6HWaKh7k49Soy9nXurCi1o3qUbS3zWfrYeQDTB/Qj6kX6Ybhw4B+bOYoLKCC9H3Nu/leUTZ1JdRWkkn2ldcCamzrcf47KKXdAJllSlxAOkRgyHsGC/zRday5Qld9DyoM4/q/rUoy/CXh3jzOu3bHUVZeU+DEn8FInkPBFlu3+nW3Nw0mk6vCDiWg8CeJaxEwuHS3+z5RgY+YBR6V1Z1nxSOfoaPa4LASWxxdNp+VWTk7+4vzaou8v8PN+xo+KY2xsw6une2frhw05CTYOmQvsEhjhWjn0bmXPjpE1+kplmmkP3suftwTubK9Vq22qKmrBhpY4jvd5afdRA3wGjFAgcnTK2s4hY0/GPNIb0nErGMCRxWOOX64Z8RAC4oCXdklmEvcL8o0BfkNK4lUg9HTl+oPlQxdNo3Mg4Nv175e/1LDGzZen30MEjRUtmXSfiTVu1kK8W4txyV6BMKlbgk3lMwYCiusNy9fVfvvwMxv8Ynl6vxoByANLTWplvuj/nF9m2+PDtt1eiHPBr1oIfhCChQMBw6Aw0UulqTKZdfVvfG7VcfIqLG9bcldL/+pdWTLxLUy8Qq38heUIjh4XlzZxzQm19lLFlr8vdQ97rjZVOLf8nclzckbcD4wxXMidpX30sFd37Fv/GtwwhzhxGVAprjbg0gCAEeIgwCZyTV2Z1REEW8O4py0wsjeloKoMr6iCY6dP92H6Vw/oTyICIthibxjm/DfN9lVz8IqtqKYLUXfoKVMVQVVJOElGjrnnUt9T9wbgp8AyYKaGlqingHZU/uG2NTZSVqwHQTWkx9hxjkpWDaCg6Ckj5qebgBVbT3V3NNXMSiWSDdGV3hrtzla7J+duwPOToIg42ChPQOQjspnSlp1V+Gjdged7+8UN5CRAV7a5EdFNwCjEaBR27b3W890TE7g24NAP/mMDXRWrGoFPQI9ls/MWO2dWFAar/xcOIImbbpA3zgAAAABJRU5ErkJggg==);\n",
       "        }\n",
       "    </style>\n",
       "    <div>\n",
       "        <a href=\"https://bokeh.org\" target=\"_blank\" class=\"bk-notebook-logo\"></a>\n",
       "        <span id=\"b17245bd-9939-4201-8a9b-350dcf24a1c9\">Loading BokehJS ...</span>\n",
       "    </div>\n"
      ]
     },
     "metadata": {},
     "output_type": "display_data"
    },
    {
     "data": {
      "application/javascript": "(function(root) {\n  function now() {\n    return new Date();\n  }\n\n  const force = true;\n\n  if (typeof root._bokeh_onload_callbacks === \"undefined\" || force === true) {\n    root._bokeh_onload_callbacks = [];\n    root._bokeh_is_loading = undefined;\n  }\n\nconst JS_MIME_TYPE = 'application/javascript';\n  const HTML_MIME_TYPE = 'text/html';\n  const EXEC_MIME_TYPE = 'application/vnd.bokehjs_exec.v0+json';\n  const CLASS_NAME = 'output_bokeh rendered_html';\n\n  /**\n   * Render data to the DOM node\n   */\n  function render(props, node) {\n    const script = document.createElement(\"script\");\n    node.appendChild(script);\n  }\n\n  /**\n   * Handle when an output is cleared or removed\n   */\n  function handleClearOutput(event, handle) {\n    function drop(id) {\n      const view = Bokeh.index.get_by_id(id)\n      if (view != null) {\n        view.model.document.clear()\n        Bokeh.index.delete(view)\n      }\n    }\n\n    const cell = handle.cell;\n\n    const id = cell.output_area._bokeh_element_id;\n    const server_id = cell.output_area._bokeh_server_id;\n\n    // Clean up Bokeh references\n    if (id != null) {\n      drop(id)\n    }\n\n    if (server_id !== undefined) {\n      // Clean up Bokeh references\n      const cmd_clean = \"from bokeh.io.state import curstate; print(curstate().uuid_to_server['\" + server_id + \"'].get_sessions()[0].document.roots[0]._id)\";\n      cell.notebook.kernel.execute(cmd_clean, {\n        iopub: {\n          output: function(msg) {\n            const id = msg.content.text.trim()\n            drop(id)\n          }\n        }\n      });\n      // Destroy server and session\n      const cmd_destroy = \"import bokeh.io.notebook as ion; ion.destroy_server('\" + server_id + \"')\";\n      cell.notebook.kernel.execute(cmd_destroy);\n    }\n  }\n\n  /**\n   * Handle when a new output is added\n   */\n  function handleAddOutput(event, handle) {\n    const output_area = handle.output_area;\n    const output = handle.output;\n\n    // limit handleAddOutput to display_data with EXEC_MIME_TYPE content only\n    if ((output.output_type != \"display_data\") || (!Object.prototype.hasOwnProperty.call(output.data, EXEC_MIME_TYPE))) {\n      return\n    }\n\n    const toinsert = output_area.element.find(\".\" + CLASS_NAME.split(' ')[0]);\n\n    if (output.metadata[EXEC_MIME_TYPE][\"id\"] !== undefined) {\n      toinsert[toinsert.length - 1].firstChild.textContent = output.data[JS_MIME_TYPE];\n      // store reference to embed id on output_area\n      output_area._bokeh_element_id = output.metadata[EXEC_MIME_TYPE][\"id\"];\n    }\n    if (output.metadata[EXEC_MIME_TYPE][\"server_id\"] !== undefined) {\n      const bk_div = document.createElement(\"div\");\n      bk_div.innerHTML = output.data[HTML_MIME_TYPE];\n      const script_attrs = bk_div.children[0].attributes;\n      for (let i = 0; i < script_attrs.length; i++) {\n        toinsert[toinsert.length - 1].firstChild.setAttribute(script_attrs[i].name, script_attrs[i].value);\n        toinsert[toinsert.length - 1].firstChild.textContent = bk_div.children[0].textContent\n      }\n      // store reference to server id on output_area\n      output_area._bokeh_server_id = output.metadata[EXEC_MIME_TYPE][\"server_id\"];\n    }\n  }\n\n  function register_renderer(events, OutputArea) {\n\n    function append_mime(data, metadata, element) {\n      // create a DOM node to render to\n      const toinsert = this.create_output_subarea(\n        metadata,\n        CLASS_NAME,\n        EXEC_MIME_TYPE\n      );\n      this.keyboard_manager.register_events(toinsert);\n      // Render to node\n      const props = {data: data, metadata: metadata[EXEC_MIME_TYPE]};\n      render(props, toinsert[toinsert.length - 1]);\n      element.append(toinsert);\n      return toinsert\n    }\n\n    /* Handle when an output is cleared or removed */\n    events.on('clear_output.CodeCell', handleClearOutput);\n    events.on('delete.Cell', handleClearOutput);\n\n    /* Handle when a new output is added */\n    events.on('output_added.OutputArea', handleAddOutput);\n\n    /**\n     * Register the mime type and append_mime function with output_area\n     */\n    OutputArea.prototype.register_mime_type(EXEC_MIME_TYPE, append_mime, {\n      /* Is output safe? */\n      safe: true,\n      /* Index of renderer in `output_area.display_order` */\n      index: 0\n    });\n  }\n\n  // register the mime type if in Jupyter Notebook environment and previously unregistered\n  if (root.Jupyter !== undefined) {\n    const events = require('base/js/events');\n    const OutputArea = require('notebook/js/outputarea').OutputArea;\n\n    if (OutputArea.prototype.mime_types().indexOf(EXEC_MIME_TYPE) == -1) {\n      register_renderer(events, OutputArea);\n    }\n  }\n  if (typeof (root._bokeh_timeout) === \"undefined\" || force === true) {\n    root._bokeh_timeout = Date.now() + 5000;\n    root._bokeh_failed_load = false;\n  }\n\n  const NB_LOAD_WARNING = {'data': {'text/html':\n     \"<div style='background-color: #fdd'>\\n\"+\n     \"<p>\\n\"+\n     \"BokehJS does not appear to have successfully loaded. If loading BokehJS from CDN, this \\n\"+\n     \"may be due to a slow or bad network connection. Possible fixes:\\n\"+\n     \"</p>\\n\"+\n     \"<ul>\\n\"+\n     \"<li>re-rerun `output_notebook()` to attempt to load from CDN again, or</li>\\n\"+\n     \"<li>use INLINE resources instead, as so:</li>\\n\"+\n     \"</ul>\\n\"+\n     \"<code>\\n\"+\n     \"from bokeh.resources import INLINE\\n\"+\n     \"output_notebook(resources=INLINE)\\n\"+\n     \"</code>\\n\"+\n     \"</div>\"}};\n\n  function display_loaded() {\n    const el = document.getElementById(\"b17245bd-9939-4201-8a9b-350dcf24a1c9\");\n    if (el != null) {\n      el.textContent = \"BokehJS is loading...\";\n    }\n    if (root.Bokeh !== undefined) {\n      if (el != null) {\n        el.textContent = \"BokehJS \" + root.Bokeh.version + \" successfully loaded.\";\n      }\n    } else if (Date.now() < root._bokeh_timeout) {\n      setTimeout(display_loaded, 100)\n    }\n  }\n\n  function run_callbacks() {\n    try {\n      root._bokeh_onload_callbacks.forEach(function(callback) {\n        if (callback != null)\n          callback();\n      });\n    } finally {\n      delete root._bokeh_onload_callbacks\n    }\n    console.debug(\"Bokeh: all callbacks have finished\");\n  }\n\n  function load_libs(css_urls, js_urls, callback) {\n    if (css_urls == null) css_urls = [];\n    if (js_urls == null) js_urls = [];\n\n    root._bokeh_onload_callbacks.push(callback);\n    if (root._bokeh_is_loading > 0) {\n      console.debug(\"Bokeh: BokehJS is being loaded, scheduling callback at\", now());\n      return null;\n    }\n    if (js_urls == null || js_urls.length === 0) {\n      run_callbacks();\n      return null;\n    }\n    console.debug(\"Bokeh: BokehJS not loaded, scheduling load and callback at\", now());\n    root._bokeh_is_loading = css_urls.length + js_urls.length;\n\n    function on_load() {\n      root._bokeh_is_loading--;\n      if (root._bokeh_is_loading === 0) {\n        console.debug(\"Bokeh: all BokehJS libraries/stylesheets loaded\");\n        run_callbacks()\n      }\n    }\n\n    function on_error(url) {\n      console.error(\"failed to load \" + url);\n    }\n\n    for (let i = 0; i < css_urls.length; i++) {\n      const url = css_urls[i];\n      const element = document.createElement(\"link\");\n      element.onload = on_load;\n      element.onerror = on_error.bind(null, url);\n      element.rel = \"stylesheet\";\n      element.type = \"text/css\";\n      element.href = url;\n      console.debug(\"Bokeh: injecting link tag for BokehJS stylesheet: \", url);\n      document.body.appendChild(element);\n    }\n\n    for (let i = 0; i < js_urls.length; i++) {\n      const url = js_urls[i];\n      const element = document.createElement('script');\n      element.onload = on_load;\n      element.onerror = on_error.bind(null, url);\n      element.async = false;\n      element.src = url;\n      console.debug(\"Bokeh: injecting script tag for BokehJS library: \", url);\n      document.head.appendChild(element);\n    }\n  };\n\n  function inject_raw_css(css) {\n    const element = document.createElement(\"style\");\n    element.appendChild(document.createTextNode(css));\n    document.body.appendChild(element);\n  }\n\n  const js_urls = [\"https://cdn.bokeh.org/bokeh/release/bokeh-3.3.0.min.js\", \"https://cdn.bokeh.org/bokeh/release/bokeh-gl-3.3.0.min.js\", \"https://cdn.bokeh.org/bokeh/release/bokeh-widgets-3.3.0.min.js\", \"https://cdn.bokeh.org/bokeh/release/bokeh-tables-3.3.0.min.js\", \"https://cdn.bokeh.org/bokeh/release/bokeh-mathjax-3.3.0.min.js\"];\n  const css_urls = [];\n\n  const inline_js = [    function(Bokeh) {\n      Bokeh.set_log_level(\"info\");\n    },\nfunction(Bokeh) {\n    }\n  ];\n\n  function run_inline_js() {\n    if (root.Bokeh !== undefined || force === true) {\n          for (let i = 0; i < inline_js.length; i++) {\n      inline_js[i].call(root, root.Bokeh);\n    }\nif (force === true) {\n        display_loaded();\n      }} else if (Date.now() < root._bokeh_timeout) {\n      setTimeout(run_inline_js, 100);\n    } else if (!root._bokeh_failed_load) {\n      console.log(\"Bokeh: BokehJS failed to load within specified timeout.\");\n      root._bokeh_failed_load = true;\n    } else if (force !== true) {\n      const cell = $(document.getElementById(\"b17245bd-9939-4201-8a9b-350dcf24a1c9\")).parents('.cell').data().cell;\n      cell.output_area.append_execute_result(NB_LOAD_WARNING)\n    }\n  }\n\n  if (root._bokeh_is_loading === 0) {\n    console.debug(\"Bokeh: BokehJS loaded, going straight to plotting\");\n    run_inline_js();\n  } else {\n    load_libs(css_urls, js_urls, function() {\n      console.debug(\"Bokeh: BokehJS plotting callback run at\", now());\n      run_inline_js();\n    });\n  }\n}(window));",
      "application/vnd.bokehjs_load.v0+json": ""
     },
     "metadata": {},
     "output_type": "display_data"
    }
   ],
   "source": [
    "from bokeh.plotting import figure\n",
    "from bokeh.palettes import viridis\n",
    "from bokeh.io import show, output_notebook\n",
    "from bokeh.models import ColumnDataSource, HoverTool, FactorRange, LabelSet, Whisker\n",
    "from bokeh.models.tickers import FixedTicker\n",
    "from bokeh.transform import jitter\n",
    "from bokeh.layouts import column, row, gridplot\n",
    "from math import pi\n",
    "from bokeh.layouts import row\n",
    "import random\n",
    "\n",
    "COLOR_PALETTE = [\"#0072B2\", \"#D55E00\", \"#009E73\", \"#E69F00\", \"#CC79A7\", \"#56B4E9\", \"#F0E442\"]\n",
    "\n",
    "output_notebook()"
   ]
  },
  {
   "cell_type": "markdown",
   "metadata": {},
   "source": [
    "## load the data"
   ]
  },
  {
   "cell_type": "code",
   "execution_count": 50,
   "metadata": {},
   "outputs": [],
   "source": [
    "def load_dist_dev(file_name, max_dist=None):\n",
    "    names = []\n",
    "    ret = []\n",
    "    with open(file_name, \"r\") as in_file:\n",
    "        for line in in_file:\n",
    "            if line[0] == \"#\":\n",
    "                continue\n",
    "            else:\n",
    "                readname, distance = line.strip().split()\n",
    "                if max_dist is None or int(distance) < max_dist:\n",
    "                    names.append(readname)\n",
    "                    ret.append(int(distance))\n",
    "    return names, ret\n",
    "\n",
    "ref_names, ref_dev = load_dist_dev(\"../data/virtual_paired_read_dist/referece.distance_deviation\")\n",
    "fixed_names, fixed_dev = load_dist_dev(\"../data/virtual_paired_read_dist/fixed_n.distance_deviation\")\n",
    "\n",
    "gap_spanning_reads = {}\n",
    "\n",
    "with open(\"../data/virtual_paired_read_dist/gap_spanning_reads\", \"r\") as file_in:\n",
    "    for line in file_in:\n",
    "        readname, *gaps = line[:-1].strip().split()\n",
    "        gap_spanning_reads[readname] = \" \".join(gaps)\n",
    "\n"
   ]
  },
  {
   "cell_type": "markdown",
   "metadata": {},
   "source": [
    "## post process the data"
   ]
  },
  {
   "cell_type": "code",
   "execution_count": 53,
   "metadata": {},
   "outputs": [],
   "source": [
    "\n",
    "ref_dict = {x: y for x, y in zip(ref_names, ref_dev)}\n",
    "\n",
    "# filter reads\n",
    "# remove those where the disrance has not changed\n",
    "filtered = set()\n",
    "for read_name, distance in zip(fixed_names, fixed_dev):\n",
    "    if not read_name in ref_dict:\n",
    "        filtered.add(read_name)\n",
    "    if not read_name in gap_spanning_reads:\n",
    "        filtered.add(read_name)\n",
    "    # if read_name in ref_dict and ref_dict[read_name] == distance:\n",
    "    #     filtered.add(read_name)\n",
    "    \n",
    "\n",
    "\n",
    "\n",
    "# figure out gap groups\n",
    "gap_groups = set()\n",
    "for gap in gap_spanning_reads.values():\n",
    "    gap_groups.add(gap)\n",
    "gap_colors = {}\n",
    "for idx, gap in enumerate(gap_groups):\n",
    "    if len(gap.split()) > 1:\n",
    "        gap_colors[gap] = \"black\"\n",
    "    else:\n",
    "        gap_colors[gap] = COLOR_PALETTE[idx % len(COLOR_PALETTE)]\n",
    "read_colors = {}\n",
    "for read in fixed_names:\n",
    "    if read in ref_dict:\n",
    "        if read in gap_spanning_reads:\n",
    "            read_colors[read] = gap_colors[gap_spanning_reads[read]]\n",
    "        else:\n",
    "            read_colors[read] = \"black\"\n",
    "\n",
    "combined_def = [(ref_dict[n], y, read_colors[n], gap_spanning_reads[n] if n in gap_spanning_reads else \"\", n) for n, y in zip(fixed_names, fixed_dev) if n in ref_dict and not n in filtered]"
   ]
  },
  {
   "cell_type": "markdown",
   "metadata": {},
   "source": [
    "## Plot the results"
   ]
  },
  {
   "cell_type": "code",
   "execution_count": null,
   "metadata": {},
   "outputs": [],
   "source": [
    "def barplot(data, data_div=None, num_bars=100, title=\"Bar plot\"):\n",
    "    f = figure(title=title, y_axis_type=\"log\")\n",
    "\n",
    "    max_val = max(data)\n",
    "    min_val = min(data)\n",
    "    if not data_div is None:\n",
    "        max_val = max(max_val, max(data_div))\n",
    "        min_val = min(min_val, min(data_div))\n",
    "    bin_size = (max_val - min_val) / num_bars\n",
    "    bins = [0]*(num_bars+1)\n",
    "    bins_div = [0]*(num_bars+1)\n",
    "    for x in data:\n",
    "        bins[int((x - min_val) / bin_size)] += 1\n",
    "    if not data_div is None:\n",
    "        for x in data_div:\n",
    "            bins_div[int((x - min_val) / bin_size)] += 1\n",
    "        vals = [x/y if y != 0 else 1 for x, y in zip(bins, bins_div)]\n",
    "        f.vbar(x=[x*bin_size + bin_size/2 + min_val for x in range(num_bars + 1)], width=bin_size, top=[max(1, x) for x in vals], \n",
    "               bottom=[min(1, x) for x in vals])\n",
    "    else:\n",
    "        f.vbar(x=[x*bin_size + bin_size/2 + min_val for x in range(num_bars + 1)], width=bin_size, top=bins, bottom=0.1)\n",
    "\n",
    "\n",
    "    show(f, notebook_handle=True)\n",
    "\n",
    "\n",
    "\n",
    "#barplot([x[0] for x in combined_def])\n",
    "#barplot([x[1] for x in combined_def])\n",
    "barplot([x[1] for x in combined_def], [x[0] for x in combined_def], title=\"Fixed / Reference distance deviation\")\n",
    "\n",
    "\n",
    "\n",
    "# f.scatter(x=jitter(\"x\", 1), y=\"y\", size=9, alpha=0.4, \n",
    "#           source=ColumnDataSource(data={\"x\":[1]*len(combined_def), \"y\": [x[0] for x in combined_def]}))\n",
    "\n",
    "# show(f, notebook_handle=True)\n",
    "\n",
    "# f = figure(title=\"Fixed\")\n",
    "\n",
    "# f.scatter(x=jitter(\"x\", 1), y=\"y\", size=9, alpha=0.4, \n",
    "#           source=ColumnDataSource(data={\"x\":[1]*len(combined_def), \"y\": [x[1] for x in combined_def]}))\n",
    "\n",
    "# show(f, notebook_handle=True)"
   ]
  },
  {
   "cell_type": "code",
   "execution_count": 54,
   "metadata": {},
   "outputs": [
    {
     "data": {
      "text/html": [
       "\n",
       "  <div id=\"afe11513-91e1-4293-822f-cb50d4792192\" data-root-id=\"p1746\" style=\"display: contents;\"></div>\n"
      ]
     },
     "metadata": {},
     "output_type": "display_data"
    },
    {
     "data": {
      "application/javascript": "(function(root) {\n  function embed_document(root) {\n  const docs_json = {\"aeae477c-c700-49c5-b1f5-452885a8683e\":{\"version\":\"3.3.0\",\"title\":\"Bokeh Application\",\"roots\":[{\"type\":\"object\",\"name\":\"Figure\",\"id\":\"p1746\",\"attributes\":{\"x_range\":{\"type\":\"object\",\"name\":\"DataRange1d\",\"id\":\"p1747\"},\"y_range\":{\"type\":\"object\",\"name\":\"DataRange1d\",\"id\":\"p1748\"},\"x_scale\":{\"type\":\"object\",\"name\":\"LinearScale\",\"id\":\"p1756\"},\"y_scale\":{\"type\":\"object\",\"name\":\"LinearScale\",\"id\":\"p1757\"},\"title\":{\"type\":\"object\",\"name\":\"Title\",\"id\":\"p1749\",\"attributes\":{\"text\":\"Comparison of distance deviations\"}},\"renderers\":[{\"type\":\"object\",\"name\":\"GlyphRenderer\",\"id\":\"p1785\",\"attributes\":{\"data_source\":{\"type\":\"object\",\"name\":\"ColumnDataSource\",\"id\":\"p1776\",\"attributes\":{\"selected\":{\"type\":\"object\",\"name\":\"Selection\",\"id\":\"p1777\",\"attributes\":{\"indices\":[],\"line_indices\":[]}},\"selection_policy\":{\"type\":\"object\",\"name\":\"UnionRenderers\",\"id\":\"p1778\"},\"data\":{\"type\":\"map\",\"entries\":[[\"x\",[-87169,-170879,-345761,-9603,-36559,-1978,-32046,-42645,-10779,-76792,-19854,12293,-62501,-10734,-38638,-38998,-62335,-93048,-6437,-54158,-225586,-36452,-49354,-229517,-226082,764436,1613,-1756,-63937,-54051,-221997,-6455,-174977,-175316,366,-96896,-34469,-69672,-217823,-16964,-55739,528,-149637,-42449,-134631,7255,-131605,-10468,-17146,-175045,-394914,-439411,-87656,-116476,-291441,-500382,-27708,3328,-103006,-175580,-45220,-10481,-59346,-1745,421,-70969,-135927,-248201,-383926,-148623,10723,402,-4640,-3930,-44503,-3043,1460,-82185,-152594,-37891,-4000,-141729,-74751,-189637,-10794,-23917,-36929,-3094,-17782,-17716,-128471,-11675,-192688,-59909,-1045,-10504,-17822,-4685,-177172,-120614,-80933,-69261,-3980,-10660,-17600,-363585,-34939,-215577,-125951,-221557,-117976,-122777,-148392,-155767,-14878,-1906,-10706,-450787,-162731,-85833,386,-91355,-1778,-127824,-1164,-185147,-94130,-134844,-16811,-9059,-84657,-64169,-17956,-11634,-10326,3304,-17120,-3148,-94872,-62586,-16701,-4030,-261445,-108024,-17798,-6344,-47,-60001,-57098,10647,-17281,-11329,7610,-13431,7247,-169414,-63912,-44448,-7348,-194727,-3112,-87834,-14184,-263018,-432332,-27776,10664,-17618,-37571,-191205,-55119,-2619,-20745,-10301,-192757,-95023,-253274,-256596,-3120,-3866,-211030,-250874,-22367,-4047,-10400,-142489,-11618,-17003,-2105,-32994,-44232,-98030,968858,-2091,-68227,-65222,-74062,-252393,-99683,-110215,-84595,-29950,-140584,-193167,-108922,-158447,-264017,470,-201030,-4036,639,-164242,-17277,-359738,-51135,-320032,-3185,-381292,-139187,10726,-28395,-16904,-19875,-13514,-6460,-160039,-66486,-95501,-317781,-136226,-11618,-10770,-52866,-149623,-119594,-124040,-70445,-13948,10708,-70274,-16660,-141785,-3990,-102345,-119561,-152089,-82238,-209645,-64024,-10528,-4021,-9455,-10547,-10592,6667,-219890,-3196,-17284,-83211,-41815,-10696,-126231,6485,-16411,-141159,-165754,-92266,-70925,-45215,-17192,-17575,-11607,-109291,-72556,-70047,-99196,-306744,2127,-6418,-6441,-81554,-68437,-23992,-17600,-151836,-216522,-6454,-42548,-3082,-262288,-167384,-2927,10647,-9035,-264621,-57883,-10539,-42218,-300398,-112544,-130689,-249375,-205831,12024,-118382,-439561,-65170,-122974,-807,12117,-230745,-218915,-125597,-1783,-65694,-111500,-42495,-22280,-90253,-141404,-11736,-321615,-72753,-13610,-51405,-427436,-245065,-255392,-386240,-165819,-89902,-3507,-71302,-33119,-1126,-117783,-72033,-23980,-81019,-17506,-17507,-130180,-102196,-49710,-385872,-98140,-193730,10705,1091,-62068,-111869,-120645,-205978,-45598,-66629,-17522,7695,-3215,-3940,-23769,-289431,-136207,-52329,-28184,-10900,-1523,6515,-17596,-10557,-55640,-10486,-19938,-2140,-194019,-174803,-17444,-88931,-56177,-22402,-172353,-38601,-1788,-141314,-153925,-1350,-17249,-411501,-71595,-17314,-10568,-6418,-90444,-167597,8113,-47962,-40340,-169298,-54805,-321969,-91483,-2134,-238506,-3508,7081,-51977,-98225,-229952,-2114,642,-309533,-229431,-3924,-81793,-93808,-142590,-39577,-208668,-107262,-53327,-223326,-3985,-60707,-6005,-10659,-52347,-9219,-6390,-236432,-1652,-160731,-17807,-106823,-60586,10641,-44304,-134191,12276,-322107,-116676,-183539,-176726,-167363,-97637,-65686,-71923,9595,-1096299,-279309,-17541,-38480,-17404,-1805,-176606,-10367,-10505,-56788,-236627,-137751,-138605,-17164,-3978,-31731,-116395,-3808,-32570,-1023573,-17217,-62405,-322543,-38418,-22969,-242779,-23716,-55513,-36246,-14074,-57064,-257047,-6249,-94263,-10733,10748,-167702,-64624,531,-137533,-44283,-1155,-155615,-163070,-10614,-17714,-3761,-2086,-36439,-10637,-132318,-17340,-10658,-118933,-36502,-91284,-38571,-111062,-17048,-242603,6838,-28643,-53391,-6327,-115979,-61668,-64088,-115543,-14138,-17371,-139029,-168185,-22456,-10722,-189857,-9630,-1137,-50420,-26829,-222495,-44405,-243524,10690,-106897,-177150,-32820,-11610,-239239,-211734,-210177,-10773,-33359,-23878,-3044,-132032,-116075,-65740,-10580,-6415,-20009,-62700,-57321,-17330,7364,-107942,-139853,-192422,-1758,-109576,-125904,-48099,-17811,-6963,-108722,11335,-279123,-93898,-14164,-10616,-71244,-60998,-22430,-142833,-99483,-13289,-303774,-10778,-147166,-236276,-16251,-50029,-17630,-322521,-10355,-17104,-36475,-2106,-276138,-110649,-113901,-1588,-81431,-5697,-52970,-26572,-109495,-105069,-29614,-17338,-230596,-11651,-1723,-5852,-338636,-43525,-116328,-30995,-44320,-1162,-287713,-1726,-7322,-15281,-202884,-113388,-221911,-42765,-60763,-95975,-42746,968890,-85061,-6391,-3208,-3146,-27764,-11428,-13612,-202845,-155066,-38103,-406746,3043,-22481,-66795,-78424,-87038,-57235,-165335,-32166,-57189,-1806,10680,-66910,-3223,-27684,-360233,-27792,-154418,-142059,-116276,-185028,-93527,-20049,-27779,-157965,-16967,-17743,-52958,-55051,-210105,-23987,-220463,-1590,-23292,-221421,-130285,-100972,-27755,-8905,-74695,-64979,-278459,-267470,7814,-11598,-6068,-74333,-153398,-101316,-208309,-3230,-45089,-143999,-169664,-10646,-178452,-479293,-332334,-197555,-54051,-97975,-354839,-33033,-52552,-3740,-104737,-17431,-17259,-210501,-418004,-19983,10655,-112491,-22210,-1925,-87750,-119838,10654,-4016,-96488,-3129,-109872,-17822,-1860,-168822,-99844,-266060,-94730,-45208,-191509,-119336,10692,-60693,-2861,-54816,-56761,-202032,-122173,-38942,-3577,-614,6722,-14209,-92392,-34752,-117910,-194871,-39794,-1748,-269149,-305172,-70235,-1181,-17233,-104785,-125473,-11665,-10458,-3889,-272422,-2129,-14204,-158490,-167118,-155490,-17768,-16684,-126607,-42437,-53627,-433286,-19943,-170682,4707,-112260,6853,-128081,-191175,-75558,-121758,-15242,6984,-96070,10684,-10462,-14212,-118486,-53456,-24026,-272328,-52728,-82471,10072,-1114,-141589,-9453,-229917,-39379,-169303,-17477,-3139,-10582,-147174,-2949,-10614,-3034,-22210,-2065,-59062,-62518,-148117,-16131,-17639,-31388,-17311,-350122,-67684,-121489,-44359,-173287,-61131,-37387,-198424,-78584,-143414,8568,-26259,-78408]],[\"y\",[-108839,-209688,-360018,-9603,112,-1978,-42401,454,-75,-108601,2633,12293,-29353,-30,171,-38998,-72690,-107305,-13,-26678,-271488,219,-26713,-229517,-227885,782356,13,47,-65740,-54051,-228421,-31,-174977,-174972,67,-139366,-36272,-69672,-217476,715,-9837,229,-167316,650,-144986,7255,-131279,-113,265,-176848,-431585,-476082,-87330,-116476,-295522,-514017,203,-21,-125493,-223753,1633,-126,-69701,58,71,-70969,-153338,-248201,-430779,-175912,10723,103,94,151,-9183,7312,1161,-81886,-156675,4887,81,-164216,-74751,-189338,-90,208,-65525,7261,138,204,-139175,-12001,-228008,-13056,-3016,200,98,8950,-199659,-163392,-98344,-97172,101,44,79,-370009,1732,-215577,-148438,-264335,-142101,-133132,-162649,-183678,2801,-1906,-2,-450461,-166812,-85833,87,-102059,25,-138179,-3135,-233320,-104485,-158969,868,1645,-84657,-64169,-36,-11960,29,-45,291,7207,-112283,-62586,710,51,-272149,-108024,122,80,-47,-64082,-11196,10647,130,-11655,7610,204,7247,-183049,-74616,-9128,6909,-194401,7243,-102091,73,-280429,-432033,135,10664,61,-37272,-196251,-26542,15,-129,54,-192431,-105378,-263629,-256596,7235,215,-211030,-250874,120,34,-45,-189342,-11944,408,-2105,-39418,-8912,-96059,986778,-2091,-78582,-83142,-78143,-276518,-99357,-123850,-102274,-40305,-158263,-210578,-123179,-185736,-306795,171,-228941,45,340,-181653,134,-402516,-49164,-320032,7170,-403779,-138888,10726,-46074,-17230,2612,743,-36,-203138,-77190,-142354,-317455,-136226,2639,-66,-50895,-167034,-119594,-134395,-70445,309,10708,-70274,751,-141785,91,-145444,-119262,-153892,-81939,-209319,-99344,-173,60,-9455,157,-10918,6667,-219890,7159,127,-83211,-64302,8,-128034,6485,1000,-155416,-165428,-90295,-70925,1638,219,103,-11933,-108992,-26654,-36899,-112831,-306744,-85,6,-17,-81554,-70239,133,79,-151836,-240647,-30,551,7273,-270188,-194673,7428,10647,1669,-264621,-57584,-184,127,-322885,-122899,-177542,-292474,-216186,12024,-132639,-449916,-65170,-122974,12828,12117,-241100,-218915,-162268,20,-57923,-154599,604,207,-91320,-168693,-12062,-358286,-72753,647,-73892,-445356,-288164,-292063,-433093,-211721,-87931,6812,-44013,-51039,-3097,-141908,-89444,145,-95276,-17832,172,-130180,-102196,-53791,-417540,-101353,-204085,10705,1091,-28920,-125504,-143132,-223389,-43627,-66067,157,7695,7140,141,356,-311918,-140288,-52329,-26213,2735,280,6515,83,-202,-65995,-131,2549,-2140,-208276,-174803,-17770,-87862,-56177,85,-189764,208,15,-154949,-153925,453,162,-433988,-75676,97,136,6,-101148,-167597,8113,-49765,-40041,-169298,-61229,-344456,-91157,-2134,-281284,6847,7081,-3804,-116145,-229952,-2114,80,-323168,-229431,157,-99713,-111487,-153294,-41380,-226079,-112344,-53327,-240737,96,-60707,-8459,45,-52347,1485,34,-236432,151,-160731,113,-120458,-60586,10641,-8984,-176969,12276,-332462,-134596,-183240,-176726,-167363,-101718,-72110,-96048,9595,-1114219,-296720,138,329,-17730,-2,-178409,83,-150,-56788,-243051,-155430,-138306,756,103,-35812,-116395,273,-36651,-1041493,194,-67553,-332898,391,-30758,-242779,409,-65868,425,183,-88095,-261128,175,-93964,-29,10748,-149782,-64624,232,-143957,-8963,-3126,-173294,-164139,90,206,320,-2086,232,-282,-132019,71,46,-155604,169,-87989,238,-111062,363,-244406,6838,-28088,-53391,97,-130236,-61369,-64088,-115543,119,40,-137058,-190672,31,-18,-200212,725,-3108,-56844,-8486,-240415,-54327,-243225,10690,-106754,-181231,-32267,2647,-245663,-211408,-209878,-69,-51038,247,7311,-180205,-115776,-88227,-225,9,2478,-62322,-57321,81,7364,-105895,-139853,-198846,45,-113657,-125904,-61734,109,19,-122979,11335,-312271,-104253,93,88,-81599,-60998,57,-142833,-99483,968,-351947,-74,-151247,-246631,-16577,-50029,49,-346646,3902,307,196,-2106,-324311,-110323,-150572,215,-120240,-6023,-52671,-9000,-113576,-151922,18559,73,-240951,-11977,80,-49,-338337,-8205,-116328,-32798,-9000,-3133,-335886,77,6313,2398,-202558,-148708,-257231,334,-27615,-95676,353,986810,-89142,33,7147,7209,147,-11754,645,-216480,-154767,-36132,-424666,3043,6,-66496,-88779,-97393,-11333,-187822,-54042,-11289,-3,10680,-68713,7132,227,-370588,119,-160842,-152414,-116276,-227806,-93228,2438,132,-201064,444,177,-63313,-26474,-253204,138,-262808,213,833,-221122,-140640,-149145,156,4730,-74695,-64979,-292094,-267470,7814,-11924,356,-74333,-199300,-114951,-214733,3194,1764,-143673,-169107,58,-221230,-507692,-356459,-214966,-64755,-97975,-391510,-33033,-4379,341,-152910,-17757,152,-220856,-440491,2504,10655,-129902,277,-1925,-98105,-119838,10654,65,-107192,7226,-132359,98,-1860,-168496,-113479,-311962,-92759,-55128,-193312,-121139,10692,-58722,7494,-26239,-10859,-212736,-132528,-36971,6778,13643,6722,48,-106649,-30166,-135321,-194871,2984,55,-269149,-332461,-74316,9174,-17559,-104785,-136177,-11991,246,192,-289833,-2129,53,-162571,-173542,-169125,152,727,-131346,662,-64331,-480139,2544,-193169,96,-130180,6853,-128081,-205432,-92969,-144245,2169,6984,-113481,10684,-107,45,-155157,-66762,-24026,-272002,-4555,-99882,675,-3085,-152293,1251,-247328,-37408,-193428,202,7216,-227,-157878,1132,90,7321,277,-2065,-59062,-93396,-148117,1548,40,-31388,100,-386793,-85604,-131844,-9039,-179711,-62934,-37387,-226335,-78584,-143088,8568,-32683,-31555]],[\"c\",[\"#E69F00\",\"#F0E442\",\"#CC79A7\",\"#0072B2\",\"#E69F00\",\"#E69F00\",\"#0072B2\",\"#F0E442\",\"#009E73\",\"#56B4E9\",\"#E69F00\",\"#0072B2\",\"#56B4E9\",\"#009E73\",\"#F0E442\",\"#D55E00\",\"#0072B2\",\"#CC79A7\",\"#D55E00\",\"#009E73\",\"#CC79A7\",\"#E69F00\",\"#009E73\",\"#E69F00\",\"#009E73\",\"black\",\"#0072B2\",\"#009E73\",\"#009E73\",\"#D55E00\",\"#D55E00\",\"#D55E00\",\"#0072B2\",\"#E69F00\",\"#0072B2\",\"#F0E442\",\"#009E73\",\"#D55E00\",\"#E69F00\",\"#F0E442\",\"#CC79A7\",\"#0072B2\",\"#F0E442\",\"#F0E442\",\"#0072B2\",\"#D55E00\",\"#D55E00\",\"#0072B2\",\"#F0E442\",\"#009E73\",\"#E69F00\",\"#E69F00\",\"#D55E00\",\"#D55E00\",\"#CC79A7\",\"black\",\"#009E73\",\"#0072B2\",\"#E69F00\",\"#E69F00\",\"#009E73\",\"#0072B2\",\"#0072B2\",\"#009E73\",\"#E69F00\",\"#D55E00\",\"#F0E442\",\"#D55E00\",\"#009E73\",\"#009E73\",\"#0072B2\",\"#0072B2\",\"#E69F00\",\"#CC79A7\",\"#56B4E9\",\"#0072B2\",\"#0072B2\",\"#0072B2\",\"#CC79A7\",\"black\",\"#CC79A7\",\"#E69F00\",\"#0072B2\",\"#0072B2\",\"#009E73\",\"#009E73\",\"#F0E442\",\"#0072B2\",\"#009E73\",\"#009E73\",\"#009E73\",\"#D55E00\",\"#56B4E9\",\"#009E73\",\"#009E73\",\"#009E73\",\"#009E73\",\"black\",\"#E69F00\",\"black\",\"#F0E442\",\"#009E73\",\"#CC79A7\",\"#009E73\",\"#F0E442\",\"#D55E00\",\"#E69F00\",\"#D55E00\",\"#E69F00\",\"black\",\"#009E73\",\"#0072B2\",\"#CC79A7\",\"#009E73\",\"#F0E442\",\"#E69F00\",\"#009E73\",\"#D55E00\",\"#CC79A7\",\"#D55E00\",\"#0072B2\",\"#009E73\",\"#009E73\",\"#0072B2\",\"#009E73\",\"#E69F00\",\"#0072B2\",\"#009E73\",\"#F0E442\",\"#009E73\",\"#D55E00\",\"#CC79A7\",\"#009E73\",\"#D55E00\",\"#0072B2\",\"#0072B2\",\"#F0E442\",\"#0072B2\",\"#F0E442\",\"#E69F00\",\"#F0E442\",\"#CC79A7\",\"#009E73\",\"#CC79A7\",\"#009E73\",\"#D55E00\",\"#E69F00\",\"#CC79A7\",\"#CC79A7\",\"#0072B2\",\"#F0E442\",\"#D55E00\",\"#D55E00\",\"#56B4E9\",\"#D55E00\",\"#56B4E9\",\"#009E73\",\"#56B4E9\",\"#CC79A7\",\"#D55E00\",\"#0072B2\",\"#CC79A7\",\"#CC79A7\",\"#F0E442\",\"#0072B2\",\"#009E73\",\"#0072B2\",\"#F0E442\",\"#0072B2\",\"#0072B2\",\"#E69F00\",\"#0072B2\",\"#009E73\",\"#0072B2\",\"#D55E00\",\"#0072B2\",\"#0072B2\",\"#D55E00\",\"#0072B2\",\"#CC79A7\",\"#56B4E9\",\"#0072B2\",\"#E69F00\",\"#CC79A7\",\"#0072B2\",\"#009E73\",\"#D55E00\",\"#F0E442\",\"#E69F00\",\"#D55E00\",\"#56B4E9\",\"#009E73\",\"black\",\"#E69F00\",\"#0072B2\",\"#009E73\",\"#CC79A7\",\"#009E73\",\"#D55E00\",\"#56B4E9\",\"#F0E442\",\"#0072B2\",\"#F0E442\",\"#F0E442\",\"#CC79A7\",\"#009E73\",\"black\",\"#0072B2\",\"#009E73\",\"#CC79A7\",\"#0072B2\",\"#F0E442\",\"#F0E442\",\"black\",\"#009E73\",\"#E69F00\",\"#0072B2\",\"#E69F00\",\"#0072B2\",\"#0072B2\",\"#F0E442\",\"#D55E00\",\"#E69F00\",\"#CC79A7\",\"#D55E00\",\"#F0E442\",\"#009E73\",\"#009E73\",\"#D55E00\",\"#D55E00\",\"#CC79A7\",\"#009E73\",\"#009E73\",\"#F0E442\",\"#0072B2\",\"#0072B2\",\"#D55E00\",\"#CC79A7\",\"#0072B2\",\"#E69F00\",\"#F0E442\",\"#E69F00\",\"#CC79A7\",\"#F0E442\",\"#0072B2\",\"#009E73\",\"#0072B2\",\"#D55E00\",\"#56B4E9\",\"#0072B2\",\"#CC79A7\",\"#0072B2\",\"#009E73\",\"#D55E00\",\"#D55E00\",\"#D55E00\",\"#0072B2\",\"#F0E442\",\"#E69F00\",\"#E69F00\",\"#009E73\",\"#009E73\",\"#D55E00\",\"#F0E442\",\"#CC79A7\",\"#D55E00\",\"#009E73\",\"#E69F00\",\"#009E73\",\"#F0E442\",\"#F0E442\",\"#D55E00\",\"#0072B2\",\"#CC79A7\",\"#56B4E9\",\"#56B4E9\",\"#56B4E9\",\"#0072B2\",\"#D55E00\",\"#D55E00\",\"#E69F00\",\"#009E73\",\"#009E73\",\"#F0E442\",\"#E69F00\",\"#009E73\",\"#D55E00\",\"#F0E442\",\"#0072B2\",\"#56B4E9\",\"#009E73\",\"#0072B2\",\"#0072B2\",\"#009E73\",\"#E69F00\",\"#0072B2\",\"#0072B2\",\"#0072B2\",\"#E69F00\",\"#0072B2\",\"#009E73\",\"#F0E442\",\"#0072B2\",\"#CC79A7\",\"#CC79A7\",\"#0072B2\",\"#E69F00\",\"#D55E00\",\"black\",\"#CC79A7\",\"#0072B2\",\"#0072B2\",\"#E69F00\",\"#009E73\",\"#F0E442\",\"#F0E442\",\"#F0E442\",\"#E69F00\",\"#E69F00\",\"#009E73\",\"#D55E00\",\"#E69F00\",\"#D55E00\",\"#CC79A7\",\"#E69F00\",\"black\",\"#F0E442\",\"#E69F00\",\"#009E73\",\"#CC79A7\",\"#009E73\",\"#0072B2\",\"#009E73\",\"#009E73\",\"#009E73\",\"#009E73\",\"#F0E442\",\"#009E73\",\"#CC79A7\",\"#D55E00\",\"#F0E442\",\"#D55E00\",\"#E69F00\",\"#CC79A7\",\"black\",\"#E69F00\",\"#0072B2\",\"#0072B2\",\"#E69F00\",\"#56B4E9\",\"#56B4E9\",\"#E69F00\",\"#F0E442\",\"#009E73\",\"#E69F00\",\"#F0E442\",\"#D55E00\",\"#0072B2\",\"#CC79A7\",\"#009E73\",\"#E69F00\",\"#CC79A7\",\"#E69F00\",\"#009E73\",\"#56B4E9\",\"#009E73\",\"#D55E00\",\"#F0E442\",\"#0072B2\",\"#0072B2\",\"#0072B2\",\"#E69F00\",\"#E69F00\",\"#CC79A7\",\"#0072B2\",\"#D55E00\",\"#CC79A7\",\"#D55E00\",\"#E69F00\",\"#F0E442\",\"#F0E442\",\"#009E73\",\"#56B4E9\",\"#D55E00\",\"#009E73\",\"#F0E442\",\"#E69F00\",\"#CC79A7\",\"#F0E442\",\"#009E73\",\"#D55E00\",\"#009E73\",\"#0072B2\",\"#D55E00\",\"#009E73\",\"#0072B2\",\"#0072B2\",\"#D55E00\",\"#E69F00\",\"#D55E00\",\"#E69F00\",\"black\",\"#0072B2\",\"#D55E00\",\"#E69F00\",\"#009E73\",\"#0072B2\",\"#E69F00\",\"#E69F00\",\"black\",\"#E69F00\",\"#CC79A7\",\"#009E73\",\"#F0E442\",\"#009E73\",\"#009E73\",\"#F0E442\",\"#0072B2\",\"#D55E00\",\"#F0E442\",\"#CC79A7\",\"#CC79A7\",\"#009E73\",\"#009E73\",\"#E69F00\",\"#009E73\",\"#D55E00\",\"#0072B2\",\"#009E73\",\"#0072B2\",\"#009E73\",\"#56B4E9\",\"#E69F00\",\"#0072B2\",\"#56B4E9\",\"black\",\"#CC79A7\",\"#0072B2\",\"#009E73\",\"#0072B2\",\"#CC79A7\",\"#D55E00\",\"#CC79A7\",\"#D55E00\",\"#009E73\",\"#D55E00\",\"black\",\"#F0E442\",\"#F0E442\",\"#F0E442\",\"#D55E00\",\"#009E73\",\"#009E73\",\"#E69F00\",\"#0072B2\",\"#CC79A7\",\"#D55E00\",\"#F0E442\",\"#0072B2\",\"#009E73\",\"#CC79A7\",\"#CC79A7\",\"#D55E00\",\"#CC79A7\",\"#CC79A7\",\"black\",\"#F0E442\",\"#E69F00\",\"#0072B2\",\"#F0E442\",\"#E69F00\",\"#D55E00\",\"#009E73\",\"#0072B2\",\"#E69F00\",\"#CC79A7\",\"#009E73\",\"#CC79A7\",\"#D55E00\",\"#0072B2\",\"#009E73\",\"#0072B2\",\"#009E73\",\"#E69F00\",\"#0072B2\",\"#D55E00\",\"#56B4E9\",\"#009E73\",\"#F0E442\",\"#CC79A7\",\"#009E73\",\"#009E73\",\"#CC79A7\",\"#E69F00\",\"#E69F00\",\"#0072B2\",\"#0072B2\",\"#F0E442\",\"#009E73\",\"#E69F00\",\"#E69F00\",\"#0072B2\",\"#F0E442\",\"#D55E00\",\"#F0E442\",\"#009E73\",\"#D55E00\",\"#E69F00\",\"#CC79A7\",\"#D55E00\",\"#CC79A7\",\"#0072B2\",\"#E69F00\",\"#E69F00\",\"#CC79A7\",\"#F0E442\",\"#009E73\",\"#E69F00\",\"#E69F00\",\"#009E73\",\"#0072B2\",\"#0072B2\",\"#009E73\",\"#D55E00\",\"#009E73\",\"#009E73\",\"#0072B2\",\"#0072B2\",\"#0072B2\",\"#E69F00\",\"#CC79A7\",\"#E69F00\",\"#CC79A7\",\"#D55E00\",\"#D55E00\",\"#0072B2\",\"#009E73\",\"#F0E442\",\"#009E73\",\"#0072B2\",\"#E69F00\",\"#0072B2\",\"#E69F00\",\"#0072B2\",\"#D55E00\",\"#E69F00\",\"#009E73\",\"#0072B2\",\"#F0E442\",\"#D55E00\",\"#009E73\",\"#0072B2\",\"#D55E00\",\"#009E73\",\"#CC79A7\",\"#D55E00\",\"#56B4E9\",\"#009E73\",\"#E69F00\",\"#CC79A7\",\"#0072B2\",\"#56B4E9\",\"#0072B2\",\"#CC79A7\",\"#009E73\",\"#0072B2\",\"#CC79A7\",\"#E69F00\",\"#D55E00\",\"#D55E00\",\"#CC79A7\",\"#E69F00\",\"#009E73\",\"#CC79A7\",\"#0072B2\",\"#D55E00\",\"#E69F00\",\"#F0E442\",\"#009E73\",\"#CC79A7\",\"#F0E442\",\"#E69F00\",\"#E69F00\",\"#E69F00\",\"#D55E00\",\"#E69F00\",\"#009E73\",\"#F0E442\",\"#D55E00\",\"#0072B2\",\"#56B4E9\",\"#CC79A7\",\"#009E73\",\"#E69F00\",\"#F0E442\",\"#0072B2\",\"#D55E00\",\"#009E73\",\"#0072B2\",\"#0072B2\",\"#56B4E9\",\"#D55E00\",\"#009E73\",\"#56B4E9\",\"#009E73\",\"#E69F00\",\"#009E73\",\"black\",\"#F0E442\",\"#D55E00\",\"#56B4E9\",\"#56B4E9\",\"#F0E442\",\"#56B4E9\",\"#0072B2\",\"#F0E442\",\"black\",\"#CC79A7\",\"#D55E00\",\"#0072B2\",\"#0072B2\",\"#009E73\",\"#D55E00\",\"#CC79A7\",\"black\",\"#0072B2\",\"#009E73\",\"black\",\"#D55E00\",\"#E69F00\",\"#0072B2\",\"#0072B2\",\"#0072B2\",\"#CC79A7\",\"#E69F00\",\"#E69F00\",\"#CC79A7\",\"#009E73\",\"#0072B2\",\"#009E73\",\"#0072B2\",\"#009E73\",\"#0072B2\",\"#009E73\",\"#D55E00\",\"#0072B2\",\"#D55E00\",\"black\",\"#0072B2\",\"#E69F00\",\"#009E73\",\"#F0E442\",\"#F0E442\",\"#009E73\",\"#0072B2\",\"#E69F00\",\"#F0E442\",\"#009E73\",\"#0072B2\",\"#009E73\",\"#009E73\",\"#0072B2\",\"#0072B2\",\"#E69F00\",\"#009E73\",\"#56B4E9\",\"#D55E00\",\"#E69F00\",\"black\",\"#D55E00\",\"#D55E00\",\"#D55E00\",\"#D55E00\",\"#D55E00\",\"#CC79A7\",\"#56B4E9\",\"#D55E00\",\"#D55E00\",\"#009E73\",\"#D55E00\",\"#E69F00\",\"#009E73\",\"black\",\"black\",\"#009E73\",\"#F0E442\",\"#009E73\",\"#E69F00\",\"#E69F00\",\"#0072B2\",\"#E69F00\",\"#CC79A7\",\"#E69F00\",\"#D55E00\",\"#F0E442\",\"#0072B2\",\"#E69F00\",\"#E69F00\",\"#0072B2\",\"#F0E442\",\"#E69F00\",\"#E69F00\",\"#0072B2\",\"#D55E00\",\"#0072B2\",\"#CC79A7\",\"#009E73\",\"#0072B2\",\"#E69F00\",\"#009E73\",\"#E69F00\",\"#D55E00\",\"#56B4E9\",\"#CC79A7\",\"#009E73\",\"#0072B2\",\"#009E73\",\"#009E73\",\"#0072B2\",\"#009E73\",\"#0072B2\",\"#E69F00\",\"#CC79A7\",\"#009E73\",\"#0072B2\",\"#009E73\",\"#0072B2\",\"#CC79A7\",\"#D55E00\",\"#CC79A7\",\"#CC79A7\",\"#F0E442\",\"#F0E442\",\"#0072B2\",\"black\",\"#009E73\",\"#E69F00\",\"#009E73\",\"#CC79A7\",\"#0072B2\",\"#D55E00\",\"#0072B2\",\"#009E73\",\"#D55E00\",\"#009E73\",\"#CC79A7\",\"#F0E442\",\"#E69F00\",\"#CC79A7\",\"#CC79A7\",\"#D55E00\",\"#56B4E9\",\"#009E73\",\"#F0E442\",\"#E69F00\",\"#F0E442\",\"#009E73\",\"#009E73\",\"#E69F00\",\"#E69F00\",\"#F0E442\",\"#009E73\",\"#D55E00\",\"#E69F00\",\"#CC79A7\",\"#F0E442\",\"#E69F00\",\"#F0E442\",\"#D55E00\",\"#F0E442\",\"#0072B2\",\"#0072B2\",\"#CC79A7\",\"#E69F00\",\"#E69F00\",\"#0072B2\",\"#D55E00\",\"#E69F00\",\"#F0E442\",\"#D55E00\",\"#009E73\",\"#009E73\",\"#009E73\",\"#F0E442\",\"#009E73\",\"#009E73\",\"#F0E442\",\"#0072B2\",\"#0072B2\",\"#009E73\",\"#CC79A7\",\"#009E73\",\"#0072B2\",\"#E69F00\",\"#E69F00\",\"#0072B2\",\"#009E73\",\"#D55E00\",\"#F0E442\",\"#F0E442\",\"#E69F00\",\"#F0E442\",\"#E69F00\",\"#009E73\",\"#0072B2\",\"#56B4E9\",\"#D55E00\",\"#009E73\",\"#E69F00\",\"#009E73\",\"#0072B2\",\"#D55E00\",\"#D55E00\",\"#D55E00\",\"#009E73\"]],[\"h\",[\"Chr11_core:263kbp\",\"Chr1_3B:299kbp\",\"Chr5_3B:167kbp\",\"Chr7_core:1933kbp\",\"Chr9_5A:211kbp\",\"Chr9_3A:617kbp\",\"Chr7_core:1789kbp\",\"Chr6_3B:1000kbp\",\"Chr8_5B:335kbp\",\"Chr10_3A:1256kbp\",\"Chr11_core:263kbp\",\"Chr11_3B:266kbp\",\"Chr7_core:473kbp\",\"Chr8_5B:335kbp\",\"Chr1_3B:299kbp\",\"Chr8_3A:235kbp\",\"Chr7_core:1789kbp\",\"Chr5_3B:167kbp\",\"Chr8_5A:666kbp\",\"Chr1_core:609kbp\",\"Chr5_core:223kbp\",\"Chr9_5A:211kbp\",\"Chr1_core:609kbp\",\"Chr9_3A:617kbp\",\"Chr1_3A:43kbp\",\"Chr6_3A:861kbp Chr6_3A:1057kbp\",\"Chr7_core:1789kbp\",\"Chr1_3A:43kbp\",\"Chr1_3A:43kbp\",\"Chr8_core:316kbp\",\"Chr8_5A:666kbp\",\"Chr8_5A:666kbp\",\"Chr7_core:1933kbp\",\"Chr11_core:263kbp\",\"Chr9_3A:437kbp\",\"Chr9_3B:286kbp\",\"Chr1_3A:43kbp\",\"Chr8_3A:235kbp\",\"Chr11_core:263kbp\",\"Chr1_3B:226kbp\",\"Chr5_core:223kbp\",\"Chr9_3A:437kbp\",\"Chr1_3B:226kbp\",\"Chr6_3B:1000kbp\",\"Chr7_core:1789kbp\",\"Chr6_3A:1194kbp\",\"Chr9_core:347kbp\",\"Chr7_core:1789kbp\",\"Chr5_3B:286kbp\",\"Chr1_3A:43kbp\",\"Chr9_5A:211kbp\",\"Chr9_5A:211kbp\",\"Chr9_core:347kbp\",\"Chr6_3A:861kbp\",\"Chr1_3A:2090kbp\",\"Chr6_3A:1194kbp Chr6_3A:1239kbp\",\"Chr1_3B:372kbp\",\"Chr7_core:1789kbp\",\"Chr11_core:263kbp\",\"Chr3_core:820kbp\",\"Chr1_core:609kbp\",\"Chr7_core:1789kbp\",\"Chr7_core:1789kbp\",\"Chr1_3A:43kbp\",\"Chr11_core:263kbp\",\"Chr1_3A:202kbp\",\"Chr5_3B:286kbp\",\"Chr8_core:316kbp\",\"Chr1_core:609kbp\",\"Chr11_3B:319kbp\",\"Chr11_3B:266kbp\",\"Chr9_3A:437kbp\",\"Chr11_core:263kbp\",\"Chr1_3A:2090kbp\",\"Chr10_3A:1256kbp\",\"Chr7_core:1789kbp\",\"Chr9_3A:437kbp\",\"Chr9_3A:437kbp\",\"Chr1_3A:2090kbp\",\"Chr8_3A:215kbp Chr8_3A:235kbp\",\"Chr1_3A:2090kbp\",\"Chr11_core:263kbp\",\"Chr11_3B:266kbp\",\"Chr9_3A:437kbp\",\"Chr8_5B:335kbp\",\"Chr11_3A:284kbp\",\"Chr9_3B:286kbp\",\"Chr7_core:1789kbp\",\"Chr6_3A:1057kbp\",\"Chr6_3A:1057kbp\",\"Chr8_5B:335kbp\",\"Chr9_core:347kbp\",\"Chr10_3A:1256kbp\",\"Chr1_core:609kbp\",\"BES17:65kbp\",\"Chr8_5B:335kbp\",\"Chr6_3A:1057kbp\",\"Chr6_3A:1194kbp Chr6_3A:1239kbp\",\"Chr11_core:263kbp\",\"Chr8_3A:215kbp Chr8_3A:235kbp\",\"Chr5_3B:286kbp\",\"Chr1_3B:372kbp\",\"Chr1_3A:2090kbp\",\"Chr8_5B:335kbp\",\"Chr1_3B:226kbp\",\"Chr8_5A:666kbp\",\"Chr9_5A:211kbp\",\"Chr8_core:316kbp\",\"Chr11_core:263kbp\",\"Chr8_3A:215kbp Chr8_3A:235kbp\",\"Chr11_3A:284kbp\",\"Chr7_core:1789kbp\",\"Chr5_3B:167kbp\",\"Chr1_3B:372kbp\",\"Chr1_3B:226kbp\",\"Chr9_3A:617kbp\",\"Chr8_5B:335kbp\",\"Chr9_core:347kbp\",\"Chr1_3A:2090kbp\",\"Chr6_3A:1194kbp\",\"Chr9_3A:437kbp\",\"Chr8_5B:335kbp\",\"Chr1_3A:43kbp\",\"Chr7_core:1789kbp\",\"BES17:65kbp\",\"Chr3_core:820kbp\",\"Chr7_core:1789kbp\",\"Chr11_3A:284kbp\",\"Chr1_3B:226kbp\",\"Chr8_5B:335kbp\",\"Chr6_3A:1194kbp\",\"BES2:62kbp\",\"Chr6_3A:1057kbp\",\"Chr9_core:347kbp\",\"Chr7_core:1789kbp\",\"Chr7_core:1789kbp\",\"Chr5_3B:286kbp\",\"Chr7_core:1789kbp\",\"Chr5_3B:286kbp\",\"Chr4_core:879kbp\",\"Chr5_3B:286kbp\",\"Chr1_3A:2090kbp\",\"Chr8_5B:335kbp\",\"Chr1_3A:264kbp\",\"Chr6_3A:1057kbp\",\"Chr8_5A:666kbp\",\"Chr9_3A:617kbp\",\"Chr1_3A:2090kbp\",\"Chr5_core:223kbp\",\"Chr11_3B:266kbp\",\"Chr5_3B:286kbp\",\"Chr9_core:347kbp\",\"Chr6_3A:1194kbp\",\"Chr6_3A:1239kbp\",\"Chr6_3A:1194kbp\",\"Chr6_3A:1239kbp\",\"Chr8_5B:335kbp\",\"Chr10_3A:1256kbp\",\"Chr5_3B:167kbp\",\"Chr9_core:347kbp\",\"Chr7_core:1789kbp\",\"Chr5_3B:167kbp\",\"Chr5_3B:167kbp\",\"Chr5_3B:286kbp\",\"Chr9_3A:437kbp\",\"Chr1_3B:372kbp\",\"Chr11_3B:266kbp\",\"Chr1_3B:226kbp\",\"Chr9_3A:437kbp\",\"Chr7_core:1789kbp\",\"Chr8_core:2124kbp\",\"Chr7_core:1789kbp\",\"Chr11_3B:319kbp\",\"Chr7_core:1789kbp\",\"Chr9_core:347kbp\",\"Chr7_core:1789kbp\",\"Chr7_core:1789kbp\",\"Chr8_core:316kbp\",\"Chr7_core:1789kbp\",\"Chr1_3A:2090kbp\",\"Chr1_3A:1409kbp\",\"Chr7_core:1933kbp\",\"Chr11_core:263kbp\",\"Chr1_3A:2090kbp\",\"Chr7_core:1789kbp\",\"Chr1_core:609kbp\",\"Chr9_core:347kbp\",\"Chr5_3B:286kbp\",\"Chr9_3A:617kbp\",\"Chr8_5A:666kbp\",\"Chr10_3A:1256kbp\",\"BES17:65kbp\",\"Chr6_3A:71kbp Chr6_3A:861kbp Chr6_3A:1057kbp\",\"Chr9_3A:617kbp\",\"Chr7_core:1789kbp\",\"Chr6_3A:1057kbp\",\"Chr1_3A:2090kbp\",\"Chr11_3A:284kbp\",\"Chr9_core:347kbp\",\"Chr6_3A:1239kbp\",\"Chr1_3B:226kbp\",\"Chr7_core:1789kbp\",\"Chr1_3B:226kbp\",\"Chr5_3B:286kbp\",\"Chr5_3B:167kbp\",\"Chr11_3B:319kbp\",\"Chr8_3A:215kbp Chr8_3A:235kbp\",\"Chr9_3A:437kbp\",\"Chr1_3B:372kbp\",\"Chr1_3A:2090kbp\",\"Chr9_3A:437kbp\",\"Chr5_3B:286kbp\",\"Chr5_3B:286kbp\",\"Chr8_3A:215kbp Chr8_3A:235kbp\",\"BES17:65kbp\",\"Chr9_3A:617kbp\",\"Chr7_core:1789kbp\",\"Chr11_core:263kbp\",\"Chr9_3A:437kbp\",\"Chr11_3B:266kbp\",\"Chr1_3B:226kbp\",\"Chr9_core:347kbp\",\"Chr11_core:263kbp\",\"Chr5_3B:167kbp\",\"Chr8_5A:666kbp\",\"Chr6_3B:1000kbp\",\"Chr8_5B:335kbp\",\"Chr1_core:609kbp\",\"Chr9_core:347kbp\",\"Chr6_3A:1194kbp\",\"Chr5_3B:167kbp\",\"Chr8_5B:335kbp\",\"BES17:65kbp\",\"Chr5_3B:286kbp\",\"Chr7_core:1933kbp\",\"Chr7_core:1789kbp\",\"Chr6_3A:1194kbp\",\"Chr5_3B:167kbp\",\"Chr11_3B:266kbp\",\"Chr9_3A:617kbp\",\"Chr5_3B:286kbp\",\"Chr4_core:879kbp\",\"Chr1_3A:2090kbp\",\"Chr6_3B:1000kbp\",\"Chr9_3A:437kbp\",\"Chr1_3A:43kbp\",\"Chr9_3A:437kbp\",\"Chr9_core:347kbp\",\"Chr10_3A:1256kbp\",\"Chr7_core:1789kbp\",\"Chr1_3A:2090kbp\",\"Chr7_core:1933kbp\",\"Chr8_5B:335kbp\",\"Chr9_core:347kbp\",\"Chr6_3A:1194kbp\",\"Chr6_3A:1194kbp\",\"Chr7_core:1789kbp\",\"Chr5_3B:286kbp\",\"Chr9_3A:617kbp\",\"Chr11_core:263kbp\",\"Chr8_5B:335kbp\",\"Chr1_3A:43kbp\",\"Chr6_3A:1194kbp\",\"Chr5_3B:286kbp\",\"Chr5_3B:167kbp\",\"Chr9_core:347kbp\",\"BES17:65kbp\",\"Chr9_3A:617kbp\",\"Chr1_core:609kbp\",\"Chr5_3B:286kbp\",\"Chr1_3B:226kbp\",\"Chr9_core:347kbp\",\"Chr9_3A:437kbp\",\"Chr5_core:223kbp\",\"Chr7_core:473kbp\",\"Chr6_3A:1239kbp\",\"Chr6_3A:71kbp\",\"Chr7_core:1789kbp\",\"Chr8_5A:666kbp\",\"Chr8_5A:666kbp\",\"Chr9_3A:617kbp\",\"Chr1_3A:43kbp\",\"Chr11_3A:284kbp\",\"Chr1_3B:226kbp\",\"Chr4_core:879kbp\",\"Chr11_3A:284kbp\",\"Chr8_5A:666kbp\",\"Chr6_3B:1000kbp\",\"Chr7_core:1789kbp\",\"Chr10_3A:1256kbp\",\"Chr11_3B:319kbp\",\"Chr7_core:1789kbp\",\"Chr11_3B:266kbp\",\"Chr8_5B:335kbp\",\"Chr9_3A:617kbp\",\"Chr9_3A:437kbp\",\"Chr7_core:1789kbp\",\"Chr3_5A:303kbp\",\"Chr11_core:263kbp\",\"Chr7_core:1789kbp\",\"Chr1_core:609kbp\",\"Chr6_3B:1000kbp\",\"Chr7_core:1789kbp\",\"BES2:62kbp\",\"Chr5_3B:167kbp\",\"Chr7_core:1789kbp\",\"Chr4_core:879kbp\",\"Chr6_3A:1194kbp\",\"Chr6_3A:1194kbp Chr6_3A:1239kbp\",\"BES2:62kbp\",\"Chr7_core:1789kbp\",\"Chr11_3B:266kbp\",\"Chr9_5A:211kbp\",\"Chr1_3A:43kbp\",\"Chr6_3B:1000kbp\",\"Chr6_3B:1000kbp\",\"Chr6_3B:1000kbp\",\"Chr11_core:263kbp\",\"Chr11_core:263kbp\",\"Chr11_3B:319kbp\",\"Chr9_core:347kbp\",\"Chr9_5A:211kbp\",\"Chr8_3A:235kbp\",\"Chr5_3B:167kbp\",\"Chr11_core:263kbp\",\"Chr6_3A:1057kbp Chr6_3A:1194kbp\",\"Chr6_3B:1000kbp\",\"Chr9_5A:211kbp\",\"Chr1_core:609kbp\",\"Chr5_core:223kbp\",\"BES17:65kbp\",\"Chr7_core:1789kbp\",\"Chr11_3B:319kbp\",\"Chr6_3A:1057kbp\",\"BES17:65kbp\",\"Chr11_3A:284kbp\",\"Chr5_3B:286kbp\",\"Chr11_3A:284kbp\",\"Chr5_3B:167kbp\",\"Chr9_core:347kbp\",\"Chr1_3B:226kbp\",\"Chr6_3A:1194kbp\",\"Chr4_core:879kbp\",\"Chr1_3A:2090kbp\",\"Chr5_3B:167kbp Chr5_3B:286kbp\",\"Chr9_5A:211kbp\",\"Chr7_core:1789kbp\",\"Chr11_3B:266kbp\",\"Chr9_3A:617kbp\",\"Chr7_core:473kbp\",\"Chr6_3A:1239kbp\",\"Chr11_core:263kbp\",\"Chr5_3B:286kbp\",\"BES17:65kbp\",\"Chr11_core:263kbp\",\"Chr1_3B:226kbp\",\"Chr6_3A:1194kbp\",\"Chr7_core:1789kbp\",\"Chr1_3A:2090kbp\",\"Chr11_3A:284kbp\",\"Chr11_core:263kbp\",\"Chr1_3A:2090kbp\",\"Chr9_3A:617kbp\",\"BES17:65kbp\",\"Chr6_3A:1239kbp\",\"Chr1_3A:43kbp\",\"Chr6_3A:1194kbp\",\"Chr1_3B:226kbp\",\"Chr7_core:1789kbp\",\"Chr7_core:1789kbp\",\"Chr7_core:1789kbp\",\"Chr11_core:263kbp\",\"Chr9_3A:617kbp\",\"Chr5_3B:167kbp\",\"Chr11_3B:266kbp\",\"Chr9_core:347kbp\",\"Chr8_5B:113kbp\",\"Chr8_core:316kbp\",\"Chr11_core:263kbp\",\"Chr5_3B:286kbp\",\"Chr1_3B:299kbp\",\"Chr1_3A:43kbp\",\"Chr6_3A:1239kbp\",\"Chr6_3A:1194kbp\",\"Chr1_3A:43kbp\",\"Chr5_3B:286kbp\",\"Chr11_core:263kbp\",\"Chr1_3A:2090kbp\",\"Chr5_3B:286kbp\",\"Chr8_5B:335kbp\",\"Chr8_5A:666kbp\",\"Chr8_5B:335kbp\",\"Chr11_3A:497kbp\",\"Chr6_3A:1194kbp\",\"Chr1_3A:43kbp\",\"Chr9_3A:437kbp\",\"Chr11_3B:266kbp\",\"Chr8_5A:666kbp\",\"Chr11_core:263kbp\",\"Chr9_core:347kbp\",\"Chr9_3A:617kbp\",\"Chr8_3A:215kbp Chr8_3A:235kbp\",\"Chr7_core:1789kbp\",\"Chr6_3A:1194kbp\",\"Chr3_core:820kbp\",\"Chr6_3A:1057kbp\",\"Chr11_3A:497kbp\",\"Chr9_3A:617kbp\",\"Chr11_core:263kbp\",\"Chr6_3A:1194kbp Chr6_3A:1239kbp\",\"Chr9_3A:617kbp\",\"Chr1_3A:2090kbp\",\"Chr6_3A:1057kbp\",\"Chr1_3B:226kbp\",\"Chr8_5B:335kbp\",\"Chr1_3A:43kbp\",\"Chr5_3B:286kbp\",\"Chr7_core:1789kbp\",\"Chr8_core:316kbp\",\"Chr5_3B:286kbp\",\"Chr1_3A:2090kbp\",\"BES2:62kbp\",\"Chr1_core:609kbp\",\"Chr8_5B:335kbp\",\"Chr9_3A:617kbp\",\"Chr8_5B:335kbp\",\"Chr8_5A:666kbp\",\"Chr11_3B:266kbp\",\"Chr1_3A:43kbp\",\"Chr11_3B:266kbp\",\"Chr6_3A:1057kbp\",\"Chr6_3A:1239kbp\",\"Chr4_core:879kbp\",\"Chr11_3B:266kbp\",\"Chr10_3A:1256kbp\",\"Chr8_3A:215kbp Chr8_3A:235kbp\",\"BES2:62kbp\",\"Chr7_core:1789kbp\",\"Chr6_3A:1057kbp\",\"Chr9_3A:437kbp\",\"Chr1_3A:264kbp\",\"Chr6_3A:1194kbp\",\"Chr1_3A:2090kbp\",\"Chr8_5A:666kbp\",\"Chr11_3A:284kbp\",\"Chr6_3A:1194kbp\",\"Chr6_3A:71kbp Chr6_3A:861kbp Chr6_3A:1057kbp\",\"Chr5_3B:286kbp\",\"Chr1_3B:226kbp\",\"Chr1_3B:299kbp\",\"Chr9_core:347kbp\",\"Chr1_3A:43kbp\",\"Chr1_3A:43kbp\",\"Chr11_core:263kbp\",\"Chr7_core:1789kbp\",\"BES2:62kbp\",\"Chr8_5A:666kbp\",\"Chr1_3B:226kbp\",\"Chr9_3A:437kbp\",\"Chr6_3A:1057kbp\",\"Chr1_3A:2090kbp\",\"Chr1_3A:2090kbp\",\"Chr6_3A:861kbp\",\"Chr1_3A:2090kbp\",\"Chr1_3A:2090kbp\",\"Chr6_3A:861kbp Chr6_3A:1057kbp\",\"Chr5_3B:286kbp\",\"Chr11_core:263kbp\",\"Chr7_core:1789kbp\",\"Chr1_3B:299kbp\",\"Chr11_core:263kbp\",\"Chr8_3A:235kbp\",\"Chr11_3A:284kbp\",\"Chr7_core:1789kbp\",\"Chr9_5A:211kbp\",\"Chr5_3B:167kbp\",\"Chr1_core:609kbp\",\"Chr1_3A:2090kbp\",\"Chr8_5A:666kbp\",\"Chr9_3A:437kbp\",\"Chr8_5B:335kbp\",\"Chr11_3B:266kbp\",\"Chr6_3A:1057kbp\",\"Chr4_core:879kbp\",\"Chr9_3A:437kbp\",\"Chr8_5A:666kbp\",\"Chr10_3A:1256kbp\",\"BES17:65kbp\",\"Chr1_3B:226kbp\",\"Chr8_5B:113kbp\",\"Chr8_5B:335kbp\",\"Chr6_3A:1057kbp\",\"Chr1_3A:2090kbp\",\"Chr9_3A:617kbp\",\"Chr9_5A:211kbp\",\"Chr7_core:1789kbp\",\"Chr9_3A:437kbp\",\"Chr5_3B:286kbp\",\"Chr8_5B:335kbp\",\"Chr9_5A:211kbp\",\"Chr9_5A:211kbp\",\"Chr7_core:1789kbp\",\"Chr1_3B:299kbp\",\"Chr6_3A:861kbp\",\"Chr5_3B:286kbp\",\"Chr1_3A:43kbp\",\"Chr6_3A:1194kbp\",\"Chr11_core:263kbp\",\"BES2:62kbp\",\"Chr8_5A:666kbp\",\"Chr5_3B:167kbp\",\"Chr9_3A:437kbp\",\"Chr9_3A:617kbp\",\"Chr9_3A:617kbp\",\"Chr5_3B:167kbp\",\"Chr5_3B:286kbp\",\"BES17:65kbp\",\"Chr11_core:263kbp\",\"Chr11_core:263kbp\",\"Chr8_5B:335kbp\",\"Chr7_core:1789kbp\",\"Chr7_core:1789kbp\",\"BES17:65kbp\",\"Chr8_5A:666kbp\",\"Chr1_core:609kbp\",\"Chr6_3A:1057kbp\",\"Chr7_core:1789kbp\",\"Chr9_3A:437kbp\",\"Chr11_3B:266kbp\",\"Chr11_core:263kbp\",\"Chr1_3A:2090kbp\",\"Chr11_core:263kbp\",\"Chr5_3B:167kbp\",\"Chr8_5A:666kbp\",\"Chr9_core:347kbp\",\"Chr9_3A:437kbp\",\"Chr8_5B:335kbp\",\"Chr1_3B:226kbp\",\"Chr11_3A:284kbp\",\"Chr7_core:1789kbp\",\"Chr3_core:820kbp\",\"Chr9_3A:437kbp\",\"Chr11_core:263kbp\",\"Chr7_core:1789kbp\",\"Chr8_5A:666kbp\",\"Chr11_core:263kbp\",\"Chr1_3A:43kbp\",\"Chr11_3B:266kbp\",\"Chr5_3B:286kbp\",\"Chr6_3A:1194kbp\",\"BES17:65kbp\",\"Chr11_3B:266kbp\",\"Chr8_5A:666kbp\",\"Chr1_3A:43kbp\",\"Chr1_3A:2090kbp\",\"Chr6_3A:1194kbp\",\"Chr6_3A:1239kbp\",\"Chr6_3A:1057kbp\",\"Chr11_core:263kbp\",\"Chr5_3B:167kbp\",\"Chr11_3B:266kbp\",\"Chr7_core:473kbp\",\"Chr7_core:1789kbp\",\"Chr5_3B:167kbp\",\"Chr8_5B:335kbp\",\"Chr7_core:1789kbp\",\"BES2:62kbp\",\"Chr11_core:263kbp\",\"Chr8_core:316kbp\",\"Chr8_core:316kbp\",\"Chr5_3B:167kbp\",\"Chr3_core:820kbp\",\"Chr8_5B:335kbp\",\"Chr1_3A:2090kbp\",\"Chr7_core:1789kbp\",\"Chr9_core:347kbp\",\"Chr9_3A:617kbp\",\"Chr1_3B:226kbp\",\"Chr11_3A:284kbp\",\"Chr5_3B:167kbp\",\"Chr5_3B:286kbp\",\"Chr9_5A:211kbp\",\"Chr9_3A:617kbp\",\"Chr3_core:820kbp\",\"Chr9_core:347kbp\",\"Chr9_5A:211kbp\",\"Chr1_3A:43kbp\",\"Chr1_3B:299kbp\",\"Chr9_core:347kbp\",\"Chr9_3A:437kbp\",\"Chr10_3A:1256kbp\",\"Chr1_3A:2090kbp\",\"Chr1_core:609kbp\",\"Chr3_core:820kbp\",\"Chr5_3B:286kbp\",\"Chr7_core:1789kbp\",\"Chr9_core:347kbp\",\"Chr1_3A:43kbp\",\"Chr7_core:1789kbp\",\"Chr9_3A:437kbp\",\"Chr10_3A:1256kbp\",\"Chr6_3A:861kbp\",\"Chr1_3A:43kbp\",\"Chr10_3A:1256kbp\",\"BES17:65kbp\",\"Chr3_core:820kbp\",\"Chr1_3A:43kbp\",\"Chr6_3A:1194kbp Chr6_3A:1239kbp\",\"Chr1_3B:226kbp\",\"Chr9_core:347kbp\",\"Chr10_3A:1256kbp\",\"Chr10_3A:1256kbp\",\"Chr6_3B:1000kbp\",\"Chr7_core:473kbp\",\"Chr9_3A:437kbp\",\"Chr6_3B:1000kbp\",\"Chr6_3A:71kbp Chr6_3A:861kbp Chr6_3A:1057kbp\",\"Chr1_3A:2090kbp\",\"Chr8_5A:666kbp\",\"Chr7_core:1789kbp\",\"Chr7_core:1789kbp\",\"Chr1_3B:372kbp\",\"Chr9_core:347kbp\",\"Chr5_3B:167kbp\",\"Chr6_3A:1194kbp Chr6_3A:1239kbp\",\"Chr9_3A:437kbp\",\"BES17:65kbp\",\"Chr6_3A:1057kbp Chr6_3A:1194kbp\",\"Chr8_3A:235kbp\",\"Chr11_core:263kbp\",\"Chr9_3A:437kbp\",\"Chr7_core:1789kbp\",\"Chr7_core:1789kbp\",\"Chr5_core:223kbp\",\"Chr11_core:263kbp\",\"Chr11_core:263kbp\",\"Chr5_core:223kbp\",\"Chr1_3A:43kbp\",\"Chr11_3B:266kbp\",\"Chr1_3A:43kbp\",\"Chr7_core:1789kbp\",\"Chr1_3B:372kbp\",\"Chr7_core:1789kbp\",\"Chr1_3B:372kbp\",\"Chr8_5A:666kbp\",\"Chr7_core:1789kbp\",\"Chr6_3A:1194kbp\",\"Chr8_3A:215kbp Chr8_3A:235kbp\",\"Chr9_3A:437kbp\",\"Chr11_core:263kbp\",\"Chr1_3B:372kbp\",\"Chr6_3B:1000kbp\",\"Chr5_3B:286kbp\",\"Chr6_3A:1057kbp\",\"Chr7_core:1789kbp\",\"Chr8_core:2124kbp\",\"Chr6_3B:1000kbp\",\"Chr11_3A:284kbp\",\"Chr3_5A:303kbp\",\"Chr1_3A:43kbp\",\"Chr11_3A:284kbp\",\"Chr9_3A:437kbp\",\"Chr7_core:1789kbp\",\"Chr3_core:820kbp\",\"Chr1_3B:372kbp\",\"Chr6_3A:1239kbp\",\"Chr8_core:316kbp\",\"Chr4_core:879kbp\",\"Chr6_3A:1194kbp Chr6_3A:1239kbp\",\"Chr6_3A:1194kbp\",\"Chr6_3A:1194kbp\",\"Chr9_core:347kbp\",\"Chr8_5A:666kbp\",\"Chr8_core:316kbp\",\"Chr5_core:223kbp\",\"Chr6_3A:1239kbp\",\"Chr8_5A:666kbp\",\"Chr8_5A:666kbp\",\"Chr1_core:609kbp\",\"Chr9_core:347kbp\",\"Chr11_core:263kbp\",\"Chr8_5B:335kbp\",\"Chr8_3A:215kbp Chr8_3A:235kbp\",\"Chr11_3A:497kbp Chr11_3A:784kbp\",\"Chr11_3A:284kbp\",\"Chr5_3B:286kbp\",\"Chr8_5B:335kbp\",\"Chr9_3A:617kbp\",\"Chr9_5A:211kbp\",\"Chr7_core:1933kbp\",\"Chr3_core:820kbp\",\"Chr1_3A:2090kbp\",\"Chr3_core:820kbp\",\"Chr9_core:347kbp\",\"Chr5_3B:286kbp\",\"Chr7_core:1789kbp\",\"Chr11_core:263kbp\",\"Chr11_core:263kbp\",\"Chr11_3B:266kbp\",\"Chr5_3B:286kbp\",\"Chr11_core:263kbp\",\"Chr9_3A:617kbp\",\"Chr7_core:1789kbp\",\"Chr8_3A:235kbp\",\"Chr11_3B:266kbp\",\"Chr1_3A:2090kbp\",\"Chr8_5B:335kbp\",\"Chr7_core:1789kbp\",\"Chr11_core:263kbp\",\"Chr6_3A:1057kbp\",\"Chr9_3A:617kbp\",\"Chr9_core:347kbp\",\"Chr6_3A:1239kbp\",\"Chr5_core:223kbp\",\"BES17:65kbp\",\"Chr7_core:1789kbp\",\"Chr1_3A:43kbp\",\"Chr1_3A:43kbp\",\"Chr11_3B:266kbp\",\"BES17:65kbp\",\"Chr7_core:1789kbp\",\"Chr8_core:2124kbp\",\"Chr5_core:223kbp\",\"Chr8_5B:335kbp\",\"Chr7_core:1789kbp\",\"BES17:65kbp\",\"Chr7_core:1789kbp\",\"Chr5_3B:167kbp\",\"Chr6_3A:1194kbp\",\"Chr5_3B:167kbp\",\"Chr5_3B:167kbp\",\"Chr6_3B:1000kbp\",\"Chr5_3B:286kbp\",\"Chr11_3A:497kbp\",\"Chr8_3A:215kbp Chr8_3A:235kbp\",\"Chr1_3A:43kbp\",\"Chr4_core:879kbp\",\"Chr11_3B:319kbp\",\"Chr1_3A:2090kbp\",\"Chr7_core:1789kbp\",\"Chr9_core:347kbp\",\"Chr11_3B:266kbp\",\"Chr8_5B:335kbp\",\"Chr9_core:347kbp\",\"Chr8_5B:335kbp\",\"Chr1_3A:2090kbp\",\"Chr5_3B:286kbp\",\"Chr9_3A:617kbp\",\"Chr5_3B:167kbp\",\"Chr1_3A:2090kbp\",\"Chr8_5A:666kbp\",\"Chr6_3A:1239kbp\",\"Chr6_3A:1057kbp\",\"Chr5_3B:286kbp\",\"Chr11_core:263kbp\",\"Chr6_3B:1000kbp\",\"Chr8_5B:335kbp\",\"Chr1_core:609kbp\",\"Chr11_core:263kbp\",\"Chr11_core:263kbp\",\"Chr6_3B:1000kbp\",\"Chr6_3A:1057kbp\",\"Chr6_3A:1194kbp\",\"Chr9_3A:617kbp\",\"Chr5_3B:167kbp\",\"Chr5_3B:286kbp\",\"Chr11_core:263kbp\",\"Chr5_3B:286kbp\",\"Chr6_3A:1194kbp\",\"Chr5_3B:286kbp\",\"Chr11_3B:266kbp\",\"Chr7_core:1789kbp\",\"Chr5_3B:167kbp\",\"Chr9_5A:211kbp\",\"Chr11_core:263kbp\",\"Chr7_core:1933kbp\",\"Chr9_core:347kbp\",\"Chr3_core:820kbp\",\"Chr5_3B:286kbp\",\"Chr9_core:347kbp\",\"BES17:65kbp\",\"Chr8_5B:335kbp\",\"Chr8_5B:335kbp\",\"Chr5_3B:286kbp\",\"BES17:65kbp\",\"Chr11_3A:284kbp\",\"Chr1_3B:226kbp\",\"Chr7_core:1789kbp\",\"Chr7_core:1789kbp\",\"Chr8_5B:335kbp\",\"Chr1_3A:2090kbp\",\"Chr8_5B:335kbp\",\"Chr7_core:1789kbp\",\"Chr11_core:263kbp\",\"Chr9_3A:617kbp\",\"Chr11_3B:266kbp\",\"Chr1_core:609kbp\",\"Chr9_3A:1341kbp\",\"Chr1_3B:226kbp\",\"Chr1_3B:226kbp\",\"Chr9_3A:617kbp\",\"Chr5_3B:286kbp\",\"Chr9_5A:211kbp\",\"Chr6_3A:1057kbp\",\"Chr7_core:1789kbp\",\"Chr10_3A:1256kbp\",\"Chr8_5A:666kbp\",\"Chr1_3A:43kbp\",\"Chr9_3A:617kbp\",\"Chr1_3B:372kbp\",\"Chr11_3B:266kbp\",\"Chr9_core:347kbp\",\"Chr6_3A:1194kbp\",\"Chr8_5A:666kbp\",\"Chr1_core:609kbp\"]]]}}},\"view\":{\"type\":\"object\",\"name\":\"CDSView\",\"id\":\"p1786\",\"attributes\":{\"filter\":{\"type\":\"object\",\"name\":\"AllIndices\",\"id\":\"p1787\"}}},\"glyph\":{\"type\":\"object\",\"name\":\"Scatter\",\"id\":\"p1782\",\"attributes\":{\"x\":{\"type\":\"field\",\"field\":\"x\"},\"y\":{\"type\":\"field\",\"field\":\"y\"},\"size\":{\"type\":\"value\",\"value\":9},\"line_color\":{\"type\":\"value\",\"value\":null},\"line_alpha\":{\"type\":\"value\",\"value\":0.4},\"fill_color\":{\"type\":\"field\",\"field\":\"c\"},\"fill_alpha\":{\"type\":\"value\",\"value\":0.4},\"hatch_alpha\":{\"type\":\"value\",\"value\":0.4}}},\"nonselection_glyph\":{\"type\":\"object\",\"name\":\"Scatter\",\"id\":\"p1783\",\"attributes\":{\"x\":{\"type\":\"field\",\"field\":\"x\"},\"y\":{\"type\":\"field\",\"field\":\"y\"},\"size\":{\"type\":\"value\",\"value\":9},\"line_color\":{\"type\":\"value\",\"value\":null},\"line_alpha\":{\"type\":\"value\",\"value\":0.1},\"fill_color\":{\"type\":\"field\",\"field\":\"c\"},\"fill_alpha\":{\"type\":\"value\",\"value\":0.1},\"hatch_alpha\":{\"type\":\"value\",\"value\":0.1}}},\"muted_glyph\":{\"type\":\"object\",\"name\":\"Scatter\",\"id\":\"p1784\",\"attributes\":{\"x\":{\"type\":\"field\",\"field\":\"x\"},\"y\":{\"type\":\"field\",\"field\":\"y\"},\"size\":{\"type\":\"value\",\"value\":9},\"line_color\":{\"type\":\"value\",\"value\":null},\"line_alpha\":{\"type\":\"value\",\"value\":0.2},\"fill_color\":{\"type\":\"field\",\"field\":\"c\"},\"fill_alpha\":{\"type\":\"value\",\"value\":0.2},\"hatch_alpha\":{\"type\":\"value\",\"value\":0.2}}}}}],\"toolbar\":{\"type\":\"object\",\"name\":\"Toolbar\",\"id\":\"p1755\",\"attributes\":{\"tools\":[{\"type\":\"object\",\"name\":\"PanTool\",\"id\":\"p1768\"},{\"type\":\"object\",\"name\":\"WheelZoomTool\",\"id\":\"p1769\",\"attributes\":{\"renderers\":\"auto\"}},{\"type\":\"object\",\"name\":\"BoxZoomTool\",\"id\":\"p1770\",\"attributes\":{\"overlay\":{\"type\":\"object\",\"name\":\"BoxAnnotation\",\"id\":\"p1771\",\"attributes\":{\"syncable\":false,\"level\":\"overlay\",\"visible\":false,\"left_units\":\"canvas\",\"right_units\":\"canvas\",\"top_units\":\"canvas\",\"bottom_units\":\"canvas\",\"line_color\":\"black\",\"line_alpha\":1.0,\"line_width\":2,\"line_dash\":[4,4],\"fill_color\":\"lightgrey\",\"fill_alpha\":0.5}}}},{\"type\":\"object\",\"name\":\"SaveTool\",\"id\":\"p1772\"},{\"type\":\"object\",\"name\":\"ResetTool\",\"id\":\"p1773\"},{\"type\":\"object\",\"name\":\"HelpTool\",\"id\":\"p1774\"},{\"type\":\"object\",\"name\":\"HoverTool\",\"id\":\"p1775\",\"attributes\":{\"renderers\":\"auto\",\"tooltips\":\"@h\"}}]}},\"left\":[{\"type\":\"object\",\"name\":\"LinearAxis\",\"id\":\"p1763\",\"attributes\":{\"ticker\":{\"type\":\"object\",\"name\":\"BasicTicker\",\"id\":\"p1764\",\"attributes\":{\"mantissas\":[1,2,5]}},\"formatter\":{\"type\":\"object\",\"name\":\"BasicTickFormatter\",\"id\":\"p1765\"},\"axis_label\":\"Fixed\",\"major_label_policy\":{\"type\":\"object\",\"name\":\"AllLabels\",\"id\":\"p1766\"}}}],\"below\":[{\"type\":\"object\",\"name\":\"LinearAxis\",\"id\":\"p1758\",\"attributes\":{\"ticker\":{\"type\":\"object\",\"name\":\"BasicTicker\",\"id\":\"p1759\",\"attributes\":{\"mantissas\":[1,2,5]}},\"formatter\":{\"type\":\"object\",\"name\":\"BasicTickFormatter\",\"id\":\"p1760\"},\"axis_label\":\"Reference\",\"major_label_policy\":{\"type\":\"object\",\"name\":\"AllLabels\",\"id\":\"p1761\"}}}],\"center\":[{\"type\":\"object\",\"name\":\"Grid\",\"id\":\"p1762\",\"attributes\":{\"axis\":{\"id\":\"p1758\"}}},{\"type\":\"object\",\"name\":\"Grid\",\"id\":\"p1767\",\"attributes\":{\"dimension\":1,\"axis\":{\"id\":\"p1763\"}}}]}}]}};\n  const render_items = [{\"docid\":\"aeae477c-c700-49c5-b1f5-452885a8683e\",\"roots\":{\"p1746\":\"afe11513-91e1-4293-822f-cb50d4792192\"},\"root_ids\":[\"p1746\"],\"notebook_comms_target\":\"p1788\"}];\n  root.Bokeh.embed.embed_items_notebook(docs_json, render_items);\n  }\n  if (root.Bokeh !== undefined) {\n    embed_document(root);\n  } else {\n    let attempts = 0;\n    const timer = setInterval(function(root) {\n      if (root.Bokeh !== undefined) {\n        clearInterval(timer);\n        embed_document(root);\n      } else {\n        attempts++;\n        if (attempts > 100) {\n          clearInterval(timer);\n          console.log(\"Bokeh: ERROR: Unable to run BokehJS code because BokehJS library is missing\");\n        }\n      }\n    }, 10, root)\n  }\n})(window);",
      "application/vnd.bokehjs_exec.v0+json": ""
     },
     "metadata": {
      "application/vnd.bokehjs_exec.v0+json": {
       "id": "p1746"
      }
     },
     "output_type": "display_data"
    },
    {
     "data": {
      "text/html": [
       "<p><code>&lt;Bokeh Notebook handle for <strong>In[54]</strong>&gt;</code></p>"
      ],
      "text/plain": [
       "<bokeh.io.notebook.CommsHandle at 0x2ab2f044b1a0>"
      ]
     },
     "execution_count": 54,
     "metadata": {},
     "output_type": "execute_result"
    }
   ],
   "source": [
    "f = figure(title=\"Comparison of distance deviations\", x_axis_label=\"Reference\", y_axis_label=\"Fixed\", \n",
    "           tooltips=\"@h\")\n",
    "\n",
    "f.scatter(x=\"x\", y=\"y\", line_color=None, fill_color=\"c\", size=9, alpha=0.4, \n",
    "          source=ColumnDataSource(data={\n",
    "                \"x\": [x[0] for x in combined_def], \n",
    "                \"y\": [x[1] for x in combined_def],\n",
    "                \"c\": [x[2] for x in combined_def],\n",
    "                \"h\": [x[3] for x in combined_def]\n",
    "            }\n",
    "                ))\n",
    "\n",
    "show(f, notebook_handle=True)"
   ]
  },
  {
   "cell_type": "markdown",
   "metadata": {},
   "source": [
    "## extract the \"correctly\" closed gaps"
   ]
  },
  {
   "cell_type": "code",
   "execution_count": 69,
   "metadata": {},
   "outputs": [
    {
     "name": "stdout",
     "output_type": "stream",
     "text": [
      "Closed gaps\tsupporting reads\n",
      "BES17:65kbp 7\n",
      "Chr11_3A:284kbp 8\n",
      "Chr11_core:263kbp 20\n",
      "Chr1_3A:2090kbp 19\n",
      "Chr1_3A:43kbp 16\n",
      "Chr1_3B:226kbp 16\n",
      "Chr1_3B:299kbp 5\n",
      "Chr1_3B:372kbp 7\n",
      "Chr5_3B:167kbp 15\n",
      "Chr5_3B:286kbp 24\n",
      "Chr6_3A:1057kbp 12\n",
      "Chr6_3B:1000kbp 8\n",
      "Chr7_core:1789kbp 21\n",
      "Chr8_5A:666kbp 15\n",
      "Chr8_5B:335kbp 25\n",
      "Chr9_3A:437kbp 8\n",
      "Chr9_3A:617kbp 15\n",
      "Chr9_5A:211kbp 7\n",
      "closed 18 gaps in total\n",
      "\n",
      "Improved gaps\tsupporting reads\n",
      "Chr10_3A:1256kbp 9\n",
      "Chr1_core:609kbp 8\n",
      "Chr5_core:223kbp 6\n",
      "improved 3 gaps in total\n"
     ]
    }
   ],
   "source": [
    "closed_gaps = {}\n",
    "improved_gaps = {}\n",
    "\n",
    "GAP_IS_FIXED_MAX_DEVIATION = 5000\n",
    "GAP_IS_FIXED_MIN_READS = 5\n",
    "GAP_IS_IMPROVED_MIN_IMPROVEMENT = 5000\n",
    "\n",
    "for ref_dev, fix_dev, color, gap, read_name in combined_def:\n",
    "    if len(gap.split()) == 1:\n",
    "        if abs(fix_dev) < GAP_IS_FIXED_MAX_DEVIATION:\n",
    "            if not gap in closed_gaps:\n",
    "                closed_gaps[gap] = []\n",
    "            closed_gaps[gap].append(read_name)\n",
    "        if abs(fix_dev) + GAP_IS_IMPROVED_MIN_IMPROVEMENT <= abs(ref_dev):\n",
    "            if not gap in improved_gaps:\n",
    "                improved_gaps[gap] = []\n",
    "            improved_gaps[gap].append(read_name)\n",
    "\n",
    "for gap, reads in list(closed_gaps.items()):\n",
    "    if len(reads) < GAP_IS_FIXED_MIN_READS:\n",
    "        del closed_gaps[gap]\n",
    "\n",
    "for gap, reads in list(improved_gaps.items()):\n",
    "    if len(reads) < GAP_IS_FIXED_MIN_READS:\n",
    "        del improved_gaps[gap]\n",
    "\n",
    "for gap in closed_gaps.keys():\n",
    "    if gap in improved_gaps:\n",
    "        del improved_gaps[gap]\n",
    "\n",
    "\n",
    "\n",
    "\n",
    "print(\"Closed gaps\", \"supporting reads\", sep=\"\\t\")\n",
    "for gap, reads in sorted(closed_gaps.items()):\n",
    "    print(gap, len(reads))\n",
    "print(\"closed\", len(closed_gaps), \"gaps in total\")\n",
    "\n",
    "print()\n",
    "print(\"Improved gaps\", \"supporting reads\", sep=\"\\t\")\n",
    "for gap, reads in sorted(improved_gaps.items()):\n",
    "    print(gap, len(reads))\n",
    "print(\"improved\", len(improved_gaps), \"gaps in total\")"
   ]
  }
 ],
 "metadata": {
  "kernelspec": {
   "display_name": "Python 3 (ipykernel)",
   "language": "python",
   "name": "python3"
  },
  "language_info": {
   "codemirror_mode": {
    "name": "ipython",
    "version": 3
   },
   "file_extension": ".py",
   "mimetype": "text/x-python",
   "name": "python",
   "nbconvert_exporter": "python",
   "pygments_lexer": "ipython3",
   "version": "3.12.0"
  }
 },
 "nbformat": 4,
 "nbformat_minor": 2
}
